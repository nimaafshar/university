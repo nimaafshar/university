{
  "nbformat": 4,
  "nbformat_minor": 0,
  "metadata": {
    "colab": {
      "name": "Bank.ipynb",
      "provenance": [],
      "collapsed_sections": [],
      "toc_visible": true
    },
    "kernelspec": {
      "name": "python3",
      "display_name": "Python 3"
    },
    "accelerator": "GPU"
  },
  "cells": [
    {
      "cell_type": "code",
      "metadata": {
        "id": "tHGWBgIlAo1S",
        "colab": {
          "base_uri": "https://localhost:8080/"
        },
        "outputId": "cfca49cd-3056-4a20-ba8b-0121a472b496"
      },
      "source": [
        "from google.colab import drive\n",
        "drive.mount('/content/drive')"
      ],
      "execution_count": null,
      "outputs": [
        {
          "output_type": "stream",
          "text": [
            "Drive already mounted at /content/drive; to attempt to forcibly remount, call drive.mount(\"/content/drive\", force_remount=True).\n"
          ],
          "name": "stdout"
        }
      ]
    },
    {
      "cell_type": "markdown",
      "metadata": {
        "id": "BC0YhjW-j1UK"
      },
      "source": [
        "# importing libraries"
      ]
    },
    {
      "cell_type": "code",
      "metadata": {
        "id": "0fiMoTc0d8C-"
      },
      "source": [
        "import numpy as np\n",
        "import matplotlib.pyplot as plt\n",
        "import pandas as pd\n",
        "import pandas_profiling "
      ],
      "execution_count": null,
      "outputs": []
    },
    {
      "cell_type": "markdown",
      "metadata": {
        "id": "DT2c5Upnj-nD"
      },
      "source": [
        "# importing dataset"
      ]
    },
    {
      "cell_type": "code",
      "metadata": {
        "id": "JFIr6r5LeXBJ",
        "colab": {
          "base_uri": "https://localhost:8080/",
          "height": 195
        },
        "outputId": "ac623979-9441-4b3c-992d-5a869fb1e358"
      },
      "source": [
        "dataset = pd.read_csv('./drive/MyDrive/Proj1_Data.csv')\n",
        "\n",
        "dataset.info()\n"
      ],
      "execution_count": null,
      "outputs": [
        {
          "output_type": "error",
          "ename": "NameError",
          "evalue": "ignored",
          "traceback": [
            "\u001b[0;31m---------------------------------------------------------------------------\u001b[0m",
            "\u001b[0;31mNameError\u001b[0m                                 Traceback (most recent call last)",
            "\u001b[0;32m<ipython-input-1-55922cca5344>\u001b[0m in \u001b[0;36m<module>\u001b[0;34m()\u001b[0m\n\u001b[0;32m----> 1\u001b[0;31m \u001b[0mdataset\u001b[0m \u001b[0;34m=\u001b[0m \u001b[0mpd\u001b[0m\u001b[0;34m.\u001b[0m\u001b[0mread_csv\u001b[0m\u001b[0;34m(\u001b[0m\u001b[0;34m'./drive/MyDrive/Proj1_Data.csv'\u001b[0m\u001b[0;34m)\u001b[0m\u001b[0;34m\u001b[0m\u001b[0;34m\u001b[0m\u001b[0m\n\u001b[0m\u001b[1;32m      2\u001b[0m \u001b[0;34m\u001b[0m\u001b[0m\n\u001b[1;32m      3\u001b[0m \u001b[0mdataset\u001b[0m\u001b[0;34m.\u001b[0m\u001b[0minfo\u001b[0m\u001b[0;34m(\u001b[0m\u001b[0;34m)\u001b[0m\u001b[0;34m\u001b[0m\u001b[0;34m\u001b[0m\u001b[0m\n",
            "\u001b[0;31mNameError\u001b[0m: name 'pd' is not defined"
          ]
        }
      ]
    },
    {
      "cell_type": "markdown",
      "metadata": {
        "id": "GmMxNRySY_3W"
      },
      "source": [
        "# Remove unuseful columns\n"
      ]
    },
    {
      "cell_type": "code",
      "metadata": {
        "id": "3fWr_aJuZPNt",
        "colab": {
          "base_uri": "https://localhost:8080/",
          "height": 451
        },
        "outputId": "b65743d7-ba43-4ac5-a8a5-89a362840f5f"
      },
      "source": [
        "dataset.drop(columns=['RowNumber','Surname'],inplace=True)\n",
        "dataset.set_index('CustomerId',inplace=True)\n",
        "dataset"
      ],
      "execution_count": null,
      "outputs": [
        {
          "output_type": "execute_result",
          "data": {
            "text/html": [
              "<div>\n",
              "<style scoped>\n",
              "    .dataframe tbody tr th:only-of-type {\n",
              "        vertical-align: middle;\n",
              "    }\n",
              "\n",
              "    .dataframe tbody tr th {\n",
              "        vertical-align: top;\n",
              "    }\n",
              "\n",
              "    .dataframe thead th {\n",
              "        text-align: right;\n",
              "    }\n",
              "</style>\n",
              "<table border=\"1\" class=\"dataframe\">\n",
              "  <thead>\n",
              "    <tr style=\"text-align: right;\">\n",
              "      <th></th>\n",
              "      <th>CreditScore</th>\n",
              "      <th>Geography</th>\n",
              "      <th>Gender</th>\n",
              "      <th>Age</th>\n",
              "      <th>Tenure</th>\n",
              "      <th>Balance</th>\n",
              "      <th>NumOfProducts</th>\n",
              "      <th>HasCrCard</th>\n",
              "      <th>IsActiveMember</th>\n",
              "      <th>EstimatedSalary</th>\n",
              "      <th>Exited</th>\n",
              "    </tr>\n",
              "    <tr>\n",
              "      <th>CustomerId</th>\n",
              "      <th></th>\n",
              "      <th></th>\n",
              "      <th></th>\n",
              "      <th></th>\n",
              "      <th></th>\n",
              "      <th></th>\n",
              "      <th></th>\n",
              "      <th></th>\n",
              "      <th></th>\n",
              "      <th></th>\n",
              "      <th></th>\n",
              "    </tr>\n",
              "  </thead>\n",
              "  <tbody>\n",
              "    <tr>\n",
              "      <th>15634602</th>\n",
              "      <td>619</td>\n",
              "      <td>France</td>\n",
              "      <td>Female</td>\n",
              "      <td>42</td>\n",
              "      <td>2</td>\n",
              "      <td>0.00</td>\n",
              "      <td>1</td>\n",
              "      <td>1</td>\n",
              "      <td>1</td>\n",
              "      <td>101348.88</td>\n",
              "      <td>1</td>\n",
              "    </tr>\n",
              "    <tr>\n",
              "      <th>15647311</th>\n",
              "      <td>608</td>\n",
              "      <td>Spain</td>\n",
              "      <td>Female</td>\n",
              "      <td>41</td>\n",
              "      <td>1</td>\n",
              "      <td>83807.86</td>\n",
              "      <td>1</td>\n",
              "      <td>0</td>\n",
              "      <td>1</td>\n",
              "      <td>112542.58</td>\n",
              "      <td>0</td>\n",
              "    </tr>\n",
              "    <tr>\n",
              "      <th>15619304</th>\n",
              "      <td>502</td>\n",
              "      <td>France</td>\n",
              "      <td>Female</td>\n",
              "      <td>42</td>\n",
              "      <td>8</td>\n",
              "      <td>159660.80</td>\n",
              "      <td>3</td>\n",
              "      <td>1</td>\n",
              "      <td>0</td>\n",
              "      <td>113931.57</td>\n",
              "      <td>1</td>\n",
              "    </tr>\n",
              "    <tr>\n",
              "      <th>15701354</th>\n",
              "      <td>699</td>\n",
              "      <td>France</td>\n",
              "      <td>Female</td>\n",
              "      <td>39</td>\n",
              "      <td>1</td>\n",
              "      <td>0.00</td>\n",
              "      <td>2</td>\n",
              "      <td>0</td>\n",
              "      <td>0</td>\n",
              "      <td>93826.63</td>\n",
              "      <td>0</td>\n",
              "    </tr>\n",
              "    <tr>\n",
              "      <th>15737888</th>\n",
              "      <td>850</td>\n",
              "      <td>Spain</td>\n",
              "      <td>Female</td>\n",
              "      <td>43</td>\n",
              "      <td>2</td>\n",
              "      <td>125510.82</td>\n",
              "      <td>1</td>\n",
              "      <td>1</td>\n",
              "      <td>1</td>\n",
              "      <td>79084.10</td>\n",
              "      <td>0</td>\n",
              "    </tr>\n",
              "    <tr>\n",
              "      <th>...</th>\n",
              "      <td>...</td>\n",
              "      <td>...</td>\n",
              "      <td>...</td>\n",
              "      <td>...</td>\n",
              "      <td>...</td>\n",
              "      <td>...</td>\n",
              "      <td>...</td>\n",
              "      <td>...</td>\n",
              "      <td>...</td>\n",
              "      <td>...</td>\n",
              "      <td>...</td>\n",
              "    </tr>\n",
              "    <tr>\n",
              "      <th>15606229</th>\n",
              "      <td>771</td>\n",
              "      <td>France</td>\n",
              "      <td>Male</td>\n",
              "      <td>39</td>\n",
              "      <td>5</td>\n",
              "      <td>0.00</td>\n",
              "      <td>2</td>\n",
              "      <td>1</td>\n",
              "      <td>0</td>\n",
              "      <td>96270.64</td>\n",
              "      <td>0</td>\n",
              "    </tr>\n",
              "    <tr>\n",
              "      <th>15569892</th>\n",
              "      <td>516</td>\n",
              "      <td>France</td>\n",
              "      <td>Male</td>\n",
              "      <td>35</td>\n",
              "      <td>10</td>\n",
              "      <td>57369.61</td>\n",
              "      <td>1</td>\n",
              "      <td>1</td>\n",
              "      <td>1</td>\n",
              "      <td>101699.77</td>\n",
              "      <td>0</td>\n",
              "    </tr>\n",
              "    <tr>\n",
              "      <th>15584532</th>\n",
              "      <td>709</td>\n",
              "      <td>France</td>\n",
              "      <td>Female</td>\n",
              "      <td>36</td>\n",
              "      <td>7</td>\n",
              "      <td>0.00</td>\n",
              "      <td>1</td>\n",
              "      <td>0</td>\n",
              "      <td>1</td>\n",
              "      <td>42085.58</td>\n",
              "      <td>1</td>\n",
              "    </tr>\n",
              "    <tr>\n",
              "      <th>15682355</th>\n",
              "      <td>772</td>\n",
              "      <td>Germany</td>\n",
              "      <td>Male</td>\n",
              "      <td>42</td>\n",
              "      <td>3</td>\n",
              "      <td>75075.31</td>\n",
              "      <td>2</td>\n",
              "      <td>1</td>\n",
              "      <td>0</td>\n",
              "      <td>92888.52</td>\n",
              "      <td>1</td>\n",
              "    </tr>\n",
              "    <tr>\n",
              "      <th>15628319</th>\n",
              "      <td>792</td>\n",
              "      <td>France</td>\n",
              "      <td>Female</td>\n",
              "      <td>28</td>\n",
              "      <td>4</td>\n",
              "      <td>130142.79</td>\n",
              "      <td>1</td>\n",
              "      <td>1</td>\n",
              "      <td>0</td>\n",
              "      <td>38190.78</td>\n",
              "      <td>0</td>\n",
              "    </tr>\n",
              "  </tbody>\n",
              "</table>\n",
              "<p>10000 rows × 11 columns</p>\n",
              "</div>"
            ],
            "text/plain": [
              "            CreditScore Geography  ... EstimatedSalary  Exited\n",
              "CustomerId                         ...                        \n",
              "15634602            619    France  ...       101348.88       1\n",
              "15647311            608     Spain  ...       112542.58       0\n",
              "15619304            502    France  ...       113931.57       1\n",
              "15701354            699    France  ...        93826.63       0\n",
              "15737888            850     Spain  ...        79084.10       0\n",
              "...                 ...       ...  ...             ...     ...\n",
              "15606229            771    France  ...        96270.64       0\n",
              "15569892            516    France  ...       101699.77       0\n",
              "15584532            709    France  ...        42085.58       1\n",
              "15682355            772   Germany  ...        92888.52       1\n",
              "15628319            792    France  ...        38190.78       0\n",
              "\n",
              "[10000 rows x 11 columns]"
            ]
          },
          "metadata": {
            "tags": []
          },
          "execution_count": 171
        }
      ]
    },
    {
      "cell_type": "markdown",
      "metadata": {
        "id": "O1nBZzJQTDU7"
      },
      "source": [
        "# Encoding categorical data"
      ]
    },
    {
      "cell_type": "code",
      "metadata": {
        "id": "Ts5CoA-hTD1d"
      },
      "source": [
        "from sklearn.preprocessing import OneHotEncoder\n",
        "onehot_encoder = OneHotEncoder(handle_unknown='ignore')\n",
        "onehot_dataset = onehot_encoder.fit_transform(dataset[['Geography','Gender']])"
      ],
      "execution_count": null,
      "outputs": []
    },
    {
      "cell_type": "code",
      "metadata": {
        "id": "W3RNR3hna6UA"
      },
      "source": [
        "onehot_df = pd.DataFrame.sparse.from_spmatrix(onehot_dataset)"
      ],
      "execution_count": null,
      "outputs": []
    },
    {
      "cell_type": "code",
      "metadata": {
        "id": "7jaFCUJabOz5"
      },
      "source": [
        "onehot_df.set_index(dataset.index,inplace=True)\n",
        "dataset = dataset.join(onehot_df)\n"
      ],
      "execution_count": null,
      "outputs": []
    },
    {
      "cell_type": "code",
      "metadata": {
        "id": "eC0AcNWsbv3m"
      },
      "source": [
        "dataset.drop(columns=['Geography','Gender'],inplace=True)"
      ],
      "execution_count": null,
      "outputs": []
    },
    {
      "cell_type": "markdown",
      "metadata": {
        "id": "Xgw3x67xSwbd"
      },
      "source": [
        "# Taking care of missing data\n",
        "since we have no missing data, we go right into feature scaling"
      ]
    },
    {
      "cell_type": "markdown",
      "metadata": {
        "id": "Um-Gs9-XdhgH"
      },
      "source": [
        "## Feature Scaling"
      ]
    },
    {
      "cell_type": "code",
      "metadata": {
        "id": "0mxor969e11u"
      },
      "source": [
        "y = dataset['Exited'].copy()\n",
        "X = dataset.drop(columns=['Exited'])"
      ],
      "execution_count": null,
      "outputs": []
    },
    {
      "cell_type": "code",
      "metadata": {
        "id": "NWv3teB-SOzU",
        "colab": {
          "base_uri": "https://localhost:8080/",
          "height": 225
        },
        "outputId": "02f38c13-2eb0-4faf-f70d-4458e93ff565"
      },
      "source": [
        "from sklearn.preprocessing import MinMaxScaler\n",
        "scaler = MinMaxScaler()\n",
        "X = pd.DataFrame(data=scaler.fit_transform(X.values),index=X.index)\n",
        "X.head(5)\n"
      ],
      "execution_count": null,
      "outputs": [
        {
          "output_type": "execute_result",
          "data": {
            "text/html": [
              "<div>\n",
              "<style scoped>\n",
              "    .dataframe tbody tr th:only-of-type {\n",
              "        vertical-align: middle;\n",
              "    }\n",
              "\n",
              "    .dataframe tbody tr th {\n",
              "        vertical-align: top;\n",
              "    }\n",
              "\n",
              "    .dataframe thead th {\n",
              "        text-align: right;\n",
              "    }\n",
              "</style>\n",
              "<table border=\"1\" class=\"dataframe\">\n",
              "  <thead>\n",
              "    <tr style=\"text-align: right;\">\n",
              "      <th></th>\n",
              "      <th>0</th>\n",
              "      <th>1</th>\n",
              "      <th>2</th>\n",
              "      <th>3</th>\n",
              "      <th>4</th>\n",
              "      <th>5</th>\n",
              "      <th>6</th>\n",
              "      <th>7</th>\n",
              "      <th>8</th>\n",
              "      <th>9</th>\n",
              "      <th>10</th>\n",
              "      <th>11</th>\n",
              "      <th>12</th>\n",
              "    </tr>\n",
              "    <tr>\n",
              "      <th>CustomerId</th>\n",
              "      <th></th>\n",
              "      <th></th>\n",
              "      <th></th>\n",
              "      <th></th>\n",
              "      <th></th>\n",
              "      <th></th>\n",
              "      <th></th>\n",
              "      <th></th>\n",
              "      <th></th>\n",
              "      <th></th>\n",
              "      <th></th>\n",
              "      <th></th>\n",
              "      <th></th>\n",
              "    </tr>\n",
              "  </thead>\n",
              "  <tbody>\n",
              "    <tr>\n",
              "      <th>15634602</th>\n",
              "      <td>0.538</td>\n",
              "      <td>0.324324</td>\n",
              "      <td>0.2</td>\n",
              "      <td>0.000000</td>\n",
              "      <td>0.000000</td>\n",
              "      <td>1.0</td>\n",
              "      <td>1.0</td>\n",
              "      <td>0.506735</td>\n",
              "      <td>1.0</td>\n",
              "      <td>0.0</td>\n",
              "      <td>0.0</td>\n",
              "      <td>1.0</td>\n",
              "      <td>0.0</td>\n",
              "    </tr>\n",
              "    <tr>\n",
              "      <th>15647311</th>\n",
              "      <td>0.516</td>\n",
              "      <td>0.310811</td>\n",
              "      <td>0.1</td>\n",
              "      <td>0.334031</td>\n",
              "      <td>0.000000</td>\n",
              "      <td>0.0</td>\n",
              "      <td>1.0</td>\n",
              "      <td>0.562709</td>\n",
              "      <td>0.0</td>\n",
              "      <td>0.0</td>\n",
              "      <td>1.0</td>\n",
              "      <td>1.0</td>\n",
              "      <td>0.0</td>\n",
              "    </tr>\n",
              "    <tr>\n",
              "      <th>15619304</th>\n",
              "      <td>0.304</td>\n",
              "      <td>0.324324</td>\n",
              "      <td>0.8</td>\n",
              "      <td>0.636357</td>\n",
              "      <td>0.666667</td>\n",
              "      <td>1.0</td>\n",
              "      <td>0.0</td>\n",
              "      <td>0.569654</td>\n",
              "      <td>1.0</td>\n",
              "      <td>0.0</td>\n",
              "      <td>0.0</td>\n",
              "      <td>1.0</td>\n",
              "      <td>0.0</td>\n",
              "    </tr>\n",
              "    <tr>\n",
              "      <th>15701354</th>\n",
              "      <td>0.698</td>\n",
              "      <td>0.283784</td>\n",
              "      <td>0.1</td>\n",
              "      <td>0.000000</td>\n",
              "      <td>0.333333</td>\n",
              "      <td>0.0</td>\n",
              "      <td>0.0</td>\n",
              "      <td>0.469120</td>\n",
              "      <td>1.0</td>\n",
              "      <td>0.0</td>\n",
              "      <td>0.0</td>\n",
              "      <td>1.0</td>\n",
              "      <td>0.0</td>\n",
              "    </tr>\n",
              "    <tr>\n",
              "      <th>15737888</th>\n",
              "      <td>1.000</td>\n",
              "      <td>0.337838</td>\n",
              "      <td>0.2</td>\n",
              "      <td>0.500246</td>\n",
              "      <td>0.000000</td>\n",
              "      <td>1.0</td>\n",
              "      <td>1.0</td>\n",
              "      <td>0.395400</td>\n",
              "      <td>0.0</td>\n",
              "      <td>0.0</td>\n",
              "      <td>1.0</td>\n",
              "      <td>1.0</td>\n",
              "      <td>0.0</td>\n",
              "    </tr>\n",
              "  </tbody>\n",
              "</table>\n",
              "</div>"
            ],
            "text/plain": [
              "               0         1    2         3         4   ...   8    9    10   11   12\n",
              "CustomerId                                            ...                         \n",
              "15634602    0.538  0.324324  0.2  0.000000  0.000000  ...  1.0  0.0  0.0  1.0  0.0\n",
              "15647311    0.516  0.310811  0.1  0.334031  0.000000  ...  0.0  0.0  1.0  1.0  0.0\n",
              "15619304    0.304  0.324324  0.8  0.636357  0.666667  ...  1.0  0.0  0.0  1.0  0.0\n",
              "15701354    0.698  0.283784  0.1  0.000000  0.333333  ...  1.0  0.0  0.0  1.0  0.0\n",
              "15737888    1.000  0.337838  0.2  0.500246  0.000000  ...  0.0  0.0  1.0  1.0  0.0\n",
              "\n",
              "[5 rows x 13 columns]"
            ]
          },
          "metadata": {
            "tags": []
          },
          "execution_count": 177
        }
      ]
    },
    {
      "cell_type": "markdown",
      "metadata": {
        "id": "zNKD2D8y6ovD"
      },
      "source": [
        "# Spliting data to test and train\n"
      ]
    },
    {
      "cell_type": "code",
      "metadata": {
        "id": "PJ3NuD956uHg"
      },
      "source": [
        "from sklearn.model_selection import train_test_split\n",
        "X_train, X_test, y_train, y_test = train_test_split(X, y, test_size=0.2)"
      ],
      "execution_count": null,
      "outputs": []
    },
    {
      "cell_type": "markdown",
      "metadata": {
        "id": "6y3ea9cYaibb"
      },
      "source": [
        "# Defining the neural network model\n",
        "\n",
        "\n",
        "\n",
        "\n",
        "\n"
      ]
    },
    {
      "cell_type": "code",
      "metadata": {
        "id": "lLrI3bNIao16"
      },
      "source": [
        "from keras.models import Sequential\n",
        "from keras.layers import Dense, Dropout\n",
        "from keras.utils import to_categorical \n",
        "from keras.optimizers import SGD"
      ],
      "execution_count": null,
      "outputs": []
    },
    {
      "cell_type": "code",
      "metadata": {
        "id": "6RiAG1WOUOUH"
      },
      "source": [
        "model = Sequential()\n",
        "model.add(Dense(32,activation='relu',input_dim=13))\n",
        "model.add(Dense(64,activation='relu'))\n",
        "model.add(Dropout(0.5))\n",
        "model.add(Dense(64,activation='relu'))\n",
        "model.add(Dropout(0.5))\n",
        "model.add(Dense(16,activation='relu'))\n",
        "model.add(Dense(16,activation='relu'))\n",
        "model.add(Dense(1,activation='sigmoid'))"
      ],
      "execution_count": null,
      "outputs": []
    },
    {
      "cell_type": "code",
      "metadata": {
        "id": "eFaFUUit2GCd"
      },
      "source": [
        "sgd = SGD(lr=0.05, momentum=0.6)\n",
        "model.compile(optimizer=sgd, \n",
        "              loss='binary_crossentropy', \n",
        "              metrics=['accuracy'])"
      ],
      "execution_count": null,
      "outputs": []
    },
    {
      "cell_type": "code",
      "metadata": {
        "id": "FHyLlAbV1SQc",
        "colab": {
          "base_uri": "https://localhost:8080/"
        },
        "outputId": "1ee8ea11-a258-4fd5-f534-101458beed9f"
      },
      "source": [
        "history = model.fit(X_train,y_train,\n",
        "          batch_size=16,\n",
        "          epochs=200,\n",
        "          validation_data=(X_test,y_test),\n",
        "          shuffle=True)"
      ],
      "execution_count": null,
      "outputs": [
        {
          "output_type": "stream",
          "text": [
            "Epoch 1/200\n",
            "500/500 [==============================] - 1s 3ms/step - loss: 0.4978 - accuracy: 0.7952 - val_loss: 0.4877 - val_accuracy: 0.7895\n",
            "Epoch 2/200\n",
            "500/500 [==============================] - 1s 3ms/step - loss: 0.4841 - accuracy: 0.7980 - val_loss: 0.4721 - val_accuracy: 0.7895\n",
            "Epoch 3/200\n",
            "500/500 [==============================] - 1s 3ms/step - loss: 0.4685 - accuracy: 0.7983 - val_loss: 0.4498 - val_accuracy: 0.7895\n",
            "Epoch 4/200\n",
            "500/500 [==============================] - 1s 3ms/step - loss: 0.4552 - accuracy: 0.7966 - val_loss: 0.4379 - val_accuracy: 0.7900\n",
            "Epoch 5/200\n",
            "500/500 [==============================] - 1s 2ms/step - loss: 0.4430 - accuracy: 0.8066 - val_loss: 0.4214 - val_accuracy: 0.8170\n",
            "Epoch 6/200\n",
            "500/500 [==============================] - 1s 3ms/step - loss: 0.4365 - accuracy: 0.8131 - val_loss: 0.4094 - val_accuracy: 0.8330\n",
            "Epoch 7/200\n",
            "500/500 [==============================] - 1s 3ms/step - loss: 0.4322 - accuracy: 0.8215 - val_loss: 0.4138 - val_accuracy: 0.8310\n",
            "Epoch 8/200\n",
            "500/500 [==============================] - 1s 3ms/step - loss: 0.4195 - accuracy: 0.8265 - val_loss: 0.4182 - val_accuracy: 0.8195\n",
            "Epoch 9/200\n",
            "500/500 [==============================] - 1s 3ms/step - loss: 0.4207 - accuracy: 0.8241 - val_loss: 0.4095 - val_accuracy: 0.8325\n",
            "Epoch 10/200\n",
            "500/500 [==============================] - 1s 3ms/step - loss: 0.4150 - accuracy: 0.8264 - val_loss: 0.3952 - val_accuracy: 0.8385\n",
            "Epoch 11/200\n",
            "500/500 [==============================] - 1s 3ms/step - loss: 0.4086 - accuracy: 0.8276 - val_loss: 0.3906 - val_accuracy: 0.8440\n",
            "Epoch 12/200\n",
            "500/500 [==============================] - 1s 3ms/step - loss: 0.4014 - accuracy: 0.8304 - val_loss: 0.3705 - val_accuracy: 0.8415\n",
            "Epoch 13/200\n",
            "500/500 [==============================] - 1s 3ms/step - loss: 0.3928 - accuracy: 0.8336 - val_loss: 0.3676 - val_accuracy: 0.8555\n",
            "Epoch 14/200\n",
            "500/500 [==============================] - 1s 3ms/step - loss: 0.3854 - accuracy: 0.8457 - val_loss: 0.3571 - val_accuracy: 0.8535\n",
            "Epoch 15/200\n",
            "500/500 [==============================] - 1s 3ms/step - loss: 0.3834 - accuracy: 0.8401 - val_loss: 0.3516 - val_accuracy: 0.8545\n",
            "Epoch 16/200\n",
            "500/500 [==============================] - 1s 3ms/step - loss: 0.3731 - accuracy: 0.8472 - val_loss: 0.3520 - val_accuracy: 0.8390\n",
            "Epoch 17/200\n",
            "500/500 [==============================] - 1s 2ms/step - loss: 0.3716 - accuracy: 0.8470 - val_loss: 0.3410 - val_accuracy: 0.8625\n",
            "Epoch 18/200\n",
            "500/500 [==============================] - 1s 3ms/step - loss: 0.3729 - accuracy: 0.8413 - val_loss: 0.3644 - val_accuracy: 0.8530\n",
            "Epoch 19/200\n",
            "500/500 [==============================] - 1s 2ms/step - loss: 0.3672 - accuracy: 0.8508 - val_loss: 0.3486 - val_accuracy: 0.8575\n",
            "Epoch 20/200\n",
            "500/500 [==============================] - 1s 2ms/step - loss: 0.3682 - accuracy: 0.8493 - val_loss: 0.3492 - val_accuracy: 0.8560\n",
            "Epoch 21/200\n",
            "500/500 [==============================] - 1s 2ms/step - loss: 0.3670 - accuracy: 0.8512 - val_loss: 0.3432 - val_accuracy: 0.8695\n",
            "Epoch 22/200\n",
            "500/500 [==============================] - 1s 3ms/step - loss: 0.3618 - accuracy: 0.8505 - val_loss: 0.3476 - val_accuracy: 0.8575\n",
            "Epoch 23/200\n",
            "500/500 [==============================] - 1s 2ms/step - loss: 0.3646 - accuracy: 0.8522 - val_loss: 0.3494 - val_accuracy: 0.8625\n",
            "Epoch 24/200\n",
            "500/500 [==============================] - 1s 2ms/step - loss: 0.3606 - accuracy: 0.8508 - val_loss: 0.3548 - val_accuracy: 0.8520\n",
            "Epoch 25/200\n",
            "500/500 [==============================] - 1s 3ms/step - loss: 0.3645 - accuracy: 0.8521 - val_loss: 0.3348 - val_accuracy: 0.8635\n",
            "Epoch 26/200\n",
            "500/500 [==============================] - 1s 3ms/step - loss: 0.3591 - accuracy: 0.8515 - val_loss: 0.3485 - val_accuracy: 0.8625\n",
            "Epoch 27/200\n",
            "500/500 [==============================] - 1s 3ms/step - loss: 0.3587 - accuracy: 0.8529 - val_loss: 0.3419 - val_accuracy: 0.8620\n",
            "Epoch 28/200\n",
            "500/500 [==============================] - 1s 2ms/step - loss: 0.3587 - accuracy: 0.8501 - val_loss: 0.3418 - val_accuracy: 0.8615\n",
            "Epoch 29/200\n",
            "500/500 [==============================] - 1s 2ms/step - loss: 0.3575 - accuracy: 0.8525 - val_loss: 0.3340 - val_accuracy: 0.8630\n",
            "Epoch 30/200\n",
            "500/500 [==============================] - 1s 2ms/step - loss: 0.3562 - accuracy: 0.8554 - val_loss: 0.3392 - val_accuracy: 0.8620\n",
            "Epoch 31/200\n",
            "500/500 [==============================] - 1s 3ms/step - loss: 0.3569 - accuracy: 0.8544 - val_loss: 0.3323 - val_accuracy: 0.8630\n",
            "Epoch 32/200\n",
            "500/500 [==============================] - 1s 3ms/step - loss: 0.3516 - accuracy: 0.8551 - val_loss: 0.3279 - val_accuracy: 0.8655\n",
            "Epoch 33/200\n",
            "500/500 [==============================] - 1s 2ms/step - loss: 0.3573 - accuracy: 0.8534 - val_loss: 0.3334 - val_accuracy: 0.8630\n",
            "Epoch 34/200\n",
            "500/500 [==============================] - 1s 3ms/step - loss: 0.3530 - accuracy: 0.8551 - val_loss: 0.3305 - val_accuracy: 0.8650\n",
            "Epoch 35/200\n",
            "500/500 [==============================] - 1s 2ms/step - loss: 0.3533 - accuracy: 0.8529 - val_loss: 0.3288 - val_accuracy: 0.8685\n",
            "Epoch 36/200\n",
            "500/500 [==============================] - 1s 2ms/step - loss: 0.3503 - accuracy: 0.8544 - val_loss: 0.3307 - val_accuracy: 0.8625\n",
            "Epoch 37/200\n",
            "500/500 [==============================] - 1s 3ms/step - loss: 0.3501 - accuracy: 0.8556 - val_loss: 0.3194 - val_accuracy: 0.8690\n",
            "Epoch 38/200\n",
            "500/500 [==============================] - 1s 3ms/step - loss: 0.3519 - accuracy: 0.8525 - val_loss: 0.3239 - val_accuracy: 0.8725\n",
            "Epoch 39/200\n",
            "500/500 [==============================] - 1s 3ms/step - loss: 0.3523 - accuracy: 0.8535 - val_loss: 0.3466 - val_accuracy: 0.8660\n",
            "Epoch 40/200\n",
            "500/500 [==============================] - 1s 3ms/step - loss: 0.3510 - accuracy: 0.8560 - val_loss: 0.3291 - val_accuracy: 0.8690\n",
            "Epoch 41/200\n",
            "500/500 [==============================] - 1s 3ms/step - loss: 0.3508 - accuracy: 0.8544 - val_loss: 0.3253 - val_accuracy: 0.8640\n",
            "Epoch 42/200\n",
            "500/500 [==============================] - 1s 3ms/step - loss: 0.3495 - accuracy: 0.8535 - val_loss: 0.3345 - val_accuracy: 0.8635\n",
            "Epoch 43/200\n",
            "500/500 [==============================] - 1s 3ms/step - loss: 0.3524 - accuracy: 0.8543 - val_loss: 0.3283 - val_accuracy: 0.8645\n",
            "Epoch 44/200\n",
            "500/500 [==============================] - 1s 3ms/step - loss: 0.3467 - accuracy: 0.8566 - val_loss: 0.3335 - val_accuracy: 0.8695\n",
            "Epoch 45/200\n",
            "500/500 [==============================] - 1s 3ms/step - loss: 0.3485 - accuracy: 0.8580 - val_loss: 0.3338 - val_accuracy: 0.8625\n",
            "Epoch 46/200\n",
            "500/500 [==============================] - 1s 3ms/step - loss: 0.3498 - accuracy: 0.8525 - val_loss: 0.3423 - val_accuracy: 0.8610\n",
            "Epoch 47/200\n",
            "500/500 [==============================] - 1s 3ms/step - loss: 0.3495 - accuracy: 0.8533 - val_loss: 0.3432 - val_accuracy: 0.8680\n",
            "Epoch 48/200\n",
            "500/500 [==============================] - 1s 3ms/step - loss: 0.3463 - accuracy: 0.8511 - val_loss: 0.3274 - val_accuracy: 0.8625\n",
            "Epoch 49/200\n",
            "500/500 [==============================] - 1s 3ms/step - loss: 0.3477 - accuracy: 0.8541 - val_loss: 0.3410 - val_accuracy: 0.8550\n",
            "Epoch 50/200\n",
            "500/500 [==============================] - 1s 3ms/step - loss: 0.3497 - accuracy: 0.8555 - val_loss: 0.3285 - val_accuracy: 0.8635\n",
            "Epoch 51/200\n",
            "500/500 [==============================] - 1s 3ms/step - loss: 0.3471 - accuracy: 0.8569 - val_loss: 0.3268 - val_accuracy: 0.8610\n",
            "Epoch 52/200\n",
            "500/500 [==============================] - 1s 3ms/step - loss: 0.3467 - accuracy: 0.8556 - val_loss: 0.3267 - val_accuracy: 0.8625\n",
            "Epoch 53/200\n",
            "500/500 [==============================] - 1s 3ms/step - loss: 0.3433 - accuracy: 0.8555 - val_loss: 0.3294 - val_accuracy: 0.8605\n",
            "Epoch 54/200\n",
            "500/500 [==============================] - 1s 3ms/step - loss: 0.3465 - accuracy: 0.8547 - val_loss: 0.3356 - val_accuracy: 0.8620\n",
            "Epoch 55/200\n",
            "500/500 [==============================] - 1s 3ms/step - loss: 0.3451 - accuracy: 0.8589 - val_loss: 0.3301 - val_accuracy: 0.8690\n",
            "Epoch 56/200\n",
            "500/500 [==============================] - 1s 3ms/step - loss: 0.3447 - accuracy: 0.8593 - val_loss: 0.3230 - val_accuracy: 0.8685\n",
            "Epoch 57/200\n",
            "500/500 [==============================] - 1s 3ms/step - loss: 0.3443 - accuracy: 0.8610 - val_loss: 0.3260 - val_accuracy: 0.8645\n",
            "Epoch 58/200\n",
            "500/500 [==============================] - 1s 3ms/step - loss: 0.3451 - accuracy: 0.8599 - val_loss: 0.3375 - val_accuracy: 0.8655\n",
            "Epoch 59/200\n",
            "500/500 [==============================] - 1s 3ms/step - loss: 0.3475 - accuracy: 0.8568 - val_loss: 0.3257 - val_accuracy: 0.8630\n",
            "Epoch 60/200\n",
            "500/500 [==============================] - 1s 3ms/step - loss: 0.3470 - accuracy: 0.8574 - val_loss: 0.3286 - val_accuracy: 0.8625\n",
            "Epoch 61/200\n",
            "500/500 [==============================] - 1s 3ms/step - loss: 0.3405 - accuracy: 0.8574 - val_loss: 0.3347 - val_accuracy: 0.8625\n",
            "Epoch 62/200\n",
            "500/500 [==============================] - 1s 3ms/step - loss: 0.3407 - accuracy: 0.8611 - val_loss: 0.3330 - val_accuracy: 0.8625\n",
            "Epoch 63/200\n",
            "500/500 [==============================] - 1s 3ms/step - loss: 0.3461 - accuracy: 0.8544 - val_loss: 0.3375 - val_accuracy: 0.8605\n",
            "Epoch 64/200\n",
            "500/500 [==============================] - 1s 3ms/step - loss: 0.3460 - accuracy: 0.8579 - val_loss: 0.3300 - val_accuracy: 0.8665\n",
            "Epoch 65/200\n",
            "500/500 [==============================] - 1s 3ms/step - loss: 0.3434 - accuracy: 0.8595 - val_loss: 0.3343 - val_accuracy: 0.8560\n",
            "Epoch 66/200\n",
            "500/500 [==============================] - 1s 3ms/step - loss: 0.3413 - accuracy: 0.8575 - val_loss: 0.3350 - val_accuracy: 0.8765\n",
            "Epoch 67/200\n",
            "500/500 [==============================] - 1s 3ms/step - loss: 0.3409 - accuracy: 0.8560 - val_loss: 0.3457 - val_accuracy: 0.8610\n",
            "Epoch 68/200\n",
            "500/500 [==============================] - 1s 2ms/step - loss: 0.3439 - accuracy: 0.8561 - val_loss: 0.3304 - val_accuracy: 0.8615\n",
            "Epoch 69/200\n",
            "500/500 [==============================] - 1s 3ms/step - loss: 0.3417 - accuracy: 0.8594 - val_loss: 0.3313 - val_accuracy: 0.8620\n",
            "Epoch 70/200\n",
            "500/500 [==============================] - 1s 3ms/step - loss: 0.3403 - accuracy: 0.8604 - val_loss: 0.3333 - val_accuracy: 0.8660\n",
            "Epoch 71/200\n",
            "500/500 [==============================] - 1s 3ms/step - loss: 0.3402 - accuracy: 0.8596 - val_loss: 0.3362 - val_accuracy: 0.8585\n",
            "Epoch 72/200\n",
            "500/500 [==============================] - 1s 3ms/step - loss: 0.3445 - accuracy: 0.8572 - val_loss: 0.3335 - val_accuracy: 0.8640\n",
            "Epoch 73/200\n",
            "500/500 [==============================] - 1s 2ms/step - loss: 0.3440 - accuracy: 0.8581 - val_loss: 0.3347 - val_accuracy: 0.8585\n",
            "Epoch 74/200\n",
            "500/500 [==============================] - 1s 2ms/step - loss: 0.3426 - accuracy: 0.8584 - val_loss: 0.3320 - val_accuracy: 0.8645\n",
            "Epoch 75/200\n",
            "500/500 [==============================] - 1s 3ms/step - loss: 0.3419 - accuracy: 0.8536 - val_loss: 0.3301 - val_accuracy: 0.8605\n",
            "Epoch 76/200\n",
            "500/500 [==============================] - 1s 3ms/step - loss: 0.3412 - accuracy: 0.8614 - val_loss: 0.3271 - val_accuracy: 0.8640\n",
            "Epoch 77/200\n",
            "500/500 [==============================] - 1s 3ms/step - loss: 0.3409 - accuracy: 0.8609 - val_loss: 0.3292 - val_accuracy: 0.8615\n",
            "Epoch 78/200\n",
            "500/500 [==============================] - 1s 3ms/step - loss: 0.3393 - accuracy: 0.8590 - val_loss: 0.3399 - val_accuracy: 0.8500\n",
            "Epoch 79/200\n",
            "500/500 [==============================] - 1s 3ms/step - loss: 0.3414 - accuracy: 0.8543 - val_loss: 0.3259 - val_accuracy: 0.8620\n",
            "Epoch 80/200\n",
            "500/500 [==============================] - 1s 3ms/step - loss: 0.3404 - accuracy: 0.8580 - val_loss: 0.3407 - val_accuracy: 0.8575\n",
            "Epoch 81/200\n",
            "500/500 [==============================] - 1s 3ms/step - loss: 0.3423 - accuracy: 0.8589 - val_loss: 0.3277 - val_accuracy: 0.8635\n",
            "Epoch 82/200\n",
            "500/500 [==============================] - 1s 3ms/step - loss: 0.3423 - accuracy: 0.8612 - val_loss: 0.3342 - val_accuracy: 0.8690\n",
            "Epoch 83/200\n",
            "500/500 [==============================] - 1s 3ms/step - loss: 0.3408 - accuracy: 0.8600 - val_loss: 0.3393 - val_accuracy: 0.8590\n",
            "Epoch 84/200\n",
            "500/500 [==============================] - 1s 3ms/step - loss: 0.3398 - accuracy: 0.8579 - val_loss: 0.3404 - val_accuracy: 0.8630\n",
            "Epoch 85/200\n",
            "500/500 [==============================] - 1s 3ms/step - loss: 0.3381 - accuracy: 0.8610 - val_loss: 0.3264 - val_accuracy: 0.8645\n",
            "Epoch 86/200\n",
            "500/500 [==============================] - 1s 3ms/step - loss: 0.3409 - accuracy: 0.8586 - val_loss: 0.3281 - val_accuracy: 0.8665\n",
            "Epoch 87/200\n",
            "500/500 [==============================] - 1s 3ms/step - loss: 0.3394 - accuracy: 0.8581 - val_loss: 0.3283 - val_accuracy: 0.8650\n",
            "Epoch 88/200\n",
            "500/500 [==============================] - 1s 3ms/step - loss: 0.3361 - accuracy: 0.8610 - val_loss: 0.3338 - val_accuracy: 0.8580\n",
            "Epoch 89/200\n",
            "500/500 [==============================] - 1s 3ms/step - loss: 0.3389 - accuracy: 0.8561 - val_loss: 0.3315 - val_accuracy: 0.8640\n",
            "Epoch 90/200\n",
            "500/500 [==============================] - 1s 2ms/step - loss: 0.3387 - accuracy: 0.8596 - val_loss: 0.3322 - val_accuracy: 0.8590\n",
            "Epoch 91/200\n",
            "500/500 [==============================] - 1s 3ms/step - loss: 0.3408 - accuracy: 0.8596 - val_loss: 0.3292 - val_accuracy: 0.8625\n",
            "Epoch 92/200\n",
            "500/500 [==============================] - 1s 2ms/step - loss: 0.3351 - accuracy: 0.8610 - val_loss: 0.3357 - val_accuracy: 0.8580\n",
            "Epoch 93/200\n",
            "500/500 [==============================] - 1s 3ms/step - loss: 0.3364 - accuracy: 0.8595 - val_loss: 0.3285 - val_accuracy: 0.8630\n",
            "Epoch 94/200\n",
            "500/500 [==============================] - 1s 3ms/step - loss: 0.3392 - accuracy: 0.8575 - val_loss: 0.3338 - val_accuracy: 0.8590\n",
            "Epoch 95/200\n",
            "500/500 [==============================] - 1s 3ms/step - loss: 0.3375 - accuracy: 0.8606 - val_loss: 0.3288 - val_accuracy: 0.8635\n",
            "Epoch 96/200\n",
            "500/500 [==============================] - 1s 3ms/step - loss: 0.3339 - accuracy: 0.8624 - val_loss: 0.3310 - val_accuracy: 0.8620\n",
            "Epoch 97/200\n",
            "500/500 [==============================] - 1s 3ms/step - loss: 0.3384 - accuracy: 0.8616 - val_loss: 0.3306 - val_accuracy: 0.8575\n",
            "Epoch 98/200\n",
            "500/500 [==============================] - 1s 3ms/step - loss: 0.3366 - accuracy: 0.8637 - val_loss: 0.3335 - val_accuracy: 0.8645\n",
            "Epoch 99/200\n",
            "500/500 [==============================] - 1s 2ms/step - loss: 0.3357 - accuracy: 0.8583 - val_loss: 0.3348 - val_accuracy: 0.8550\n",
            "Epoch 100/200\n",
            "500/500 [==============================] - 1s 3ms/step - loss: 0.3366 - accuracy: 0.8591 - val_loss: 0.3338 - val_accuracy: 0.8615\n",
            "Epoch 101/200\n",
            "500/500 [==============================] - 1s 3ms/step - loss: 0.3345 - accuracy: 0.8602 - val_loss: 0.3328 - val_accuracy: 0.8550\n",
            "Epoch 102/200\n",
            "500/500 [==============================] - 1s 3ms/step - loss: 0.3363 - accuracy: 0.8589 - val_loss: 0.3300 - val_accuracy: 0.8690\n",
            "Epoch 103/200\n",
            "500/500 [==============================] - 1s 3ms/step - loss: 0.3351 - accuracy: 0.8610 - val_loss: 0.3273 - val_accuracy: 0.8545\n",
            "Epoch 104/200\n",
            "500/500 [==============================] - 1s 3ms/step - loss: 0.3354 - accuracy: 0.8608 - val_loss: 0.3415 - val_accuracy: 0.8600\n",
            "Epoch 105/200\n",
            "500/500 [==============================] - 1s 3ms/step - loss: 0.3358 - accuracy: 0.8554 - val_loss: 0.3597 - val_accuracy: 0.8510\n",
            "Epoch 106/200\n",
            "500/500 [==============================] - 1s 3ms/step - loss: 0.3426 - accuracy: 0.8558 - val_loss: 0.3376 - val_accuracy: 0.8620\n",
            "Epoch 107/200\n",
            "500/500 [==============================] - 1s 3ms/step - loss: 0.3353 - accuracy: 0.8600 - val_loss: 0.3331 - val_accuracy: 0.8555\n",
            "Epoch 108/200\n",
            "500/500 [==============================] - 1s 3ms/step - loss: 0.3393 - accuracy: 0.8608 - val_loss: 0.3324 - val_accuracy: 0.8645\n",
            "Epoch 109/200\n",
            "500/500 [==============================] - 1s 3ms/step - loss: 0.3359 - accuracy: 0.8586 - val_loss: 0.3319 - val_accuracy: 0.8680\n",
            "Epoch 110/200\n",
            "500/500 [==============================] - 1s 3ms/step - loss: 0.3336 - accuracy: 0.8601 - val_loss: 0.3267 - val_accuracy: 0.8590\n",
            "Epoch 111/200\n",
            "500/500 [==============================] - 1s 3ms/step - loss: 0.3342 - accuracy: 0.8610 - val_loss: 0.3256 - val_accuracy: 0.8670\n",
            "Epoch 112/200\n",
            "500/500 [==============================] - 1s 3ms/step - loss: 0.3344 - accuracy: 0.8591 - val_loss: 0.3285 - val_accuracy: 0.8630\n",
            "Epoch 113/200\n",
            "500/500 [==============================] - 1s 3ms/step - loss: 0.3338 - accuracy: 0.8581 - val_loss: 0.3304 - val_accuracy: 0.8625\n",
            "Epoch 114/200\n",
            "500/500 [==============================] - 1s 3ms/step - loss: 0.3328 - accuracy: 0.8605 - val_loss: 0.3291 - val_accuracy: 0.8620\n",
            "Epoch 115/200\n",
            "500/500 [==============================] - 1s 3ms/step - loss: 0.3342 - accuracy: 0.8608 - val_loss: 0.3294 - val_accuracy: 0.8650\n",
            "Epoch 116/200\n",
            "500/500 [==============================] - 1s 3ms/step - loss: 0.3353 - accuracy: 0.8625 - val_loss: 0.3277 - val_accuracy: 0.8630\n",
            "Epoch 117/200\n",
            "500/500 [==============================] - 1s 3ms/step - loss: 0.3356 - accuracy: 0.8631 - val_loss: 0.3286 - val_accuracy: 0.8695\n",
            "Epoch 118/200\n",
            "500/500 [==============================] - 1s 3ms/step - loss: 0.3333 - accuracy: 0.8624 - val_loss: 0.3281 - val_accuracy: 0.8690\n",
            "Epoch 119/200\n",
            "500/500 [==============================] - 1s 3ms/step - loss: 0.3315 - accuracy: 0.8648 - val_loss: 0.3347 - val_accuracy: 0.8650\n",
            "Epoch 120/200\n",
            "500/500 [==============================] - 1s 3ms/step - loss: 0.3321 - accuracy: 0.8622 - val_loss: 0.3443 - val_accuracy: 0.8530\n",
            "Epoch 121/200\n",
            "500/500 [==============================] - 1s 3ms/step - loss: 0.3343 - accuracy: 0.8569 - val_loss: 0.3283 - val_accuracy: 0.8640\n",
            "Epoch 122/200\n",
            "500/500 [==============================] - 1s 3ms/step - loss: 0.3316 - accuracy: 0.8615 - val_loss: 0.3386 - val_accuracy: 0.8630\n",
            "Epoch 123/200\n",
            "500/500 [==============================] - 1s 3ms/step - loss: 0.3316 - accuracy: 0.8630 - val_loss: 0.3270 - val_accuracy: 0.8650\n",
            "Epoch 124/200\n",
            "500/500 [==============================] - 1s 3ms/step - loss: 0.3308 - accuracy: 0.8625 - val_loss: 0.3299 - val_accuracy: 0.8640\n",
            "Epoch 125/200\n",
            "500/500 [==============================] - 1s 3ms/step - loss: 0.3296 - accuracy: 0.8655 - val_loss: 0.3532 - val_accuracy: 0.8580\n",
            "Epoch 126/200\n",
            "500/500 [==============================] - 1s 3ms/step - loss: 0.3311 - accuracy: 0.8635 - val_loss: 0.3290 - val_accuracy: 0.8710\n",
            "Epoch 127/200\n",
            "500/500 [==============================] - 1s 3ms/step - loss: 0.3316 - accuracy: 0.8612 - val_loss: 0.3267 - val_accuracy: 0.8625\n",
            "Epoch 128/200\n",
            "500/500 [==============================] - 1s 3ms/step - loss: 0.3325 - accuracy: 0.8610 - val_loss: 0.3313 - val_accuracy: 0.8640\n",
            "Epoch 129/200\n",
            "500/500 [==============================] - 1s 3ms/step - loss: 0.3311 - accuracy: 0.8626 - val_loss: 0.3259 - val_accuracy: 0.8635\n",
            "Epoch 130/200\n",
            "500/500 [==============================] - 1s 3ms/step - loss: 0.3306 - accuracy: 0.8640 - val_loss: 0.3300 - val_accuracy: 0.8625\n",
            "Epoch 131/200\n",
            "500/500 [==============================] - 1s 3ms/step - loss: 0.3309 - accuracy: 0.8625 - val_loss: 0.3459 - val_accuracy: 0.8555\n",
            "Epoch 132/200\n",
            "500/500 [==============================] - 1s 3ms/step - loss: 0.3309 - accuracy: 0.8633 - val_loss: 0.3309 - val_accuracy: 0.8580\n",
            "Epoch 133/200\n",
            "500/500 [==============================] - 1s 3ms/step - loss: 0.3319 - accuracy: 0.8594 - val_loss: 0.3279 - val_accuracy: 0.8625\n",
            "Epoch 134/200\n",
            "500/500 [==============================] - 1s 3ms/step - loss: 0.3328 - accuracy: 0.8619 - val_loss: 0.3360 - val_accuracy: 0.8605\n",
            "Epoch 135/200\n",
            "500/500 [==============================] - 1s 3ms/step - loss: 0.3311 - accuracy: 0.8619 - val_loss: 0.3396 - val_accuracy: 0.8490\n",
            "Epoch 136/200\n",
            "500/500 [==============================] - 1s 3ms/step - loss: 0.3292 - accuracy: 0.8602 - val_loss: 0.3295 - val_accuracy: 0.8625\n",
            "Epoch 137/200\n",
            "500/500 [==============================] - 1s 3ms/step - loss: 0.3314 - accuracy: 0.8595 - val_loss: 0.3313 - val_accuracy: 0.8630\n",
            "Epoch 138/200\n",
            "500/500 [==============================] - 1s 3ms/step - loss: 0.3311 - accuracy: 0.8625 - val_loss: 0.3420 - val_accuracy: 0.8545\n",
            "Epoch 139/200\n",
            "500/500 [==============================] - 1s 3ms/step - loss: 0.3298 - accuracy: 0.8624 - val_loss: 0.3366 - val_accuracy: 0.8555\n",
            "Epoch 140/200\n",
            "500/500 [==============================] - 1s 3ms/step - loss: 0.3270 - accuracy: 0.8652 - val_loss: 0.3293 - val_accuracy: 0.8640\n",
            "Epoch 141/200\n",
            "500/500 [==============================] - 1s 3ms/step - loss: 0.3281 - accuracy: 0.8643 - val_loss: 0.3373 - val_accuracy: 0.8650\n",
            "Epoch 142/200\n",
            "500/500 [==============================] - 1s 3ms/step - loss: 0.3314 - accuracy: 0.8618 - val_loss: 0.3490 - val_accuracy: 0.8610\n",
            "Epoch 143/200\n",
            "500/500 [==============================] - 1s 3ms/step - loss: 0.3304 - accuracy: 0.8636 - val_loss: 0.3373 - val_accuracy: 0.8620\n",
            "Epoch 144/200\n",
            "500/500 [==============================] - 1s 3ms/step - loss: 0.3283 - accuracy: 0.8633 - val_loss: 0.3311 - val_accuracy: 0.8665\n",
            "Epoch 145/200\n",
            "500/500 [==============================] - 1s 3ms/step - loss: 0.3301 - accuracy: 0.8635 - val_loss: 0.3351 - val_accuracy: 0.8580\n",
            "Epoch 146/200\n",
            "500/500 [==============================] - 1s 3ms/step - loss: 0.3285 - accuracy: 0.8614 - val_loss: 0.3324 - val_accuracy: 0.8540\n",
            "Epoch 147/200\n",
            "500/500 [==============================] - 1s 3ms/step - loss: 0.3319 - accuracy: 0.8637 - val_loss: 0.3266 - val_accuracy: 0.8650\n",
            "Epoch 148/200\n",
            "500/500 [==============================] - 1s 3ms/step - loss: 0.3281 - accuracy: 0.8651 - val_loss: 0.3386 - val_accuracy: 0.8540\n",
            "Epoch 149/200\n",
            "500/500 [==============================] - 1s 3ms/step - loss: 0.3322 - accuracy: 0.8604 - val_loss: 0.3339 - val_accuracy: 0.8640\n",
            "Epoch 150/200\n",
            "500/500 [==============================] - 1s 3ms/step - loss: 0.3287 - accuracy: 0.8615 - val_loss: 0.3307 - val_accuracy: 0.8640\n",
            "Epoch 151/200\n",
            "500/500 [==============================] - 1s 3ms/step - loss: 0.3312 - accuracy: 0.8612 - val_loss: 0.3287 - val_accuracy: 0.8630\n",
            "Epoch 152/200\n",
            "500/500 [==============================] - 1s 3ms/step - loss: 0.3292 - accuracy: 0.8633 - val_loss: 0.3342 - val_accuracy: 0.8610\n",
            "Epoch 153/200\n",
            "500/500 [==============================] - 1s 3ms/step - loss: 0.3304 - accuracy: 0.8608 - val_loss: 0.3277 - val_accuracy: 0.8620\n",
            "Epoch 154/200\n",
            "500/500 [==============================] - 1s 3ms/step - loss: 0.3292 - accuracy: 0.8635 - val_loss: 0.3390 - val_accuracy: 0.8630\n",
            "Epoch 155/200\n",
            "500/500 [==============================] - 1s 3ms/step - loss: 0.3289 - accuracy: 0.8643 - val_loss: 0.3361 - val_accuracy: 0.8605\n",
            "Epoch 156/200\n",
            "500/500 [==============================] - 1s 3ms/step - loss: 0.3279 - accuracy: 0.8646 - val_loss: 0.3405 - val_accuracy: 0.8585\n",
            "Epoch 157/200\n",
            "500/500 [==============================] - 1s 3ms/step - loss: 0.3307 - accuracy: 0.8635 - val_loss: 0.3432 - val_accuracy: 0.8560\n",
            "Epoch 158/200\n",
            "500/500 [==============================] - 1s 3ms/step - loss: 0.3279 - accuracy: 0.8660 - val_loss: 0.3251 - val_accuracy: 0.8640\n",
            "Epoch 159/200\n",
            "500/500 [==============================] - 1s 3ms/step - loss: 0.3316 - accuracy: 0.8634 - val_loss: 0.3252 - val_accuracy: 0.8720\n",
            "Epoch 160/200\n",
            "500/500 [==============================] - 1s 2ms/step - loss: 0.3287 - accuracy: 0.8610 - val_loss: 0.3314 - val_accuracy: 0.8580\n",
            "Epoch 161/200\n",
            "500/500 [==============================] - 1s 2ms/step - loss: 0.3273 - accuracy: 0.8643 - val_loss: 0.3349 - val_accuracy: 0.8620\n",
            "Epoch 162/200\n",
            "500/500 [==============================] - 1s 3ms/step - loss: 0.3261 - accuracy: 0.8639 - val_loss: 0.3328 - val_accuracy: 0.8660\n",
            "Epoch 163/200\n",
            "500/500 [==============================] - 1s 3ms/step - loss: 0.3286 - accuracy: 0.8620 - val_loss: 0.3297 - val_accuracy: 0.8645\n",
            "Epoch 164/200\n",
            "500/500 [==============================] - 1s 3ms/step - loss: 0.3281 - accuracy: 0.8634 - val_loss: 0.3299 - val_accuracy: 0.8630\n",
            "Epoch 165/200\n",
            "500/500 [==============================] - 1s 3ms/step - loss: 0.3242 - accuracy: 0.8670 - val_loss: 0.3344 - val_accuracy: 0.8645\n",
            "Epoch 166/200\n",
            "500/500 [==============================] - 1s 3ms/step - loss: 0.3258 - accuracy: 0.8654 - val_loss: 0.3330 - val_accuracy: 0.8600\n",
            "Epoch 167/200\n",
            "500/500 [==============================] - 1s 3ms/step - loss: 0.3259 - accuracy: 0.8661 - val_loss: 0.3298 - val_accuracy: 0.8605\n",
            "Epoch 168/200\n",
            "500/500 [==============================] - 1s 3ms/step - loss: 0.3285 - accuracy: 0.8631 - val_loss: 0.3317 - val_accuracy: 0.8630\n",
            "Epoch 169/200\n",
            "500/500 [==============================] - 1s 3ms/step - loss: 0.3277 - accuracy: 0.8655 - val_loss: 0.3326 - val_accuracy: 0.8645\n",
            "Epoch 170/200\n",
            "500/500 [==============================] - 1s 3ms/step - loss: 0.3262 - accuracy: 0.8644 - val_loss: 0.3304 - val_accuracy: 0.8650\n",
            "Epoch 171/200\n",
            "500/500 [==============================] - 1s 3ms/step - loss: 0.3257 - accuracy: 0.8640 - val_loss: 0.3370 - val_accuracy: 0.8565\n",
            "Epoch 172/200\n",
            "500/500 [==============================] - 1s 3ms/step - loss: 0.3259 - accuracy: 0.8692 - val_loss: 0.3419 - val_accuracy: 0.8600\n",
            "Epoch 173/200\n",
            "500/500 [==============================] - 1s 3ms/step - loss: 0.3277 - accuracy: 0.8622 - val_loss: 0.3368 - val_accuracy: 0.8675\n",
            "Epoch 174/200\n",
            "500/500 [==============================] - 1s 3ms/step - loss: 0.3278 - accuracy: 0.8650 - val_loss: 0.3474 - val_accuracy: 0.8460\n",
            "Epoch 175/200\n",
            "500/500 [==============================] - 1s 3ms/step - loss: 0.3260 - accuracy: 0.8666 - val_loss: 0.3342 - val_accuracy: 0.8610\n",
            "Epoch 176/200\n",
            "500/500 [==============================] - 1s 3ms/step - loss: 0.3262 - accuracy: 0.8631 - val_loss: 0.3410 - val_accuracy: 0.8615\n",
            "Epoch 177/200\n",
            "500/500 [==============================] - 1s 3ms/step - loss: 0.3257 - accuracy: 0.8646 - val_loss: 0.3331 - val_accuracy: 0.8615\n",
            "Epoch 178/200\n",
            "500/500 [==============================] - 1s 3ms/step - loss: 0.3250 - accuracy: 0.8605 - val_loss: 0.3330 - val_accuracy: 0.8620\n",
            "Epoch 179/200\n",
            "500/500 [==============================] - 1s 3ms/step - loss: 0.3276 - accuracy: 0.8583 - val_loss: 0.3296 - val_accuracy: 0.8630\n",
            "Epoch 180/200\n",
            "500/500 [==============================] - 1s 3ms/step - loss: 0.3259 - accuracy: 0.8655 - val_loss: 0.3290 - val_accuracy: 0.8605\n",
            "Epoch 181/200\n",
            "500/500 [==============================] - 1s 3ms/step - loss: 0.3256 - accuracy: 0.8652 - val_loss: 0.3274 - val_accuracy: 0.8640\n",
            "Epoch 182/200\n",
            "500/500 [==============================] - 1s 3ms/step - loss: 0.3260 - accuracy: 0.8685 - val_loss: 0.3386 - val_accuracy: 0.8620\n",
            "Epoch 183/200\n",
            "500/500 [==============================] - 1s 3ms/step - loss: 0.3252 - accuracy: 0.8656 - val_loss: 0.3355 - val_accuracy: 0.8625\n",
            "Epoch 184/200\n",
            "500/500 [==============================] - 1s 3ms/step - loss: 0.3274 - accuracy: 0.8665 - val_loss: 0.3368 - val_accuracy: 0.8625\n",
            "Epoch 185/200\n",
            "500/500 [==============================] - 1s 3ms/step - loss: 0.3249 - accuracy: 0.8637 - val_loss: 0.3425 - val_accuracy: 0.8555\n",
            "Epoch 186/200\n",
            "500/500 [==============================] - 1s 3ms/step - loss: 0.3303 - accuracy: 0.8612 - val_loss: 0.3281 - val_accuracy: 0.8665\n",
            "Epoch 187/200\n",
            "500/500 [==============================] - 1s 3ms/step - loss: 0.3264 - accuracy: 0.8649 - val_loss: 0.3273 - val_accuracy: 0.8625\n",
            "Epoch 188/200\n",
            "500/500 [==============================] - 1s 3ms/step - loss: 0.3227 - accuracy: 0.8666 - val_loss: 0.3310 - val_accuracy: 0.8610\n",
            "Epoch 189/200\n",
            "500/500 [==============================] - 1s 3ms/step - loss: 0.3257 - accuracy: 0.8658 - val_loss: 0.3318 - val_accuracy: 0.8635\n",
            "Epoch 190/200\n",
            "500/500 [==============================] - 1s 3ms/step - loss: 0.3237 - accuracy: 0.8666 - val_loss: 0.3288 - val_accuracy: 0.8675\n",
            "Epoch 191/200\n",
            "500/500 [==============================] - 1s 3ms/step - loss: 0.3263 - accuracy: 0.8669 - val_loss: 0.3428 - val_accuracy: 0.8515\n",
            "Epoch 192/200\n",
            "500/500 [==============================] - 1s 3ms/step - loss: 0.3207 - accuracy: 0.8655 - val_loss: 0.3369 - val_accuracy: 0.8645\n",
            "Epoch 193/200\n",
            "500/500 [==============================] - 1s 3ms/step - loss: 0.3272 - accuracy: 0.8659 - val_loss: 0.3306 - val_accuracy: 0.8645\n",
            "Epoch 194/200\n",
            "500/500 [==============================] - 1s 3ms/step - loss: 0.3218 - accuracy: 0.8683 - val_loss: 0.3360 - val_accuracy: 0.8600\n",
            "Epoch 195/200\n",
            "500/500 [==============================] - 1s 3ms/step - loss: 0.3255 - accuracy: 0.8639 - val_loss: 0.3417 - val_accuracy: 0.8545\n",
            "Epoch 196/200\n",
            "500/500 [==============================] - 1s 3ms/step - loss: 0.3247 - accuracy: 0.8639 - val_loss: 0.3430 - val_accuracy: 0.8580\n",
            "Epoch 197/200\n",
            "500/500 [==============================] - 1s 3ms/step - loss: 0.3245 - accuracy: 0.8640 - val_loss: 0.3293 - val_accuracy: 0.8660\n",
            "Epoch 198/200\n",
            "500/500 [==============================] - 1s 3ms/step - loss: 0.3225 - accuracy: 0.8676 - val_loss: 0.3313 - val_accuracy: 0.8635\n",
            "Epoch 199/200\n",
            "500/500 [==============================] - 1s 3ms/step - loss: 0.3244 - accuracy: 0.8694 - val_loss: 0.3332 - val_accuracy: 0.8650\n",
            "Epoch 200/200\n",
            "500/500 [==============================] - 1s 3ms/step - loss: 0.3248 - accuracy: 0.8671 - val_loss: 0.3340 - val_accuracy: 0.8600\n"
          ],
          "name": "stdout"
        }
      ]
    },
    {
      "cell_type": "markdown",
      "metadata": {
        "id": "yIApU8P2k5Cl"
      },
      "source": [
        "# Plotting model and results"
      ]
    },
    {
      "cell_type": "code",
      "metadata": {
        "id": "jEB18_t9hb2F",
        "colab": {
          "base_uri": "https://localhost:8080/"
        },
        "outputId": "44136c0a-0949-4fdd-aea0-a67ad3ffc8ea"
      },
      "source": [
        "history.history.keys()"
      ],
      "execution_count": null,
      "outputs": [
        {
          "output_type": "execute_result",
          "data": {
            "text/plain": [
              "dict_keys(['loss', 'accuracy', 'val_loss', 'val_accuracy'])"
            ]
          },
          "metadata": {
            "tags": []
          },
          "execution_count": 183
        }
      ]
    },
    {
      "cell_type": "code",
      "metadata": {
        "id": "bGBUknfXh50x",
        "colab": {
          "base_uri": "https://localhost:8080/",
          "height": 295
        },
        "outputId": "2eb8dd65-cab3-4451-aaa6-6c101487fc7d"
      },
      "source": [
        "from matplotlib import pyplot as plt\n",
        "%matplotlib inline\n",
        "\n",
        "plt.plot(history.history['accuracy'])\n",
        "plt.plot(history.history['val_accuracy'])\n",
        "plt.title('model accuracy')\n",
        "plt.ylabel('accuracy')\n",
        "plt.xlabel('epoch')\n",
        "plt.legend(['train', 'val'], loc='upper left')\n",
        "plt.show()\n"
      ],
      "execution_count": null,
      "outputs": [
        {
          "output_type": "display_data",
          "data": {
            "image/png": "[encoded data removed]",
            "text/plain": [
              "<Figure size 432x288 with 1 Axes>"
            ]
          },
          "metadata": {
            "tags": [],
            "needs_background": "light"
          }
        }
      ]
    },
    {
      "cell_type": "code",
      "metadata": {
        "id": "5JoN4JsfiB0p",
        "colab": {
          "base_uri": "https://localhost:8080/",
          "height": 295
        },
        "outputId": "b1697aa8-2928-42ca-f202-014b44c5d43d"
      },
      "source": [
        "from matplotlib import pyplot as plt\n",
        "plt.plot(history.history['loss'])\n",
        "plt.plot(history.history['val_loss'])\n",
        "plt.title('model loss')\n",
        "plt.ylabel('loss')\n",
        "plt.xlabel('epoch')\n",
        "plt.legend(['train', 'val'], loc='upper left')\n",
        "plt.show()"
      ],
      "execution_count": null,
      "outputs": [
        {
          "output_type": "display_data",
          "data": {
            "image/png": "[encoded data removed]",
            "text/plain": [
              "<Figure size 432x288 with 1 Axes>"
            ]
          },
          "metadata": {
            "tags": [],
            "needs_background": "light"
          }
        }
      ]
    },
    {
      "cell_type": "code",
      "metadata": {
        "id": "ZQcaElegiCcQ",
        "colab": {
          "base_uri": "https://localhost:8080/",
          "height": 976
        },
        "outputId": "795e15ab-5c2a-41d0-8f13-9bf2283a38d7"
      },
      "source": [
        "from keras.utils import plot_model,model_to_dot\n",
        "plot_model(model, show_shapes=True)\n"
      ],
      "execution_count": null,
      "outputs": [
        {
          "output_type": "execute_result",
          "data": {
            "image/png": "[encoded data removed]",
            "text/plain": [
              "<IPython.core.display.Image object>"
            ]
          },
          "metadata": {
            "tags": []
          },
          "execution_count": 186
        }
      ]
    },
    {
      "cell_type": "markdown",
      "metadata": {
        "id": "5ngu9fRfNXrH"
      },
      "source": [
        ""
      ]
    },
    {
      "cell_type": "code",
      "metadata": {
        "id": "hjCHYW9aMBD1"
      },
      "source": [
        "weights = model.get_weights()\n",
        "import pickle\n",
        "try:\n",
        "  fpkl = open('weightsFile', 'wb')\n",
        "  pickle.dump(weights, fpkl, protocol=pickle.HIGHEST_PROTOCOL)\n",
        "  fpkl.close()\n",
        "except:\n",
        "  fpkl = open('weightsFile', 'w')\n"
      ],
      "execution_count": null,
      "outputs": []
    },
    {
      "cell_type": "code",
      "metadata": {
        "id": "0ggMgpymMGW4"
      },
      "source": [
        ""
      ],
      "execution_count": null,
      "outputs": []
    }
  ]
}