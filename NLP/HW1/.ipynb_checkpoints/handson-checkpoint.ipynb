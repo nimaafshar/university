{
 "cells": [
  {
   "cell_type": "markdown",
   "metadata": {},
   "source": [
    "# Hands on\n",
    "Social Media Assignment 1\n",
    "\n",
    "Nima Afshar\n",
    "\n",
    "9713004"
   ]
  },
  {
   "cell_type": "code",
   "execution_count": 1,
   "metadata": {},
   "outputs": [
    {
     "data": {
      "text/html": [
       "\n",
       "<style>\n",
       "div.text_cell_render{\n",
       "direction:rtl;\n",
       "}\n",
       "</style>\n"
      ],
      "text/plain": [
       "<IPython.core.display.HTML object>"
      ]
     },
     "execution_count": 1,
     "metadata": {},
     "output_type": "execute_result"
    }
   ],
   "source": [
    "#run this cell to make text-cells rtl\n",
    "from IPython.core.display import HTML\n",
    "HTML(\"\"\"\n",
    "<style>\n",
    "div.text_cell_render{\n",
    "direction:rtl;\n",
    "}\n",
    "</style>\n",
    "\"\"\")"
   ]
  },
  {
   "cell_type": "code",
   "execution_count": 222,
   "metadata": {},
   "outputs": [],
   "source": [
    "import numpy as np\n",
    "import pandas as pd\n",
    "from matplotlib import pyplot as plt\n",
    "from pandas_profiling import ProfileReport\n",
    "import seaborn as sns\n",
    "from sklearn.metrics import confusion_matrix,accuracy_score,balanced_accuracy_score\n",
    "import scipy"
   ]
  },
  {
   "cell_type": "code",
   "execution_count": 162,
   "metadata": {},
   "outputs": [],
   "source": [
    "train_data = pd.read_csv('data/airline-train.csv')"
   ]
  },
  {
   "cell_type": "code",
   "execution_count": 163,
   "metadata": {},
   "outputs": [],
   "source": [
    "validation_data = pd.read_csv('data/airline-dev.csv')\n",
    "test_data = pd.read_csv('data/airline-test.csv')"
   ]
  },
  {
   "cell_type": "code",
   "execution_count": null,
   "metadata": {},
   "outputs": [],
   "source": []
  },
  {
   "cell_type": "markdown",
   "metadata": {},
   "source": [
    "train_data.rename(columns={'Unnamed: 0':'key'},inplace=True)\n",
    "validation_data.rename(columns={'Unnamed: 0':'key'},inplace=True)\n",
    "test_data.rename(columns={'Unnamed: 0':'key'},inplace=True)"
   ]
  },
  {
   "cell_type": "code",
   "execution_count": 165,
   "metadata": {},
   "outputs": [],
   "source": [
    "train_data.set_index('key',inplace=True)\n",
    "validation_data.set_index('key',inplace=True)\n",
    "test_data.set_index('key',inplace=True)"
   ]
  },
  {
   "cell_type": "code",
   "execution_count": 166,
   "metadata": {},
   "outputs": [],
   "source": [
    "train_index = train_data.index\n",
    "validation_index = validation_data.index\n",
    "test_index = test_data.index"
   ]
  },
  {
   "cell_type": "markdown",
   "metadata": {},
   "source": [
    "در این قمست همه‌ی داده‌ها را برای مراحل پیش‌پردازش با هم ترکیب می‌کنیم و بعدا آنها را بر اساس index جدا می‌کنیم. "
   ]
  },
  {
   "cell_type": "code",
   "execution_count": 172,
   "metadata": {},
   "outputs": [],
   "source": [
    "train_data = pd.concat([train_data,validation_data,test_data])"
   ]
  },
  {
   "cell_type": "markdown",
   "metadata": {},
   "source": [
    "# EDA"
   ]
  },
  {
   "cell_type": "code",
   "execution_count": 173,
   "metadata": {},
   "outputs": [
    {
     "data": {
      "text/html": [
       "<div>\n",
       "<style scoped>\n",
       "    .dataframe tbody tr th:only-of-type {\n",
       "        vertical-align: middle;\n",
       "    }\n",
       "\n",
       "    .dataframe tbody tr th {\n",
       "        vertical-align: top;\n",
       "    }\n",
       "\n",
       "    .dataframe thead th {\n",
       "        text-align: right;\n",
       "    }\n",
       "</style>\n",
       "<table border=\"1\" class=\"dataframe\">\n",
       "  <thead>\n",
       "    <tr style=\"text-align: right;\">\n",
       "      <th></th>\n",
       "      <th>_unit_id</th>\n",
       "      <th>_golden</th>\n",
       "      <th>_unit_state</th>\n",
       "      <th>_trusted_judgments</th>\n",
       "      <th>_last_judgment_at</th>\n",
       "      <th>airline_sentiment</th>\n",
       "      <th>airline_sentiment:confidence</th>\n",
       "      <th>negativereason</th>\n",
       "      <th>negativereason:confidence</th>\n",
       "      <th>airline</th>\n",
       "      <th>airline_sentiment_gold</th>\n",
       "      <th>name</th>\n",
       "      <th>negativereason_gold</th>\n",
       "      <th>retweet_count</th>\n",
       "      <th>text</th>\n",
       "      <th>tweet_coord</th>\n",
       "      <th>tweet_created</th>\n",
       "      <th>tweet_id</th>\n",
       "      <th>tweet_location</th>\n",
       "      <th>user_timezone</th>\n",
       "    </tr>\n",
       "    <tr>\n",
       "      <th>key</th>\n",
       "      <th></th>\n",
       "      <th></th>\n",
       "      <th></th>\n",
       "      <th></th>\n",
       "      <th></th>\n",
       "      <th></th>\n",
       "      <th></th>\n",
       "      <th></th>\n",
       "      <th></th>\n",
       "      <th></th>\n",
       "      <th></th>\n",
       "      <th></th>\n",
       "      <th></th>\n",
       "      <th></th>\n",
       "      <th></th>\n",
       "      <th></th>\n",
       "      <th></th>\n",
       "      <th></th>\n",
       "      <th></th>\n",
       "      <th></th>\n",
       "    </tr>\n",
       "  </thead>\n",
       "  <tbody>\n",
       "    <tr>\n",
       "      <th>11429</th>\n",
       "      <td>681462729</td>\n",
       "      <td>False</td>\n",
       "      <td>finalized</td>\n",
       "      <td>3</td>\n",
       "      <td>2/25/15 3:07</td>\n",
       "      <td>positive</td>\n",
       "      <td>1.0</td>\n",
       "      <td>NaN</td>\n",
       "      <td>NaN</td>\n",
       "      <td>US Airways</td>\n",
       "      <td>NaN</td>\n",
       "      <td>CaraModisett</td>\n",
       "      <td>NaN</td>\n",
       "      <td>0</td>\n",
       "      <td>@USAirways she also appreciated having her ver...</td>\n",
       "      <td>NaN</td>\n",
       "      <td>2/18/15 10:55</td>\n",
       "      <td>5.681220e+17</td>\n",
       "      <td>Memphis, Tennessee</td>\n",
       "      <td>Central Time (US &amp; Canada)</td>\n",
       "    </tr>\n",
       "    <tr>\n",
       "      <th>9717</th>\n",
       "      <td>681461003</td>\n",
       "      <td>False</td>\n",
       "      <td>finalized</td>\n",
       "      <td>3</td>\n",
       "      <td>2/25/15 3:20</td>\n",
       "      <td>negative</td>\n",
       "      <td>1.0</td>\n",
       "      <td>Can't Tell</td>\n",
       "      <td>0.3464</td>\n",
       "      <td>US Airways</td>\n",
       "      <td>NaN</td>\n",
       "      <td>LarrySandeen</td>\n",
       "      <td>NaN</td>\n",
       "      <td>0</td>\n",
       "      <td>@USAirways Just discovered that they billed us...</td>\n",
       "      <td>[0.0, 0.0]</td>\n",
       "      <td>2/22/15 19:24</td>\n",
       "      <td>5.696990e+17</td>\n",
       "      <td>Southeastern Pennsylvania USA</td>\n",
       "      <td>NaN</td>\n",
       "    </tr>\n",
       "    <tr>\n",
       "      <th>10153</th>\n",
       "      <td>681461443</td>\n",
       "      <td>False</td>\n",
       "      <td>finalized</td>\n",
       "      <td>3</td>\n",
       "      <td>2/25/15 6:20</td>\n",
       "      <td>negative</td>\n",
       "      <td>1.0</td>\n",
       "      <td>Can't Tell</td>\n",
       "      <td>1.0000</td>\n",
       "      <td>US Airways</td>\n",
       "      <td>NaN</td>\n",
       "      <td>burseka</td>\n",
       "      <td>NaN</td>\n",
       "      <td>0</td>\n",
       "      <td>@USAirways u guys suck</td>\n",
       "      <td>NaN</td>\n",
       "      <td>2/22/15 7:28</td>\n",
       "      <td>5.695190e+17</td>\n",
       "      <td>NaN</td>\n",
       "      <td>NaN</td>\n",
       "    </tr>\n",
       "    <tr>\n",
       "      <th>975</th>\n",
       "      <td>681449647</td>\n",
       "      <td>False</td>\n",
       "      <td>finalized</td>\n",
       "      <td>3</td>\n",
       "      <td>2/25/15 2:14</td>\n",
       "      <td>negative</td>\n",
       "      <td>1.0</td>\n",
       "      <td>Can't Tell</td>\n",
       "      <td>1.0000</td>\n",
       "      <td>United</td>\n",
       "      <td>NaN</td>\n",
       "      <td>artistanxiety</td>\n",
       "      <td>NaN</td>\n",
       "      <td>0</td>\n",
       "      <td>@united I will but right now I'm to angry</td>\n",
       "      <td>NaN</td>\n",
       "      <td>2/23/15 14:09</td>\n",
       "      <td>5.699820e+17</td>\n",
       "      <td>Punk is the preacher.</td>\n",
       "      <td>Arizona</td>\n",
       "    </tr>\n",
       "    <tr>\n",
       "      <th>1511</th>\n",
       "      <td>681450373</td>\n",
       "      <td>False</td>\n",
       "      <td>finalized</td>\n",
       "      <td>3</td>\n",
       "      <td>2/25/15 6:57</td>\n",
       "      <td>negative</td>\n",
       "      <td>1.0</td>\n",
       "      <td>Can't Tell</td>\n",
       "      <td>0.6848</td>\n",
       "      <td>United</td>\n",
       "      <td>NaN</td>\n",
       "      <td>axelrodaj</td>\n",
       "      <td>NaN</td>\n",
       "      <td>0</td>\n",
       "      <td>@united not sure why the people in row 7 that ...</td>\n",
       "      <td>[33.94077727, -118.39921036]</td>\n",
       "      <td>2/22/15 18:50</td>\n",
       "      <td>5.696910e+17</td>\n",
       "      <td>San Francisco</td>\n",
       "      <td>Pacific Time (US &amp; Canada)</td>\n",
       "    </tr>\n",
       "  </tbody>\n",
       "</table>\n",
       "</div>"
      ],
      "text/plain": [
       "        _unit_id  _golden _unit_state  _trusted_judgments _last_judgment_at  \\\n",
       "key                                                                           \n",
       "11429  681462729    False   finalized                   3      2/25/15 3:07   \n",
       "9717   681461003    False   finalized                   3      2/25/15 3:20   \n",
       "10153  681461443    False   finalized                   3      2/25/15 6:20   \n",
       "975    681449647    False   finalized                   3      2/25/15 2:14   \n",
       "1511   681450373    False   finalized                   3      2/25/15 6:57   \n",
       "\n",
       "      airline_sentiment  airline_sentiment:confidence negativereason  \\\n",
       "key                                                                    \n",
       "11429          positive                           1.0            NaN   \n",
       "9717           negative                           1.0     Can't Tell   \n",
       "10153          negative                           1.0     Can't Tell   \n",
       "975            negative                           1.0     Can't Tell   \n",
       "1511           negative                           1.0     Can't Tell   \n",
       "\n",
       "       negativereason:confidence     airline airline_sentiment_gold  \\\n",
       "key                                                                   \n",
       "11429                        NaN  US Airways                    NaN   \n",
       "9717                      0.3464  US Airways                    NaN   \n",
       "10153                     1.0000  US Airways                    NaN   \n",
       "975                       1.0000      United                    NaN   \n",
       "1511                      0.6848      United                    NaN   \n",
       "\n",
       "                name negativereason_gold  retweet_count  \\\n",
       "key                                                       \n",
       "11429   CaraModisett                 NaN              0   \n",
       "9717    LarrySandeen                 NaN              0   \n",
       "10153        burseka                 NaN              0   \n",
       "975    artistanxiety                 NaN              0   \n",
       "1511       axelrodaj                 NaN              0   \n",
       "\n",
       "                                                    text  \\\n",
       "key                                                        \n",
       "11429  @USAirways she also appreciated having her ver...   \n",
       "9717   @USAirways Just discovered that they billed us...   \n",
       "10153                             @USAirways u guys suck   \n",
       "975            @united I will but right now I'm to angry   \n",
       "1511   @united not sure why the people in row 7 that ...   \n",
       "\n",
       "                        tweet_coord  tweet_created      tweet_id  \\\n",
       "key                                                                \n",
       "11429                           NaN  2/18/15 10:55  5.681220e+17   \n",
       "9717                     [0.0, 0.0]  2/22/15 19:24  5.696990e+17   \n",
       "10153                           NaN   2/22/15 7:28  5.695190e+17   \n",
       "975                             NaN  2/23/15 14:09  5.699820e+17   \n",
       "1511   [33.94077727, -118.39921036]  2/22/15 18:50  5.696910e+17   \n",
       "\n",
       "                      tweet_location               user_timezone  \n",
       "key                                                               \n",
       "11429             Memphis, Tennessee  Central Time (US & Canada)  \n",
       "9717   Southeastern Pennsylvania USA                         NaN  \n",
       "10153                            NaN                         NaN  \n",
       "975            Punk is the preacher.                     Arizona  \n",
       "1511                   San Francisco  Pacific Time (US & Canada)  "
      ]
     },
     "execution_count": 173,
     "metadata": {},
     "output_type": "execute_result"
    }
   ],
   "source": [
    "train_data.head(5)"
   ]
  },
  {
   "cell_type": "code",
   "execution_count": 174,
   "metadata": {},
   "outputs": [
    {
     "data": {
      "text/html": [
       "<div>\n",
       "<style scoped>\n",
       "    .dataframe tbody tr th:only-of-type {\n",
       "        vertical-align: middle;\n",
       "    }\n",
       "\n",
       "    .dataframe tbody tr th {\n",
       "        vertical-align: top;\n",
       "    }\n",
       "\n",
       "    .dataframe thead th {\n",
       "        text-align: right;\n",
       "    }\n",
       "</style>\n",
       "<table border=\"1\" class=\"dataframe\">\n",
       "  <thead>\n",
       "    <tr style=\"text-align: right;\">\n",
       "      <th></th>\n",
       "      <th>_unit_id</th>\n",
       "      <th>_trusted_judgments</th>\n",
       "      <th>airline_sentiment:confidence</th>\n",
       "      <th>negativereason:confidence</th>\n",
       "      <th>retweet_count</th>\n",
       "      <th>tweet_id</th>\n",
       "    </tr>\n",
       "  </thead>\n",
       "  <tbody>\n",
       "    <tr>\n",
       "      <th>count</th>\n",
       "      <td>2.049600e+04</td>\n",
       "      <td>20496.000000</td>\n",
       "      <td>20496.000000</td>\n",
       "      <td>14736.000000</td>\n",
       "      <td>20496.000000</td>\n",
       "      <td>2.049600e+04</td>\n",
       "    </tr>\n",
       "    <tr>\n",
       "      <th>mean</th>\n",
       "      <td>6.814952e+08</td>\n",
       "      <td>3.597092</td>\n",
       "      <td>0.899630</td>\n",
       "      <td>0.635575</td>\n",
       "      <td>0.084846</td>\n",
       "      <td>5.692145e+17</td>\n",
       "    </tr>\n",
       "    <tr>\n",
       "      <th>std</th>\n",
       "      <td>8.467017e+04</td>\n",
       "      <td>11.653957</td>\n",
       "      <td>0.163227</td>\n",
       "      <td>0.331761</td>\n",
       "      <td>0.762485</td>\n",
       "      <td>7.796501e+14</td>\n",
       "    </tr>\n",
       "    <tr>\n",
       "      <th>min</th>\n",
       "      <td>6.814482e+08</td>\n",
       "      <td>2.000000</td>\n",
       "      <td>0.335000</td>\n",
       "      <td>0.000000</td>\n",
       "      <td>0.000000</td>\n",
       "      <td>5.675880e+17</td>\n",
       "    </tr>\n",
       "    <tr>\n",
       "      <th>25%</th>\n",
       "      <td>6.814536e+08</td>\n",
       "      <td>3.000000</td>\n",
       "      <td>0.691900</td>\n",
       "      <td>0.360000</td>\n",
       "      <td>0.000000</td>\n",
       "      <td>5.685520e+17</td>\n",
       "    </tr>\n",
       "    <tr>\n",
       "      <th>50%</th>\n",
       "      <td>6.814578e+08</td>\n",
       "      <td>3.000000</td>\n",
       "      <td>1.000000</td>\n",
       "      <td>0.670300</td>\n",
       "      <td>0.000000</td>\n",
       "      <td>5.694630e+17</td>\n",
       "    </tr>\n",
       "    <tr>\n",
       "      <th>75%</th>\n",
       "      <td>6.814622e+08</td>\n",
       "      <td>3.000000</td>\n",
       "      <td>1.000000</td>\n",
       "      <td>1.000000</td>\n",
       "      <td>0.000000</td>\n",
       "      <td>5.698900e+17</td>\n",
       "    </tr>\n",
       "    <tr>\n",
       "      <th>max</th>\n",
       "      <td>6.816798e+08</td>\n",
       "      <td>248.000000</td>\n",
       "      <td>1.000000</td>\n",
       "      <td>1.000000</td>\n",
       "      <td>44.000000</td>\n",
       "      <td>5.703110e+17</td>\n",
       "    </tr>\n",
       "  </tbody>\n",
       "</table>\n",
       "</div>"
      ],
      "text/plain": [
       "           _unit_id  _trusted_judgments  airline_sentiment:confidence  \\\n",
       "count  2.049600e+04        20496.000000                  20496.000000   \n",
       "mean   6.814952e+08            3.597092                      0.899630   \n",
       "std    8.467017e+04           11.653957                      0.163227   \n",
       "min    6.814482e+08            2.000000                      0.335000   \n",
       "25%    6.814536e+08            3.000000                      0.691900   \n",
       "50%    6.814578e+08            3.000000                      1.000000   \n",
       "75%    6.814622e+08            3.000000                      1.000000   \n",
       "max    6.816798e+08          248.000000                      1.000000   \n",
       "\n",
       "       negativereason:confidence  retweet_count      tweet_id  \n",
       "count               14736.000000   20496.000000  2.049600e+04  \n",
       "mean                    0.635575       0.084846  5.692145e+17  \n",
       "std                     0.331761       0.762485  7.796501e+14  \n",
       "min                     0.000000       0.000000  5.675880e+17  \n",
       "25%                     0.360000       0.000000  5.685520e+17  \n",
       "50%                     0.670300       0.000000  5.694630e+17  \n",
       "75%                     1.000000       0.000000  5.698900e+17  \n",
       "max                     1.000000      44.000000  5.703110e+17  "
      ]
     },
     "execution_count": 174,
     "metadata": {},
     "output_type": "execute_result"
    }
   ],
   "source": [
    "train_data.describe()"
   ]
  },
  {
   "cell_type": "code",
   "execution_count": 8,
   "metadata": {},
   "outputs": [],
   "source": [
    "profile = ProfileReport(train_data,title=\"Pandas Profiling Report\")"
   ]
  },
  {
   "cell_type": "code",
   "execution_count": 27,
   "metadata": {},
   "outputs": [
    {
     "data": {
      "application/vnd.jupyter.widget-view+json": {
       "model_id": "3081891983854b23978d737ce5bf5834",
       "version_major": 2,
       "version_minor": 0
      },
      "text/plain": [
       "HBox(children=(HTML(value='Export report to file'), FloatProgress(value=0.0, max=1.0), HTML(value='')))"
      ]
     },
     "metadata": {},
     "output_type": "display_data"
    },
    {
     "name": "stdout",
     "output_type": "stream",
     "text": [
      "\n"
     ]
    }
   ],
   "source": [
    "#saving pandas profiling report to html\n",
    "profile.to_file(\"report.html\")"
   ]
  },
  {
   "cell_type": "markdown",
   "metadata": {},
   "source": [
    "می‌توانید pandas profiling را داخل فایل report.html مشاهده کنید."
   ]
  },
  {
   "cell_type": "markdown",
   "metadata": {},
   "source": [
    "# Data Preprocessing\n",
    "نکته‌ی عجیبی که درباره‌ی دیتاست وجود دارد این است که تعداد `tweet_id` ها کمتر از تعداد توییت‌هاست و با بررسی  بیشتر دیدیم که توییت‌های یکسانی هم نیستند و فقط این ستون اشتباه اندازه‌گیری شده پس آن را دور می‌ریزیم.\n",
    "چون `text`ها متفاوت است."
   ]
  },
  {
   "cell_type": "code",
   "execution_count": 175,
   "metadata": {},
   "outputs": [
    {
     "data": {
      "text/plain": [
       "key\n",
       "12053    @AmericanAir 1hr 46 min. Cost of flight change...\n",
       "0                      @VirginAmerica What @dhepburn said.\n",
       "4329     @SouthwestAir I'm teaching new #travelers how ...\n",
       "12052    @AmericanAir is the new 9:45 time confirmed or...\n",
       "11891    @AmericanAir is the new 9:45 time confirmed or...\n",
       "509      @united Your ERI-ORD express connections are h...\n",
       "11893    @AmericanAir it's not just frustrating--it was...\n",
       "510      @united even on international flight Glasgow t...\n",
       "11892    @AmericanAir 1hr 46 min. Cost of flight change...\n",
       "4330     @SouthwestAir Very frustrated for the loooooon...\n",
       "12054    @AmericanAir it's not just frustrating--it was...\n",
       "11892    @AmericanAir 1hr 46 min. Cost of flight change...\n",
       "4330     @SouthwestAir Very frustrated for the loooooon...\n",
       "12054    @AmericanAir it's not just frustrating--it was...\n",
       "Name: text, dtype: object"
      ]
     },
     "execution_count": 175,
     "metadata": {},
     "output_type": "execute_result"
    }
   ],
   "source": [
    "a = train_data['tweet_id'][0]\n",
    "train_data[train_data['tweet_id'] == a].text"
   ]
  },
  {
   "cell_type": "code",
   "execution_count": 176,
   "metadata": {},
   "outputs": [],
   "source": [
    "train_data.drop(columns=['tweet_id'],inplace=True)"
   ]
  },
  {
   "cell_type": "markdown",
   "metadata": {},
   "source": [
    "ستون `_unit_id`هم طبق profiling که دیدیم هم معنی خاصی ندارد هم مقادیر آن unique هستند، پس فرقی با `key` برای ما ندارد پس آن را هم دور می‌ریزیم."
   ]
  },
  {
   "cell_type": "code",
   "execution_count": 177,
   "metadata": {},
   "outputs": [],
   "source": [
    "train_data.drop(columns=['_unit_id'],inplace=True)"
   ]
  },
  {
   "cell_type": "markdown",
   "metadata": {},
   "source": [
    "از لحاظ منطقی فیچر `name` هم به جز موارد خاص به ما کمکی در پیش‌بینی نظر کاربران راجب خط هوایی نمی‌کند. پس این ستون را نیز حذف می‌کنیم."
   ]
  },
  {
   "cell_type": "code",
   "execution_count": 178,
   "metadata": {},
   "outputs": [],
   "source": [
    "train_data.drop(columns=['name'],inplace=True)"
   ]
  },
  {
   "cell_type": "markdown",
   "metadata": {},
   "source": [
    "خب ما در این قسمت داده‌هایی تحت عنوان gold داریم که به نظر می‌اید معتبرتر باشند ولی تعداد آنها بسیار کم است ولی می‌توانیم به ۲ طریق از آنها استفاده کنیم.\n",
    "- با استفاده از آنها دقت داده‌های دیگر را بسنجیم و از آنها به عنوان شاخصی برای سنجش بهتر مدل استفاده کنیم.\n",
    "- آنها را به تعداد بالا تکرار کنیم تا تاثیر بیشتری در مدل داشته باشند (در اینجا خطر بایاس وجود دارد)"
   ]
  },
  {
   "cell_type": "code",
   "execution_count": 179,
   "metadata": {},
   "outputs": [],
   "source": [
    "golden_train_data = train_data[train_data['_golden']].copy()\n",
    "train_data.drop(columns=['_golden'],inplace=True)\n",
    "golden_train_data.drop(columns=['_golden'],inplace=True)\n",
    "golden_train_data.drop(columns=['_unit_state'],inplace=True)"
   ]
  },
  {
   "cell_type": "markdown",
   "metadata": {},
   "source": [
    "حالا برای ستون‌های مربوط به golden و متناظر عادی آنها `confusion matrix` را حساب می‌کنیم تا دقت داده‌های ثبت شده را بسنجیم."
   ]
  },
  {
   "cell_type": "code",
   "execution_count": 180,
   "metadata": {},
   "outputs": [
    {
     "name": "stdout",
     "output_type": "stream",
     "text": [
      "Airline Sentiment \n",
      "\t Confustion matrix:\n",
      "[[41  0  0]\n",
      " [ 0  4  0]\n",
      " [ 0  0  9]]\n",
      "\tAccuracy score: 1.0\n",
      "Negative Reason \n",
      "\t Confustion matrix:\n",
      "[[ 1  0  0  0  0  0  0  0  0  0  0  0  0  0  0]\n",
      " [ 0  3  0  0  0  0  0  0  0  0  0  0  0  0  0]\n",
      " [ 0  0  4  0  0  0  0  0  0  0  0  0  0  0  0]\n",
      " [ 0  0  0  0  2  0  0  0  0  0  0  0  0  0  0]\n",
      " [ 0  0  0  0 12  0  0  0  0  0  0  0  0  0  1]\n",
      " [ 0  2  0  0  0  0  0  0  0  0  0  0  0  0  0]\n",
      " [ 0  0  0  0  0  0  0  0  0  0  0  0  2  0  0]\n",
      " [ 0  0  0  0  0  0  0  2  0  0  0  0  0  0  0]\n",
      " [ 0  0  0  0  0  0  0  0  6  0  0  0  0  0  0]\n",
      " [ 0  0  1  0  0  0  0  0  0  0  0  0  0  0  0]\n",
      " [ 0  0  0  0  0  0  0  0  1  0  0  0  0  0  0]\n",
      " [ 0  0  0  0  0  0  0  0  2  0  0  0  0  0  0]\n",
      " [ 0  0  0  0  0  0  0  0  0  0  0  0  0  0  0]\n",
      " [ 0  0  0  0  0  0  0  0  0  0  0  0  2  0  0]\n",
      " [ 0  0  0  0  0  0  0  0  0  0  0  0  0  0  0]]\n",
      "\tAccuracy score: 0.4556213017751479\n"
     ]
    },
    {
     "name": "stderr",
     "output_type": "stream",
     "text": [
      "/home/nima/.local/lib/python3.8/site-packages/sklearn/metrics/_classification.py:1814: UserWarning: y_pred contains classes not in y_true\n",
      "  warnings.warn('y_pred contains classes not in y_true')\n"
     ]
    }
   ],
   "source": [
    "y_true = golden_train_data['airline_sentiment_gold']\n",
    "y_submit = golden_train_data['airline_sentiment']\n",
    "print(\"Airline Sentiment \\n\\t Confustion matrix:\")\n",
    "print(confusion_matrix(y_true,y_submit))\n",
    "print(\"\\tAccuracy score:\",accuracy_score(y_true,y_submit,normalize=True))\n",
    "y_true = golden_train_data['negativereason_gold'][golden_train_data['negativereason_gold'].notna()]\n",
    "y_submit = golden_train_data['negativereason'][golden_train_data['negativereason'].notna()]\n",
    "print(\"Negative Reason \\n\\t Confustion matrix:\")\n",
    "print(confusion_matrix(y_true,y_submit))\n",
    "print(\"\\tAccuracy score:\",balanced_accuracy_score(y_true,y_submit))"
   ]
  },
  {
   "cell_type": "markdown",
   "metadata": {},
   "source": [
    "داده‌هایی که در وضعیت `in progress` قرار دارند را نیز دور می‌ریزیم چون تعداد آنها در کل ۱۳ تاست (طبق profiling) و حالا که داده‌های `golden` را جدا کردیم می‌توانیم این ستون را نیز حذف کنیم.\n",
    "\n",
    "پس از آن ستون‌های مربوط به داده‌های gold را نیز برای داده‌های باقیمانده دور می‌ریزیم."
   ]
  },
  {
   "cell_type": "code",
   "execution_count": 181,
   "metadata": {},
   "outputs": [],
   "source": [
    "train_data.drop(index=train_data[train_data['_unit_state'] != 'finalized'].index,inplace=True)"
   ]
  },
  {
   "cell_type": "code",
   "execution_count": 182,
   "metadata": {},
   "outputs": [],
   "source": [
    "train_data.drop(columns=['negativereason_gold','airline_sentiment_gold'],inplace=True)"
   ]
  },
  {
   "cell_type": "code",
   "execution_count": 183,
   "metadata": {},
   "outputs": [],
   "source": [
    "train_data.drop(columns=['_unit_state'],inplace=True)"
   ]
  },
  {
   "cell_type": "code",
   "execution_count": 184,
   "metadata": {},
   "outputs": [],
   "source": [
    "def get_coord_a(value):\n",
    "    if not isinstance(value,str):\n",
    "        return None,None\n",
    "    else:\n",
    "        a,b =  value[1:-1].split(',')\n",
    "        return float(a)\n",
    "['tweet_coord']\n",
    "def get_coord_b(value):\n",
    "    if not isinstance(value,str):\n",
    "        return None,None\n",
    "    else:\n",
    "        a,b =  value[1:-1].split(',')\n",
    "        return float(b)\n",
    "A = train_data['tweet_coord'][train_data['tweet_coord'].notna()].apply(get_coord_a)\n",
    "B = train_data['tweet_coord'][train_data['tweet_coord'].notna()].apply(get_coord_b)"
   ]
  },
  {
   "cell_type": "code",
   "execution_count": 185,
   "metadata": {},
   "outputs": [
    {
     "data": {
      "text/plain": [
       "<matplotlib.collections.PathCollection at 0x7fb47e7c76d0>"
      ]
     },
     "execution_count": 185,
     "metadata": {},
     "output_type": "execute_result"
    },
    {
     "data": {
      "image/png": "[encoded data removed]",
      "text/plain": [
       "<Figure size 432x288 with 1 Axes>"
      ]
     },
     "metadata": {
      "needs_background": "light"
     },
     "output_type": "display_data"
    }
   ],
   "source": [
    "plt.scatter(-1*A,-1*B)"
   ]
  },
  {
   "cell_type": "markdown",
   "metadata": {},
   "source": [
    "به صورت شهودی می‌توان حدس زد که این نقاط مختصات نقطه‌ای که هر توییت از آن ارسال شده را نشان می‌دهند. اما به نظر بهتر می‌آید از cluster شده‌ی آنها که در ستون دیگری موجود است استفاده کرد.\n",
    "\n",
    "در ضمن تعداد آنها نیز خیلی کم است."
   ]
  },
  {
   "cell_type": "code",
   "execution_count": 186,
   "metadata": {},
   "outputs": [],
   "source": [
    "train_data.drop(columns=['tweet_coord'],inplace=True)"
   ]
  },
  {
   "cell_type": "code",
   "execution_count": 187,
   "metadata": {},
   "outputs": [
    {
     "data": {
      "text/html": [
       "<div>\n",
       "<style scoped>\n",
       "    .dataframe tbody tr th:only-of-type {\n",
       "        vertical-align: middle;\n",
       "    }\n",
       "\n",
       "    .dataframe tbody tr th {\n",
       "        vertical-align: top;\n",
       "    }\n",
       "\n",
       "    .dataframe thead th {\n",
       "        text-align: right;\n",
       "    }\n",
       "</style>\n",
       "<table border=\"1\" class=\"dataframe\">\n",
       "  <thead>\n",
       "    <tr style=\"text-align: right;\">\n",
       "      <th></th>\n",
       "      <th>_trusted_judgments</th>\n",
       "      <th>_last_judgment_at</th>\n",
       "      <th>airline_sentiment</th>\n",
       "      <th>airline_sentiment:confidence</th>\n",
       "      <th>negativereason</th>\n",
       "      <th>negativereason:confidence</th>\n",
       "      <th>airline</th>\n",
       "      <th>retweet_count</th>\n",
       "      <th>text</th>\n",
       "      <th>tweet_created</th>\n",
       "      <th>tweet_location</th>\n",
       "      <th>user_timezone</th>\n",
       "    </tr>\n",
       "    <tr>\n",
       "      <th>key</th>\n",
       "      <th></th>\n",
       "      <th></th>\n",
       "      <th></th>\n",
       "      <th></th>\n",
       "      <th></th>\n",
       "      <th></th>\n",
       "      <th></th>\n",
       "      <th></th>\n",
       "      <th></th>\n",
       "      <th></th>\n",
       "      <th></th>\n",
       "      <th></th>\n",
       "    </tr>\n",
       "  </thead>\n",
       "  <tbody>\n",
       "    <tr>\n",
       "      <th>11429</th>\n",
       "      <td>3</td>\n",
       "      <td>2/25/15 3:07</td>\n",
       "      <td>positive</td>\n",
       "      <td>1.0</td>\n",
       "      <td>NaN</td>\n",
       "      <td>NaN</td>\n",
       "      <td>US Airways</td>\n",
       "      <td>0</td>\n",
       "      <td>@USAirways she also appreciated having her ver...</td>\n",
       "      <td>2/18/15 10:55</td>\n",
       "      <td>Memphis, Tennessee</td>\n",
       "      <td>Central Time (US &amp; Canada)</td>\n",
       "    </tr>\n",
       "    <tr>\n",
       "      <th>9717</th>\n",
       "      <td>3</td>\n",
       "      <td>2/25/15 3:20</td>\n",
       "      <td>negative</td>\n",
       "      <td>1.0</td>\n",
       "      <td>Can't Tell</td>\n",
       "      <td>0.3464</td>\n",
       "      <td>US Airways</td>\n",
       "      <td>0</td>\n",
       "      <td>@USAirways Just discovered that they billed us...</td>\n",
       "      <td>2/22/15 19:24</td>\n",
       "      <td>Southeastern Pennsylvania USA</td>\n",
       "      <td>NaN</td>\n",
       "    </tr>\n",
       "    <tr>\n",
       "      <th>10153</th>\n",
       "      <td>3</td>\n",
       "      <td>2/25/15 6:20</td>\n",
       "      <td>negative</td>\n",
       "      <td>1.0</td>\n",
       "      <td>Can't Tell</td>\n",
       "      <td>1.0000</td>\n",
       "      <td>US Airways</td>\n",
       "      <td>0</td>\n",
       "      <td>@USAirways u guys suck</td>\n",
       "      <td>2/22/15 7:28</td>\n",
       "      <td>NaN</td>\n",
       "      <td>NaN</td>\n",
       "    </tr>\n",
       "    <tr>\n",
       "      <th>975</th>\n",
       "      <td>3</td>\n",
       "      <td>2/25/15 2:14</td>\n",
       "      <td>negative</td>\n",
       "      <td>1.0</td>\n",
       "      <td>Can't Tell</td>\n",
       "      <td>1.0000</td>\n",
       "      <td>United</td>\n",
       "      <td>0</td>\n",
       "      <td>@united I will but right now I'm to angry</td>\n",
       "      <td>2/23/15 14:09</td>\n",
       "      <td>Punk is the preacher.</td>\n",
       "      <td>Arizona</td>\n",
       "    </tr>\n",
       "    <tr>\n",
       "      <th>1511</th>\n",
       "      <td>3</td>\n",
       "      <td>2/25/15 6:57</td>\n",
       "      <td>negative</td>\n",
       "      <td>1.0</td>\n",
       "      <td>Can't Tell</td>\n",
       "      <td>0.6848</td>\n",
       "      <td>United</td>\n",
       "      <td>0</td>\n",
       "      <td>@united not sure why the people in row 7 that ...</td>\n",
       "      <td>2/22/15 18:50</td>\n",
       "      <td>San Francisco</td>\n",
       "      <td>Pacific Time (US &amp; Canada)</td>\n",
       "    </tr>\n",
       "  </tbody>\n",
       "</table>\n",
       "</div>"
      ],
      "text/plain": [
       "       _trusted_judgments _last_judgment_at airline_sentiment  \\\n",
       "key                                                             \n",
       "11429                   3      2/25/15 3:07          positive   \n",
       "9717                    3      2/25/15 3:20          negative   \n",
       "10153                   3      2/25/15 6:20          negative   \n",
       "975                     3      2/25/15 2:14          negative   \n",
       "1511                    3      2/25/15 6:57          negative   \n",
       "\n",
       "       airline_sentiment:confidence negativereason  negativereason:confidence  \\\n",
       "key                                                                             \n",
       "11429                           1.0            NaN                        NaN   \n",
       "9717                            1.0     Can't Tell                     0.3464   \n",
       "10153                           1.0     Can't Tell                     1.0000   \n",
       "975                             1.0     Can't Tell                     1.0000   \n",
       "1511                            1.0     Can't Tell                     0.6848   \n",
       "\n",
       "          airline  retweet_count  \\\n",
       "key                                \n",
       "11429  US Airways              0   \n",
       "9717   US Airways              0   \n",
       "10153  US Airways              0   \n",
       "975        United              0   \n",
       "1511       United              0   \n",
       "\n",
       "                                                    text  tweet_created  \\\n",
       "key                                                                       \n",
       "11429  @USAirways she also appreciated having her ver...  2/18/15 10:55   \n",
       "9717   @USAirways Just discovered that they billed us...  2/22/15 19:24   \n",
       "10153                             @USAirways u guys suck   2/22/15 7:28   \n",
       "975            @united I will but right now I'm to angry  2/23/15 14:09   \n",
       "1511   @united not sure why the people in row 7 that ...  2/22/15 18:50   \n",
       "\n",
       "                      tweet_location               user_timezone  \n",
       "key                                                               \n",
       "11429             Memphis, Tennessee  Central Time (US & Canada)  \n",
       "9717   Southeastern Pennsylvania USA                         NaN  \n",
       "10153                            NaN                         NaN  \n",
       "975            Punk is the preacher.                     Arizona  \n",
       "1511                   San Francisco  Pacific Time (US & Canada)  "
      ]
     },
     "execution_count": 187,
     "metadata": {},
     "output_type": "execute_result"
    }
   ],
   "source": [
    "train_data.head(5)"
   ]
  },
  {
   "cell_type": "markdown",
   "metadata": {},
   "source": [
    "همچنین می‌توانیم نموداری از دلایل نارضایتی مردم از هواپیمایی‌هایی مختلف رسم کنیم."
   ]
  },
  {
   "cell_type": "code",
   "execution_count": 188,
   "metadata": {},
   "outputs": [],
   "source": [
    "def plot_negative_reasons(airline):\n",
    "    df=train_data[train_data['airline']==airline]['negativereason'].value_counts()\n",
    "    index = df.index\n",
    "    value = df.values\n",
    "    ax = sns.barplot(x=value,y=index)\n",
    "    ax.set(xlabel=\"Count\",ylabel=\"Negative Reason\",title=f'Airline: {airline}')"
   ]
  },
  {
   "cell_type": "code",
   "execution_count": 189,
   "metadata": {},
   "outputs": [
    {
     "data": {
      "image/png": "[encoded data removed]",
      "text/plain": [
       "<Figure size 432x288 with 1 Axes>"
      ]
     },
     "metadata": {
      "needs_background": "light"
     },
     "output_type": "display_data"
    }
   ],
   "source": [
    "plot_negative_reasons('United')"
   ]
  },
  {
   "cell_type": "markdown",
   "metadata": {},
   "source": [
    "# Text Preprocessing"
   ]
  },
  {
   "cell_type": "code",
   "execution_count": 190,
   "metadata": {},
   "outputs": [],
   "source": [
    "tweets = train_data[['text']]\n",
    "y = train_data['airline_sentiment']"
   ]
  },
  {
   "cell_type": "code",
   "execution_count": 191,
   "metadata": {},
   "outputs": [
    {
     "name": "stderr",
     "output_type": "stream",
     "text": [
      "[nltk_data] Downloading package stopwords to /home/nima/nltk_data...\n",
      "[nltk_data]   Package stopwords is already up-to-date!\n",
      "[nltk_data] Downloading package punkt to /home/nima/nltk_data...\n",
      "[nltk_data]   Package punkt is already up-to-date!\n"
     ]
    },
    {
     "data": {
      "text/plain": [
       "True"
      ]
     },
     "execution_count": 191,
     "metadata": {},
     "output_type": "execute_result"
    }
   ],
   "source": [
    "import nltk\n",
    "nltk.download('stopwords')\n",
    "nltk.download('punkt')"
   ]
  },
  {
   "cell_type": "markdown",
   "metadata": {},
   "source": [
    "در این قسمت\n",
    "1. `stopword`ها را حذف می‌کنیم.\n",
    "2. قسمت‌های غیر از کلمات مثل mentionها و یا آدرس‌های وب را حذف می‌کنیم.\n",
    "3. کلمه‌ها را به ریشه‌های آنها `stem` می‌کنیم.\n",
    "4. معیار `tf-idf` را برای کلمات مختلف حساب می‌کنیم.\n",
    "5. کلمات را lowercase می‌کنیم.\n",
    "\n",
    "ما به جای استفاده از آپشن‌های موجود در خود کلاس `Tf-idf Vectorizer` خودمان متن را پردازش می‌کنیم تا بسته به محتوی تغییراتی در روش پردازش ایجاد کنیم.\n",
    "مثلا اینجا محتوی توییت است و باید منشن‌ها و لینک‌ها را از توییت حذف کرد."
   ]
  },
  {
   "cell_type": "code",
   "execution_count": 262,
   "metadata": {},
   "outputs": [],
   "source": [
    "import re\n",
    "from nltk.corpus import stopwords\n",
    "from sklearn.feature_extraction.text import TfidfVectorizer\n",
    "from nltk.stem import SnowballStemmer\n",
    "from nltk.tokenize import word_tokenize\n",
    "from sklearn.preprocessing import LabelEncoder,OneHotEncoder"
   ]
  },
  {
   "cell_type": "code",
   "execution_count": 193,
   "metadata": {},
   "outputs": [],
   "source": [
    "class TextProcessor:\n",
    "    \n",
    "    def __init__(self,stopwords=None,):\n",
    "        self.stopwords = set(stopwords)\n",
    "        self.stemmer = SnowballStemmer(\"english\")\n",
    "        \n",
    "    def tokenize(self,text):\n",
    "        return word_tokenize(text.lower(),language=\"english\")\n",
    "    \n",
    "    def remove_stopwords(self,sentence):\n",
    "        filtered_sentence = []\n",
    "        for word in sentence:\n",
    "            if word not in self.stopwords and len(word) > 1 and '/' not in word and 'http' not in word and '@' not in word:\n",
    "                filtered_sentence.append(word)\n",
    "        return filtered_sentence\n",
    "    \n",
    "    def stem(self,sentence):\n",
    "            return [self.stemmer.stem(word) for word in sentence]\n",
    "        \n",
    "    def remove_url(self , text):\n",
    "        # remove urls from text\n",
    "        text = re.sub(r'https?:\\/\\/(www\\.)?[-a-zA-Z0-9@:%._\\+~#=]{1,256}\\.[a-zA-Z0-9()]{1,6}\\b([-a-zA-Z0-9()@:%_\\+.~#?&//=]*)',\n",
    "                      ' ',\n",
    "                     text)\n",
    "        # remove tweet mentions\n",
    "        text = re.sub(r'(?!.*\\bRT\\b)(?:.+\\s)?@\\w+',' ',text)\n",
    "        return text\n",
    "    \n",
    "    def process(self,text):\n",
    "        return ' '.join(self.stem(self.remove_stopwords(self.tokenize(self.remove_url(text)))))"
   ]
  },
  {
   "cell_type": "code",
   "execution_count": 194,
   "metadata": {},
   "outputs": [
    {
     "name": "stderr",
     "output_type": "stream",
     "text": [
      "<ipython-input-194-35816a925120>:3: SettingWithCopyWarning: \n",
      "A value is trying to be set on a copy of a slice from a DataFrame.\n",
      "Try using .loc[row_indexer,col_indexer] = value instead\n",
      "\n",
      "See the caveats in the documentation: https://pandas.pydata.org/pandas-docs/stable/user_guide/indexing.html#returning-a-view-versus-a-copy\n",
      "  tweets[\"processed\"] = tweets[\"text\"].apply(t.process)\n"
     ]
    }
   ],
   "source": [
    "t = TextProcessor(stopwords=stopwords.words(\"english\"))\n",
    "\n",
    "tweets[\"processed\"] = tweets[\"text\"].apply(t.process)"
   ]
  },
  {
   "cell_type": "markdown",
   "metadata": {},
   "source": [
    "با استفاده از `TfidfVectorizer` معیار Tf-idf را برای همه‌ی کلمات (ریشه‌ی کلمات) برای همه‌ی توییت‌ها محاسبه می‌کنیم."
   ]
  },
  {
   "cell_type": "code",
   "execution_count": 195,
   "metadata": {},
   "outputs": [],
   "source": [
    "vectorizer = TfidfVectorizer()\n",
    "X = vectorizer.fit_transform(tweets[\"processed\"])"
   ]
  },
  {
   "cell_type": "markdown",
   "metadata": {},
   "source": [
    "برای استفاده در تست `chi-square` متغیر جواب را به شماره encode می‌کنیم."
   ]
  },
  {
   "cell_type": "code",
   "execution_count": 196,
   "metadata": {},
   "outputs": [],
   "source": [
    "label_encoder = LabelEncoder()\n",
    "y_encoded = label_encoder.fit_transform(y)"
   ]
  },
  {
   "cell_type": "code",
   "execution_count": 197,
   "metadata": {},
   "outputs": [
    {
     "name": "stdout",
     "output_type": "stream",
     "text": [
      "['negative' 'neutral' 'positive']\n",
      "[2 0 0 ... 0 0 1]\n"
     ]
    }
   ],
   "source": [
    "print(label_encoder.classes_)\n",
    "print(y_encoded)"
   ]
  },
  {
   "cell_type": "markdown",
   "metadata": {},
   "source": [
    "# Chi-square Test\n",
    "حالا با استفاده از تست Chi-square معتبر بودن هر کدام از این ریشه‌ی کلمات را برای کار دسته بندی خودمان می‌سنجیم تا تعداد آنها را محدود کنیم."
   ]
  },
  {
   "cell_type": "code",
   "execution_count": 198,
   "metadata": {},
   "outputs": [],
   "source": [
    "from sklearn.feature_selection import chi2,SelectKBest"
   ]
  },
  {
   "cell_type": "code",
   "execution_count": 199,
   "metadata": {},
   "outputs": [],
   "source": [
    "chi_scores, p_values = chi2(X,y)"
   ]
  },
  {
   "cell_type": "code",
   "execution_count": 200,
   "metadata": {},
   "outputs": [
    {
     "data": {
      "text/plain": [
       "<AxesSubplot:xlabel='features', ylabel='P-values'>"
      ]
     },
     "execution_count": 200,
     "metadata": {},
     "output_type": "execute_result"
    },
    {
     "data": {
      "image/png": "[encoded data removed]",
      "text/plain": [
       "<Figure size 432x288 with 1 Axes>"
      ]
     },
     "metadata": {
      "needs_background": "light"
     },
     "output_type": "display_data"
    }
   ],
   "source": [
    "p_values.sort()\n",
    "p_series = pd.Series(p_values)\n",
    "p_series.plot(ylabel=\"P-values\",xlabel=\"features\")"
   ]
  },
  {
   "cell_type": "markdown",
   "metadata": {},
   "source": [
    "طبق نمودار حدودا ۵۰۰ ویژگی را می‌توانیم جدا و برای مدل استفاده کنیم."
   ]
  },
  {
   "cell_type": "code",
   "execution_count": 201,
   "metadata": {},
   "outputs": [],
   "source": [
    "X_new = SelectKBest(chi2,k=500).fit_transform(X,y)"
   ]
  },
  {
   "cell_type": "markdown",
   "metadata": {},
   "source": [
    "# Training Model\n",
    "در مرحله‌ی اول فقط از ویژگی‌های بدست آمده از متن توییت استفاده می‌کنیم. در مراحل بعد به مرور ویژگی‌های دیگر را به آن اضافه خواهیم کرد. "
   ]
  },
  {
   "cell_type": "code",
   "execution_count": 202,
   "metadata": {},
   "outputs": [],
   "source": [
    "train_data.drop(columns=['_last_judgment_at'],inplace=True)\n",
    "train_data.drop(columns=['tweet_created'],inplace=True)"
   ]
  },
  {
   "cell_type": "code",
   "execution_count": 203,
   "metadata": {},
   "outputs": [],
   "source": [
    "final_data = train_data.drop(columns=['airline_sentiment','text'])"
   ]
  },
  {
   "cell_type": "code",
   "execution_count": 204,
   "metadata": {},
   "outputs": [],
   "source": [
    "words_df= pd.DataFrame.sparse.from_spmatrix(X_new,index=final_data.index)"
   ]
  },
  {
   "cell_type": "code",
   "execution_count": 208,
   "metadata": {},
   "outputs": [],
   "source": [
    "train_index = final_data.index.intersection(train_index)\n",
    "validation_index = final_data.index.intersection(validation_index)\n",
    "test_index = final_data.index.intersection(test_index)"
   ]
  },
  {
   "cell_type": "code",
   "execution_count": 223,
   "metadata": {},
   "outputs": [],
   "source": [
    "train_final = final_data.loc[train_index]\n",
    "validation_final = final_data.loc[validation_index]\n",
    "test_final = final_data.loc[test_index]\n",
    "train_words = scipy.sparse.csc_matrix(words_df.loc[train_index].values)\n",
    "validation_words = scipy.sparse.csc_matrix(words_df.loc[validation_index].values)\n",
    "test_words = scipy.sparse.csc_matrix(words_df.loc[test_index].values)"
   ]
  },
  {
   "cell_type": "code",
   "execution_count": 231,
   "metadata": {},
   "outputs": [],
   "source": [
    "y_train = y[train_index]\n",
    "y_validation = y[validation_index]\n",
    "y_test = y[test_index]"
   ]
  },
  {
   "cell_type": "markdown",
   "metadata": {},
   "source": [
    "## Multinomial Naive Bayes"
   ]
  },
  {
   "cell_type": "code",
   "execution_count": 232,
   "metadata": {},
   "outputs": [],
   "source": [
    "from sklearn.naive_bayes import MultinomialNB\n",
    "from sklearn.metrics import classification_report\n",
    "multinomial_nb = MultinomialNB()"
   ]
  },
  {
   "cell_type": "code",
   "execution_count": 233,
   "metadata": {},
   "outputs": [
    {
     "data": {
      "text/plain": [
       "MultinomialNB()"
      ]
     },
     "execution_count": 233,
     "metadata": {},
     "output_type": "execute_result"
    }
   ],
   "source": [
    "multinomial_nb.fit(train_words,y_train)"
   ]
  },
  {
   "cell_type": "code",
   "execution_count": 235,
   "metadata": {},
   "outputs": [
    {
     "name": "stdout",
     "output_type": "stream",
     "text": [
      "Train Dataset:\n",
      "              precision    recall  f1-score   support\n",
      "\n",
      "    negative       0.70      0.99      0.82      5515\n",
      "     neutral       0.77      0.19      0.30      1786\n",
      "    positive       0.91      0.31      0.46      1444\n",
      "\n",
      "    accuracy                           0.71      8745\n",
      "   macro avg       0.79      0.50      0.53      8745\n",
      "weighted avg       0.75      0.71      0.65      8745\n",
      "\n",
      "Validation Dataset:\n",
      "              precision    recall  f1-score   support\n",
      "\n",
      "    negative       0.69      0.99      0.81      7192\n",
      "     neutral       0.76      0.19      0.31      2688\n",
      "    positive       0.90      0.32      0.47      1788\n",
      "\n",
      "    accuracy                           0.71     11668\n",
      "   macro avg       0.78      0.50      0.53     11668\n",
      "weighted avg       0.74      0.71      0.64     11668\n",
      "\n"
     ]
    }
   ],
   "source": [
    "# predicting using 500 features\n",
    "y_predicted = multinomial_nb.predict(train_words)\n",
    "print(\"Train Dataset:\")\n",
    "print(classification_report(y_true=y_train,y_pred=y_predicted))\n",
    "y_predicted = multinomial_nb.predict(validation_words)\n",
    "print(\"Validation Dataset:\")\n",
    "print(classification_report(y_true=y_validation,y_pred=y_predicted))"
   ]
  },
  {
   "cell_type": "code",
   "execution_count": 110,
   "metadata": {},
   "outputs": [
    {
     "data": {
      "text/plain": [
       "MultinomialNB()"
      ]
     },
     "execution_count": 110,
     "metadata": {},
     "output_type": "execute_result"
    }
   ],
   "source": [
    "multinomial_nb.fit(X,y)"
   ]
  },
  {
   "cell_type": "code",
   "execution_count": 113,
   "metadata": {},
   "outputs": [
    {
     "name": "stdout",
     "output_type": "stream",
     "text": [
      "              precision    recall  f1-score   support\n",
      "\n",
      "    negative       0.71      1.00      0.83      5515\n",
      "     neutral       0.91      0.24      0.38      1786\n",
      "    positive       0.95      0.33      0.49      1444\n",
      "\n",
      "    accuracy                           0.73      8745\n",
      "   macro avg       0.86      0.52      0.56      8745\n",
      "weighted avg       0.79      0.73      0.68      8745\n",
      "\n"
     ]
    }
   ],
   "source": [
    "# predicting using about 8000 features\n",
    "y_predicted = multinomial_nb.predict(X)\n",
    "print(classification_report(y_true=y,y_pred=y_predicted))"
   ]
  },
  {
   "cell_type": "markdown",
   "metadata": {},
   "source": [
    "می‌بینیم که با تغییر تعداد ویژگی‌ها از ۵۰۰ به ۸۰۰۰ تغییر عمده‌ای در دقت مدل رخ نداده پس استفاده از تست chi-square درست بوده است."
   ]
  },
  {
   "cell_type": "markdown",
   "metadata": {},
   "source": [
    "## SVC (Support Vector Classification)"
   ]
  },
  {
   "cell_type": "code",
   "execution_count": 114,
   "metadata": {},
   "outputs": [],
   "source": [
    "from sklearn.svm import SVC"
   ]
  },
  {
   "cell_type": "code",
   "execution_count": 115,
   "metadata": {},
   "outputs": [],
   "source": [
    "svc = SVC(kernel='rbf',probability=True,C=0.025)"
   ]
  },
  {
   "cell_type": "code",
   "execution_count": 237,
   "metadata": {},
   "outputs": [
    {
     "data": {
      "text/plain": [
       "SVC(C=0.025, probability=True)"
      ]
     },
     "execution_count": 237,
     "metadata": {},
     "output_type": "execute_result"
    }
   ],
   "source": [
    "svc.fit(train_words,y_train)"
   ]
  },
  {
   "cell_type": "code",
   "execution_count": 238,
   "metadata": {},
   "outputs": [
    {
     "name": "stdout",
     "output_type": "stream",
     "text": [
      "Train Dataset:\n"
     ]
    },
    {
     "name": "stderr",
     "output_type": "stream",
     "text": [
      "/home/nima/.local/lib/python3.8/site-packages/sklearn/metrics/_classification.py:1221: UndefinedMetricWarning: Precision and F-score are ill-defined and being set to 0.0 in labels with no predicted samples. Use `zero_division` parameter to control this behavior.\n",
      "  _warn_prf(average, modifier, msg_start, len(result))\n"
     ]
    },
    {
     "name": "stdout",
     "output_type": "stream",
     "text": [
      "              precision    recall  f1-score   support\n",
      "\n",
      "    negative       0.64      1.00      0.78      5515\n",
      "     neutral       0.00      0.00      0.00      1786\n",
      "    positive       0.83      0.09      0.16      1444\n",
      "\n",
      "    accuracy                           0.64      8745\n",
      "   macro avg       0.49      0.36      0.31      8745\n",
      "weighted avg       0.54      0.64      0.52      8745\n",
      "\n",
      "Validation Dataset:\n",
      "              precision    recall  f1-score   support\n",
      "\n",
      "    negative       0.62      1.00      0.77      7192\n",
      "     neutral       0.00      0.00      0.00      2688\n",
      "    positive       0.71      0.06      0.11      1788\n",
      "\n",
      "    accuracy                           0.62     11668\n",
      "   macro avg       0.44      0.35      0.29     11668\n",
      "weighted avg       0.49      0.62      0.49     11668\n",
      "\n"
     ]
    }
   ],
   "source": [
    "# using only 500 features\n",
    "y_predicted = svc.predict(train_words)\n",
    "print(\"Train Dataset:\")\n",
    "print(classification_report(y_true=y_train,y_pred=y_predicted))\n",
    "y_predicted = svc.predict(validation_words)\n",
    "print(\"Validation Dataset:\")\n",
    "print(classification_report(y_true=y_validation,y_pred=y_predicted))"
   ]
  },
  {
   "cell_type": "code",
   "execution_count": 119,
   "metadata": {},
   "outputs": [
    {
     "data": {
      "text/plain": [
       "SVC(C=0.025, probability=True)"
      ]
     },
     "execution_count": 119,
     "metadata": {},
     "output_type": "execute_result"
    }
   ],
   "source": [
    "# using all features\n",
    "svc.fit(X,y)"
   ]
  },
  {
   "cell_type": "code",
   "execution_count": 120,
   "metadata": {},
   "outputs": [
    {
     "name": "stdout",
     "output_type": "stream",
     "text": [
      "              precision    recall  f1-score   support\n",
      "\n",
      "    negative       0.64      1.00      0.78      5515\n",
      "     neutral       0.00      0.00      0.00      1786\n",
      "    positive       0.87      0.06      0.11      1444\n",
      "\n",
      "    accuracy                           0.64      8745\n",
      "   macro avg       0.50      0.35      0.30      8745\n",
      "weighted avg       0.55      0.64      0.51      8745\n",
      "\n"
     ]
    }
   ],
   "source": [
    "y_predicted = svc.predict(X)\n",
    "print(classification_report(y_true=y,y_pred=y_predicted))"
   ]
  },
  {
   "cell_type": "markdown",
   "metadata": {},
   "source": [
    "همچنین اینجا هم استفاده از تمام ویژگی‌های متنی توییت تغییر خاصی در دقت مدل نداد."
   ]
  },
  {
   "cell_type": "markdown",
   "metadata": {},
   "source": [
    "## KNN (K nearest neighbors)"
   ]
  },
  {
   "cell_type": "code",
   "execution_count": 121,
   "metadata": {},
   "outputs": [],
   "source": [
    "from sklearn.neighbors import KNeighborsClassifier"
   ]
  },
  {
   "cell_type": "code",
   "execution_count": 122,
   "metadata": {},
   "outputs": [],
   "source": [
    "knn_50 = KNeighborsClassifier(n_neighbors=50)\n",
    "knn_3 = KNeighborsClassifier(n_neighbors=3)"
   ]
  },
  {
   "cell_type": "markdown",
   "metadata": {},
   "source": [
    "اینجا حتی نیازی به امتحان کردن کل فیچرها نداریم چون curse of dimentionality حتما KNN را خراب می‌کند."
   ]
  },
  {
   "cell_type": "code",
   "execution_count": 239,
   "metadata": {},
   "outputs": [
    {
     "data": {
      "text/plain": [
       "KNeighborsClassifier(n_neighbors=3)"
      ]
     },
     "execution_count": 239,
     "metadata": {},
     "output_type": "execute_result"
    }
   ],
   "source": [
    "knn_50.fit(train_words,y_train)\n",
    "knn_3.fit(train_words,y_train)"
   ]
  },
  {
   "cell_type": "code",
   "execution_count": 240,
   "metadata": {},
   "outputs": [
    {
     "name": "stdout",
     "output_type": "stream",
     "text": [
      "KNN with 50 neighbors:\n",
      "Train Dataset:\n",
      "              precision    recall  f1-score   support\n",
      "\n",
      "    negative       0.74      0.89      0.81      5515\n",
      "     neutral       0.48      0.42      0.45      1786\n",
      "    positive       0.83      0.33      0.47      1444\n",
      "\n",
      "    accuracy                           0.70      8745\n",
      "   macro avg       0.68      0.55      0.58      8745\n",
      "weighted avg       0.70      0.70      0.68      8745\n",
      "\n",
      "Validation Dataset:\n",
      "              precision    recall  f1-score   support\n",
      "\n",
      "    negative       0.72      0.89      0.79      7192\n",
      "     neutral       0.50      0.40      0.44      2688\n",
      "    positive       0.76      0.28      0.41      1788\n",
      "\n",
      "    accuracy                           0.68     11668\n",
      "   macro avg       0.66      0.52      0.55     11668\n",
      "weighted avg       0.68      0.68      0.65     11668\n",
      "\n"
     ]
    }
   ],
   "source": [
    "print(\"KNN with 50 neighbors:\")\n",
    "print(\"Train Dataset:\")\n",
    "y_predicted = knn_50.predict(train_words)\n",
    "print(classification_report(y_true=y_train,y_pred=y_predicted))\n",
    "print(\"Validation Dataset:\")\n",
    "y_predicted = knn_50.predict(validation_words)\n",
    "print(classification_report(y_true=y_validation,y_pred=y_predicted))"
   ]
  },
  {
   "cell_type": "code",
   "execution_count": 241,
   "metadata": {},
   "outputs": [
    {
     "name": "stdout",
     "output_type": "stream",
     "text": [
      "KNN with 3 neighbors:\n",
      "Train Dataset:\n",
      "              precision    recall  f1-score   support\n",
      "\n",
      "    negative       0.81      0.93      0.87      5515\n",
      "     neutral       0.72      0.54      0.62      1786\n",
      "    positive       0.85      0.60      0.70      1444\n",
      "\n",
      "    accuracy                           0.80      8745\n",
      "   macro avg       0.79      0.69      0.73      8745\n",
      "weighted avg       0.80      0.80      0.79      8745\n",
      "\n",
      "Validation Dataset:\n",
      "              precision    recall  f1-score   support\n",
      "\n",
      "    negative       0.72      0.84      0.78      7192\n",
      "     neutral       0.46      0.39      0.42      2688\n",
      "    positive       0.68      0.42      0.52      1788\n",
      "\n",
      "    accuracy                           0.67     11668\n",
      "   macro avg       0.62      0.55      0.57     11668\n",
      "weighted avg       0.66      0.67      0.65     11668\n",
      "\n"
     ]
    }
   ],
   "source": [
    "print(\"KNN with 3 neighbors:\")\n",
    "print(\"Train Dataset:\")\n",
    "y_predicted = knn_3.predict(train_words)\n",
    "print(classification_report(y_true=y_train,y_pred=y_predicted))\n",
    "print(\"Validation Dataset:\")\n",
    "y_predicted = knn_3.predict(validation_words)\n",
    "print(classification_report(y_true=y_validation,y_pred=y_predicted))"
   ]
  },
  {
   "cell_type": "markdown",
   "metadata": {},
   "source": [
    "## Random Forest Classifier"
   ]
  },
  {
   "cell_type": "code",
   "execution_count": 126,
   "metadata": {},
   "outputs": [],
   "source": [
    "from sklearn.ensemble import RandomForestClassifier"
   ]
  },
  {
   "cell_type": "code",
   "execution_count": 127,
   "metadata": {},
   "outputs": [],
   "source": [
    "random_forest = RandomForestClassifier(n_estimators=200)"
   ]
  },
  {
   "cell_type": "code",
   "execution_count": 242,
   "metadata": {},
   "outputs": [
    {
     "data": {
      "text/plain": [
       "RandomForestClassifier(n_estimators=200)"
      ]
     },
     "execution_count": 242,
     "metadata": {},
     "output_type": "execute_result"
    }
   ],
   "source": [
    "random_forest.fit(train_words,y_train)"
   ]
  },
  {
   "cell_type": "code",
   "execution_count": 243,
   "metadata": {},
   "outputs": [
    {
     "name": "stdout",
     "output_type": "stream",
     "text": [
      "Train Dataset:\n",
      "              precision    recall  f1-score   support\n",
      "\n",
      "    negative       0.94      1.00      0.97      5515\n",
      "     neutral       0.99      0.84      0.91      1786\n",
      "    positive       0.99      0.94      0.97      1444\n",
      "\n",
      "    accuracy                           0.96      8745\n",
      "   macro avg       0.97      0.93      0.95      8745\n",
      "weighted avg       0.96      0.96      0.96      8745\n",
      "\n",
      "Validation Dataset:\n",
      "              precision    recall  f1-score   support\n",
      "\n",
      "    negative       0.75      0.90      0.82      7192\n",
      "     neutral       0.60      0.37      0.46      2688\n",
      "    positive       0.65      0.52      0.57      1788\n",
      "\n",
      "    accuracy                           0.72     11668\n",
      "   macro avg       0.67      0.60      0.62     11668\n",
      "weighted avg       0.70      0.72      0.70     11668\n",
      "\n"
     ]
    }
   ],
   "source": [
    "print(\"Train Dataset:\")\n",
    "y_predicted = random_forest.predict(train_words)\n",
    "print(classification_report(y_true=y_train,y_pred=y_predicted))\n",
    "print(\"Validation Dataset:\")\n",
    "y_predicted = random_forest.predict(validation_words)\n",
    "print(classification_report(y_true=y_validation,y_pred=y_predicted))"
   ]
  },
  {
   "cell_type": "markdown",
   "metadata": {},
   "source": [
    "Random forest تا اینجا عملکرد خیلی خوبی داشته است اما احتمالا روی داده‌های آموزشی overfit شده است.\n",
    "باید عملکرد آن را روی داده‌های validation ببینیم."
   ]
  },
  {
   "cell_type": "markdown",
   "metadata": {},
   "source": [
    " ## Gradient Boosting Machine"
   ]
  },
  {
   "cell_type": "code",
   "execution_count": 131,
   "metadata": {},
   "outputs": [],
   "source": [
    "from sklearn.ensemble import GradientBoostingClassifier"
   ]
  },
  {
   "cell_type": "code",
   "execution_count": 132,
   "metadata": {},
   "outputs": [],
   "source": [
    "gbc = GradientBoostingClassifier(n_estimators=200)"
   ]
  },
  {
   "cell_type": "code",
   "execution_count": 244,
   "metadata": {},
   "outputs": [
    {
     "data": {
      "text/plain": [
       "GradientBoostingClassifier(n_estimators=200)"
      ]
     },
     "execution_count": 244,
     "metadata": {},
     "output_type": "execute_result"
    }
   ],
   "source": [
    "gbc.fit(train_words,y_train)"
   ]
  },
  {
   "cell_type": "code",
   "execution_count": 245,
   "metadata": {},
   "outputs": [
    {
     "name": "stdout",
     "output_type": "stream",
     "text": [
      "Train Dataset:\n",
      "              precision    recall  f1-score   support\n",
      "\n",
      "    negative       0.76      0.97      0.86      5515\n",
      "     neutral       0.92      0.28      0.43      1786\n",
      "    positive       0.81      0.65      0.72      1444\n",
      "\n",
      "    accuracy                           0.78      8745\n",
      "   macro avg       0.83      0.64      0.67      8745\n",
      "weighted avg       0.80      0.78      0.75      8745\n",
      "\n",
      "Validation Dataset:\n",
      "              precision    recall  f1-score   support\n",
      "\n",
      "    negative       0.72      0.96      0.82      7192\n",
      "     neutral       0.73      0.19      0.30      2688\n",
      "    positive       0.71      0.54      0.61      1788\n",
      "\n",
      "    accuracy                           0.72     11668\n",
      "   macro avg       0.72      0.56      0.58     11668\n",
      "weighted avg       0.72      0.72      0.67     11668\n",
      "\n"
     ]
    }
   ],
   "source": [
    "print(\"Train Dataset:\")\n",
    "y_predicted = gbc.predict(train_words)\n",
    "print(classification_report(y_true=y_train,y_pred=y_predicted))\n",
    "print(\"Validation Dataset:\")\n",
    "y_predicted = gbc.predict(validation_words)\n",
    "print(classification_report(y_true=y_validation,y_pred=y_predicted))"
   ]
  },
  {
   "cell_type": "code",
   "execution_count": 135,
   "metadata": {},
   "outputs": [
    {
     "data": {
      "text/plain": [
       "GradientBoostingClassifier(n_estimators=200)"
      ]
     },
     "execution_count": 135,
     "metadata": {},
     "output_type": "execute_result"
    }
   ],
   "source": [
    "#using all features\n",
    "gbc.fit(X,y)"
   ]
  },
  {
   "cell_type": "code",
   "execution_count": 137,
   "metadata": {},
   "outputs": [
    {
     "name": "stdout",
     "output_type": "stream",
     "text": [
      "              precision    recall  f1-score   support\n",
      "\n",
      "    negative       0.76      0.98      0.86      5515\n",
      "     neutral       0.92      0.27      0.42      1786\n",
      "    positive       0.83      0.65      0.72      1444\n",
      "\n",
      "    accuracy                           0.78      8745\n",
      "   macro avg       0.83      0.63      0.67      8745\n",
      "weighted avg       0.80      0.78      0.74      8745\n",
      "\n"
     ]
    }
   ],
   "source": [
    "y_predicted = gbc.predict(X)\n",
    "print(classification_report(y_true=y,y_pred=y_predicted))"
   ]
  },
  {
   "cell_type": "markdown",
   "metadata": {},
   "source": [
    "## XGBoost"
   ]
  },
  {
   "cell_type": "code",
   "execution_count": 140,
   "metadata": {},
   "outputs": [],
   "source": [
    "from xgboost import XGBClassifier"
   ]
  },
  {
   "cell_type": "code",
   "execution_count": 141,
   "metadata": {},
   "outputs": [],
   "source": [
    "xgb = XGBClassifier()"
   ]
  },
  {
   "cell_type": "code",
   "execution_count": 246,
   "metadata": {},
   "outputs": [
    {
     "data": {
      "text/plain": [
       "XGBClassifier(base_score=0.5, booster='gbtree', colsample_bylevel=1,\n",
       "              colsample_bynode=1, colsample_bytree=1, gamma=0, gpu_id=-1,\n",
       "              importance_type='gain', interaction_constraints='',\n",
       "              learning_rate=0.300000012, max_delta_step=0, max_depth=6,\n",
       "              min_child_weight=1, missing=nan, monotone_constraints='()',\n",
       "              n_estimators=100, n_jobs=0, num_parallel_tree=1,\n",
       "              objective='multi:softprob', random_state=0, reg_alpha=0,\n",
       "              reg_lambda=1, scale_pos_weight=None, subsample=1,\n",
       "              tree_method='exact', validate_parameters=1, verbosity=None)"
      ]
     },
     "execution_count": 246,
     "metadata": {},
     "output_type": "execute_result"
    }
   ],
   "source": [
    "xgb.fit(train_words,y_train)"
   ]
  },
  {
   "cell_type": "code",
   "execution_count": 247,
   "metadata": {},
   "outputs": [
    {
     "name": "stdout",
     "output_type": "stream",
     "text": [
      "Train Data:\n",
      "              precision    recall  f1-score   support\n",
      "\n",
      "    negative       0.81      0.98      0.88      5515\n",
      "     neutral       0.90      0.42      0.58      1786\n",
      "    positive       0.86      0.73      0.79      1444\n",
      "\n",
      "    accuracy                           0.82      8745\n",
      "   macro avg       0.86      0.71      0.75      8745\n",
      "weighted avg       0.83      0.82      0.81      8745\n",
      "\n",
      "Validation Data:\n",
      "              precision    recall  f1-score   support\n",
      "\n",
      "    negative       0.74      0.94      0.83      7192\n",
      "     neutral       0.69      0.28      0.40      2688\n",
      "    positive       0.71      0.57      0.64      1788\n",
      "\n",
      "    accuracy                           0.73     11668\n",
      "   macro avg       0.72      0.60      0.62     11668\n",
      "weighted avg       0.73      0.73      0.70     11668\n",
      "\n"
     ]
    }
   ],
   "source": [
    "print(\"Train Data:\")\n",
    "y_predicted = xgb.predict(train_words)\n",
    "print(classification_report(y_true=y_train,y_pred=y_predicted))\n",
    "print(\"Validation Data:\")\n",
    "y_predicted = xgb.predict(validation_words)\n",
    "print(classification_report(y_true=y_validation,y_pred=y_predicted))"
   ]
  },
  {
   "cell_type": "markdown",
   "metadata": {},
   "source": [
    "## Adding extra features\n",
    "الان تعدادی از فیچرهای غیر از متن را در پیشبینی دخیل می‌کنیم. تا به حال gradient boosting machine بیشترین دقت را داشته است. پس در ادامه‌ی کار فقط آن را ادامه می‌دهیم."
   ]
  },
  {
   "cell_type": "code",
   "execution_count": 254,
   "metadata": {},
   "outputs": [],
   "source": [
    "train_new = pd.concat([train_final,words_df.loc[train_index]],axis=1)\n",
    "train_new.drop(columns=['airline_sentiment:confidence'],inplace=True)\n",
    "train_new.drop(columns=['negativereason:confidence'],inplace=True)\n",
    "train_new.drop(columns=['negativereason'],inplace=True)"
   ]
  },
  {
   "cell_type": "markdown",
   "metadata": {},
   "source": [
    "ابتدا ویژگی‌های گسسته را با استفاده از OnehotEncoder تغییر می‌دهیم."
   ]
  },
  {
   "cell_type": "code",
   "execution_count": 271,
   "metadata": {},
   "outputs": [],
   "source": [
    "enc = OneHotEncoder()\n",
    "airline_transformed = enc.fit_transform(train_new[['airline']])"
   ]
  },
  {
   "cell_type": "code",
   "execution_count": 275,
   "metadata": {},
   "outputs": [],
   "source": [
    "train_new.drop(columns=['airline','user_timezone','tweet_location'],inplace=True)"
   ]
  },
  {
   "cell_type": "code",
   "execution_count": 279,
   "metadata": {},
   "outputs": [],
   "source": [
    "airline_transformed = pd.DataFrame.sparse.from_spmatrix(airline_transformed,index=train_new.index)\n",
    "train_new= pd.concat([train_new,airline_transformed],axis=1)"
   ]
  },
  {
   "cell_type": "code",
   "execution_count": 283,
   "metadata": {},
   "outputs": [
    {
     "data": {
      "text/plain": [
       "GradientBoostingClassifier(n_estimators=200)"
      ]
     },
     "execution_count": 283,
     "metadata": {},
     "output_type": "execute_result"
    }
   ],
   "source": [
    "gbc.fit(train_new.values,y_train)"
   ]
  },
  {
   "cell_type": "code",
   "execution_count": 284,
   "metadata": {},
   "outputs": [
    {
     "name": "stdout",
     "output_type": "stream",
     "text": [
      "Train Dataset:\n"
     ]
    },
    {
     "name": "stderr",
     "output_type": "stream",
     "text": [
      "/home/nima/.local/lib/python3.8/site-packages/sklearn/utils/validation.py:508: UserWarning: pandas.DataFrame with sparse columns found.It will be converted to a dense numpy array.\n",
      "  warnings.warn(\n"
     ]
    },
    {
     "name": "stdout",
     "output_type": "stream",
     "text": [
      "              precision    recall  f1-score   support\n",
      "\n",
      "    negative       0.80      0.96      0.87      5515\n",
      "     neutral       0.76      0.40      0.52      1786\n",
      "    positive       0.82      0.66      0.73      1444\n",
      "\n",
      "    accuracy                           0.80      8745\n",
      "   macro avg       0.79      0.67      0.71      8745\n",
      "weighted avg       0.79      0.80      0.78      8745\n",
      "\n"
     ]
    }
   ],
   "source": [
    "print(\"Train Dataset:\")\n",
    "y_predicted = gbc.predict(train_new)\n",
    "print(classification_report(y_true=y_train,y_pred=y_predicted))"
   ]
  },
  {
   "cell_type": "markdown",
   "metadata": {},
   "source": [
    "خب دقت روی داده‌های آموزشی تا حدی بهبود پیدا کرد\n",
    "پس پروسس‌های اضافه را روی داده‌های validation نیز انجام می‌دهیم."
   ]
  },
  {
   "cell_type": "code",
   "execution_count": 286,
   "metadata": {},
   "outputs": [],
   "source": [
    "validation_new = pd.concat([validation_final,words_df.loc[validation_index]],axis=1)\n",
    "validation_new.drop(columns=['airline_sentiment:confidence'],inplace=True)\n",
    "validation_new.drop(columns=['negativereason:confidence'],inplace=True)\n",
    "validation_new.drop(columns=['negativereason'],inplace=True)"
   ]
  },
  {
   "cell_type": "code",
   "execution_count": 287,
   "metadata": {},
   "outputs": [],
   "source": [
    "enc = OneHotEncoder()\n",
    "airline_transformed = enc.fit_transform(validation_new[['airline']])"
   ]
  },
  {
   "cell_type": "code",
   "execution_count": 288,
   "metadata": {},
   "outputs": [],
   "source": [
    "validation_new.drop(columns=['airline','user_timezone','tweet_location'],inplace=True)"
   ]
  },
  {
   "cell_type": "code",
   "execution_count": 289,
   "metadata": {},
   "outputs": [],
   "source": [
    "airline_transformed = pd.DataFrame.sparse.from_spmatrix(airline_transformed,index=validation_new.index)\n",
    "validation_new= pd.concat([validation_new,airline_transformed],axis=1)"
   ]
  },
  {
   "cell_type": "code",
   "execution_count": 290,
   "metadata": {},
   "outputs": [
    {
     "name": "stdout",
     "output_type": "stream",
     "text": [
      "Validation Dataset:\n"
     ]
    },
    {
     "name": "stderr",
     "output_type": "stream",
     "text": [
      "/home/nima/.local/lib/python3.8/site-packages/sklearn/utils/validation.py:508: UserWarning: pandas.DataFrame with sparse columns found.It will be converted to a dense numpy array.\n",
      "  warnings.warn(\n"
     ]
    },
    {
     "name": "stdout",
     "output_type": "stream",
     "text": [
      "              precision    recall  f1-score   support\n",
      "\n",
      "    negative       0.74      0.94      0.83      7192\n",
      "     neutral       0.63      0.29      0.40      2688\n",
      "    positive       0.72      0.55      0.62      1788\n",
      "\n",
      "    accuracy                           0.73     11668\n",
      "   macro avg       0.70      0.59      0.62     11668\n",
      "weighted avg       0.71      0.73      0.70     11668\n",
      "\n"
     ]
    }
   ],
   "source": [
    "print(\"Validation Dataset:\")\n",
    "y_predicted = gbc.predict(validation_new)\n",
    "print(classification_report(y_true=y_validation,y_pred=y_predicted))"
   ]
  },
  {
   "cell_type": "markdown",
   "metadata": {},
   "source": [
    "هورااا. دقت روی داده‌های validation هم کمی بهبود پیدا کرد\n",
    "\n",
    "به نظر می‌آید می‌توانیم این مدل تا به حال بهترین کارکرد را داشته است.\n",
    "\n",
    "چند قدم دیگر می‌توانیم در ادامه انجام دهیم:\n",
    "- missing values را برای ستون‌های موقعیت مکانی و timezone پر کنیم و آنها را نیز در آموزش مدل دخیل کنیم.\n",
    "- با chi-square بسنجیم که آیا زمان ارسال توییت بدرد می‌خورد یا اینکه آن را به چند دسته تقسیم کنیم و در مدل استفاده کنیم.\n",
    "- از یک مدل شبکه عصبی برای تحیلی نوشته‌ها استفاده کنیم.\n",
    "- text precprocessing بیشتری انجام دهیم و از روش‌های دیگر برای آن استفاده کنیم."
   ]
  },
  {
   "cell_type": "code",
   "execution_count": null,
   "metadata": {},
   "outputs": [],
   "source": []
  }
 ],
 "metadata": {
  "kernelspec": {
   "display_name": "Python 3",
   "language": "python",
   "name": "python3"
  },
  "language_info": {
   "codemirror_mode": {
    "name": "ipython",
    "version": 3
   },
   "file_extension": ".py",
   "mimetype": "text/x-python",
   "name": "python",
   "nbconvert_exporter": "python",
   "pygments_lexer": "ipython3",
   "version": "3.8.0"
  }
 },
 "nbformat": 4,
 "nbformat_minor": 4
}
