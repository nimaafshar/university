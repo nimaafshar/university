{
 "cells": [
  {
   "cell_type": "code",
   "execution_count": 2,
   "metadata": {},
   "outputs": [
    {
     "data": {
      "text/html": [
       "\n",
       "<style>\n",
       "div.text_cell_render{\n",
       "direction:rtl;\n",
       "}\n",
       "</style>\n"
      ],
      "text/plain": [
       "<IPython.core.display.HTML object>"
      ]
     },
     "execution_count": 2,
     "metadata": {},
     "output_type": "execute_result"
    }
   ],
   "source": [
    "#run this cell to make text-cells rtl\n",
    "from IPython.core.display import HTML\n",
    "HTML(\"\"\"\n",
    "<style>\n",
    "div.text_cell_render{\n",
    "direction:rtl;\n",
    "}\n",
    "</style>\n",
    "\"\"\")"
   ]
  },
  {
   "cell_type": "markdown",
   "metadata": {},
   "source": [
    "# سوال ۱"
   ]
  },
  {
   "cell_type": "code",
   "execution_count": 155,
   "metadata": {},
   "outputs": [],
   "source": [
    "import numpy as np\n",
    "import pandas as pd\n",
    "import seaborn as sns\n",
    "import matplotlib.pyplot as plt"
   ]
  },
  {
   "cell_type": "code",
   "execution_count": 2,
   "metadata": {},
   "outputs": [],
   "source": [
    "raw_data = pd.read_csv(\"q1_data.csv\")"
   ]
  },
  {
   "cell_type": "markdown",
   "metadata": {},
   "source": [
    "می‌بینیم که ستون‌های جدول داده‌ها خیلی همخوانی ندارند و منبع داده‌ها به عنوان یک سطر شناخته شده‌است.\n",
    "به وسیله‌ی دستورات زیر جدول داده‌ها را اصلاح می‌کنیم.\n",
    "- داده‌ها از منبع [https://data.worldbank.org](data.worldbank.org) گرفته شده‌اند."
   ]
  },
  {
   "cell_type": "code",
   "execution_count": 5,
   "metadata": {},
   "outputs": [
    {
     "data": {
      "text/html": [
       "<div>\n",
       "<style scoped>\n",
       "    .dataframe tbody tr th:only-of-type {\n",
       "        vertical-align: middle;\n",
       "    }\n",
       "\n",
       "    .dataframe tbody tr th {\n",
       "        vertical-align: top;\n",
       "    }\n",
       "\n",
       "    .dataframe thead th {\n",
       "        text-align: right;\n",
       "    }\n",
       "</style>\n",
       "<table border=\"1\" class=\"dataframe\">\n",
       "  <thead>\n",
       "    <tr style=\"text-align: right;\">\n",
       "      <th></th>\n",
       "      <th>Unnamed: 0</th>\n",
       "      <th>DataSource</th>\n",
       "      <th>Unnamed:1</th>\n",
       "      <th>https://data.worldbank.org</th>\n",
       "      <th>Unnamed:3</th>\n",
       "      <th>Unnamed:4</th>\n",
       "      <th>Unnamed: 6</th>\n",
       "      <th>Unnamed</th>\n",
       "    </tr>\n",
       "  </thead>\n",
       "  <tbody>\n",
       "    <tr>\n",
       "      <th>0</th>\n",
       "      <td>0</td>\n",
       "      <td>Data</td>\n",
       "      <td>NaN</td>\n",
       "      <td>2016</td>\n",
       "      <td>NaN</td>\n",
       "      <td>NaN</td>\n",
       "      <td>NaN</td>\n",
       "      <td>NaN</td>\n",
       "    </tr>\n",
       "    <tr>\n",
       "      <th>1</th>\n",
       "      <td>1</td>\n",
       "      <td>CountryName</td>\n",
       "      <td>CountryCode</td>\n",
       "      <td>Population growth</td>\n",
       "      <td>Total population</td>\n",
       "      <td>Area (sq. km)</td>\n",
       "      <td>International Visitors</td>\n",
       "      <td>Coronavirus Cases</td>\n",
       "    </tr>\n",
       "    <tr>\n",
       "      <th>2</th>\n",
       "      <td>2</td>\n",
       "      <td>Brazil</td>\n",
       "      <td>BRA</td>\n",
       "      <td>0.817555711</td>\n",
       "      <td>207652865</td>\n",
       "      <td>8358140</td>\n",
       "      <td>B</td>\n",
       "      <td>59324</td>\n",
       "    </tr>\n",
       "    <tr>\n",
       "      <th>3</th>\n",
       "      <td>3</td>\n",
       "      <td>Switzerland</td>\n",
       "      <td>CHE</td>\n",
       "      <td>1.077221168</td>\n",
       "      <td>8372098</td>\n",
       "      <td>39516</td>\n",
       "      <td>B</td>\n",
       "      <td>29061</td>\n",
       "    </tr>\n",
       "    <tr>\n",
       "      <th>4</th>\n",
       "      <td>4</td>\n",
       "      <td>Germany</td>\n",
       "      <td>DEU</td>\n",
       "      <td>1.193866758</td>\n",
       "      <td>82667685</td>\n",
       "      <td>348900</td>\n",
       "      <td>A</td>\n",
       "      <td>156727</td>\n",
       "    </tr>\n",
       "    <tr>\n",
       "      <th>5</th>\n",
       "      <td>5</td>\n",
       "      <td>Denmark</td>\n",
       "      <td>DNK</td>\n",
       "      <td>0.834637611</td>\n",
       "      <td>NaN</td>\n",
       "      <td>42262</td>\n",
       "      <td>B</td>\n",
       "      <td>8575</td>\n",
       "    </tr>\n",
       "    <tr>\n",
       "      <th>6</th>\n",
       "      <td>6</td>\n",
       "      <td>Spain</td>\n",
       "      <td>ESP</td>\n",
       "      <td>-0.008048086</td>\n",
       "      <td>46443959</td>\n",
       "      <td>500210</td>\n",
       "      <td>A</td>\n",
       "      <td>223759</td>\n",
       "    </tr>\n",
       "    <tr>\n",
       "      <th>7</th>\n",
       "      <td>7</td>\n",
       "      <td>France</td>\n",
       "      <td>FRA</td>\n",
       "      <td>0.407491036</td>\n",
       "      <td>66896109</td>\n",
       "      <td>547557</td>\n",
       "      <td>A</td>\n",
       "      <td>161488</td>\n",
       "    </tr>\n",
       "    <tr>\n",
       "      <th>8</th>\n",
       "      <td>8</td>\n",
       "      <td>Japan</td>\n",
       "      <td>JPN</td>\n",
       "      <td>-0.115284177</td>\n",
       "      <td>126994511</td>\n",
       "      <td>364560</td>\n",
       "      <td>B</td>\n",
       "      <td>13231</td>\n",
       "    </tr>\n",
       "    <tr>\n",
       "      <th>9</th>\n",
       "      <td>9</td>\n",
       "      <td>Greece</td>\n",
       "      <td>GRC</td>\n",
       "      <td>-0.687542545</td>\n",
       "      <td>10746740</td>\n",
       "      <td>128900</td>\n",
       "      <td>C</td>\n",
       "      <td>2506</td>\n",
       "    </tr>\n",
       "    <tr>\n",
       "      <th>10</th>\n",
       "      <td>10</td>\n",
       "      <td>Iran</td>\n",
       "      <td>IRN</td>\n",
       "      <td>1.1487886</td>\n",
       "      <td>80277428</td>\n",
       "      <td>1628760</td>\n",
       "      <td>D</td>\n",
       "      <td>90481</td>\n",
       "    </tr>\n",
       "    <tr>\n",
       "      <th>11</th>\n",
       "      <td>11</td>\n",
       "      <td>Kuwait</td>\n",
       "      <td>KWT</td>\n",
       "      <td>2.924206194</td>\n",
       "      <td>4052584</td>\n",
       "      <td>NaN</td>\n",
       "      <td>C</td>\n",
       "      <td>3075</td>\n",
       "    </tr>\n",
       "    <tr>\n",
       "      <th>12</th>\n",
       "      <td>12</td>\n",
       "      <td>Morocco</td>\n",
       "      <td>MAR</td>\n",
       "      <td>NaN</td>\n",
       "      <td>35276786</td>\n",
       "      <td>446300</td>\n",
       "      <td>C</td>\n",
       "      <td>4047</td>\n",
       "    </tr>\n",
       "    <tr>\n",
       "      <th>13</th>\n",
       "      <td>13</td>\n",
       "      <td>Nigeria</td>\n",
       "      <td>NGA</td>\n",
       "      <td>2.619033526</td>\n",
       "      <td>185989640</td>\n",
       "      <td>910770</td>\n",
       "      <td>D</td>\n",
       "      <td>1182</td>\n",
       "    </tr>\n",
       "    <tr>\n",
       "      <th>14</th>\n",
       "      <td>14</td>\n",
       "      <td>Qatar</td>\n",
       "      <td>QAT</td>\n",
       "      <td>3.495069918</td>\n",
       "      <td>2569804</td>\n",
       "      <td>11610</td>\n",
       "      <td>B</td>\n",
       "      <td>10287</td>\n",
       "    </tr>\n",
       "    <tr>\n",
       "      <th>15</th>\n",
       "      <td>15</td>\n",
       "      <td>Sweden</td>\n",
       "      <td>SWE</td>\n",
       "      <td>NaN</td>\n",
       "      <td>9903122</td>\n",
       "      <td>407310</td>\n",
       "      <td>C</td>\n",
       "      <td>18640</td>\n",
       "    </tr>\n",
       "    <tr>\n",
       "      <th>16</th>\n",
       "      <td>16</td>\n",
       "      <td>India</td>\n",
       "      <td>IND</td>\n",
       "      <td>1.148214693</td>\n",
       "      <td>1324171354</td>\n",
       "      <td>2973190</td>\n",
       "      <td>B</td>\n",
       "      <td>26917</td>\n",
       "    </tr>\n",
       "  </tbody>\n",
       "</table>\n",
       "</div>"
      ],
      "text/plain": [
       "    Unnamed: 0    DataSource    Unnamed:1 https://data.worldbank.org  \\\n",
       "0            0          Data          NaN                       2016   \n",
       "1            1   CountryName  CountryCode          Population growth   \n",
       "2            2        Brazil          BRA                0.817555711   \n",
       "3            3   Switzerland          CHE                1.077221168   \n",
       "4            4       Germany          DEU                1.193866758   \n",
       "5            5       Denmark          DNK                0.834637611   \n",
       "6            6         Spain          ESP               -0.008048086   \n",
       "7            7        France          FRA                0.407491036   \n",
       "8            8         Japan          JPN               -0.115284177   \n",
       "9            9        Greece          GRC               -0.687542545   \n",
       "10          10          Iran          IRN                  1.1487886   \n",
       "11          11        Kuwait          KWT                2.924206194   \n",
       "12          12       Morocco          MAR                        NaN   \n",
       "13          13       Nigeria          NGA                2.619033526   \n",
       "14          14         Qatar          QAT                3.495069918   \n",
       "15          15        Sweden          SWE                        NaN   \n",
       "16          16         India          IND                1.148214693   \n",
       "\n",
       "           Unnamed:3      Unnamed:4              Unnamed: 6            Unnamed  \n",
       "0                NaN            NaN                     NaN                NaN  \n",
       "1   Total population  Area (sq. km)  International Visitors  Coronavirus Cases  \n",
       "2          207652865        8358140                       B              59324  \n",
       "3            8372098          39516                       B              29061  \n",
       "4           82667685         348900                       A             156727  \n",
       "5                NaN          42262                       B               8575  \n",
       "6           46443959         500210                       A             223759  \n",
       "7           66896109         547557                       A             161488  \n",
       "8          126994511         364560                       B              13231  \n",
       "9           10746740         128900                       C               2506  \n",
       "10          80277428        1628760                       D              90481  \n",
       "11           4052584            NaN                       C               3075  \n",
       "12          35276786         446300                       C               4047  \n",
       "13         185989640         910770                       D               1182  \n",
       "14           2569804          11610                       B              10287  \n",
       "15           9903122         407310                       C              18640  \n",
       "16        1324171354        2973190                       B              26917  "
      ]
     },
     "execution_count": 5,
     "metadata": {},
     "output_type": "execute_result"
    }
   ],
   "source": [
    "raw_data"
   ]
  },
  {
   "cell_type": "code",
   "execution_count": 6,
   "metadata": {},
   "outputs": [],
   "source": [
    "raw_data.rename(columns=raw_data.iloc[1],inplace=True)\n",
    "raw_data.set_index(1,inplace=True)\n",
    "raw_data.index.name='index'\n",
    "raw_data.drop(raw_data.index[0:2],inplace=True)"
   ]
  },
  {
   "cell_type": "code",
   "execution_count": 7,
   "metadata": {},
   "outputs": [
    {
     "data": {
      "text/html": [
       "<div>\n",
       "<style scoped>\n",
       "    .dataframe tbody tr th:only-of-type {\n",
       "        vertical-align: middle;\n",
       "    }\n",
       "\n",
       "    .dataframe tbody tr th {\n",
       "        vertical-align: top;\n",
       "    }\n",
       "\n",
       "    .dataframe thead th {\n",
       "        text-align: right;\n",
       "    }\n",
       "</style>\n",
       "<table border=\"1\" class=\"dataframe\">\n",
       "  <thead>\n",
       "    <tr style=\"text-align: right;\">\n",
       "      <th></th>\n",
       "      <th>CountryName</th>\n",
       "      <th>CountryCode</th>\n",
       "      <th>Population growth</th>\n",
       "      <th>Total population</th>\n",
       "      <th>Area (sq. km)</th>\n",
       "      <th>International Visitors</th>\n",
       "      <th>Coronavirus Cases</th>\n",
       "    </tr>\n",
       "    <tr>\n",
       "      <th>index</th>\n",
       "      <th></th>\n",
       "      <th></th>\n",
       "      <th></th>\n",
       "      <th></th>\n",
       "      <th></th>\n",
       "      <th></th>\n",
       "      <th></th>\n",
       "    </tr>\n",
       "  </thead>\n",
       "  <tbody>\n",
       "    <tr>\n",
       "      <th>2</th>\n",
       "      <td>Brazil</td>\n",
       "      <td>BRA</td>\n",
       "      <td>0.817555711</td>\n",
       "      <td>207652865</td>\n",
       "      <td>8358140</td>\n",
       "      <td>B</td>\n",
       "      <td>59324</td>\n",
       "    </tr>\n",
       "    <tr>\n",
       "      <th>3</th>\n",
       "      <td>Switzerland</td>\n",
       "      <td>CHE</td>\n",
       "      <td>1.077221168</td>\n",
       "      <td>8372098</td>\n",
       "      <td>39516</td>\n",
       "      <td>B</td>\n",
       "      <td>29061</td>\n",
       "    </tr>\n",
       "    <tr>\n",
       "      <th>4</th>\n",
       "      <td>Germany</td>\n",
       "      <td>DEU</td>\n",
       "      <td>1.193866758</td>\n",
       "      <td>82667685</td>\n",
       "      <td>348900</td>\n",
       "      <td>A</td>\n",
       "      <td>156727</td>\n",
       "    </tr>\n",
       "    <tr>\n",
       "      <th>5</th>\n",
       "      <td>Denmark</td>\n",
       "      <td>DNK</td>\n",
       "      <td>0.834637611</td>\n",
       "      <td>NaN</td>\n",
       "      <td>42262</td>\n",
       "      <td>B</td>\n",
       "      <td>8575</td>\n",
       "    </tr>\n",
       "    <tr>\n",
       "      <th>6</th>\n",
       "      <td>Spain</td>\n",
       "      <td>ESP</td>\n",
       "      <td>-0.008048086</td>\n",
       "      <td>46443959</td>\n",
       "      <td>500210</td>\n",
       "      <td>A</td>\n",
       "      <td>223759</td>\n",
       "    </tr>\n",
       "    <tr>\n",
       "      <th>7</th>\n",
       "      <td>France</td>\n",
       "      <td>FRA</td>\n",
       "      <td>0.407491036</td>\n",
       "      <td>66896109</td>\n",
       "      <td>547557</td>\n",
       "      <td>A</td>\n",
       "      <td>161488</td>\n",
       "    </tr>\n",
       "    <tr>\n",
       "      <th>8</th>\n",
       "      <td>Japan</td>\n",
       "      <td>JPN</td>\n",
       "      <td>-0.115284177</td>\n",
       "      <td>126994511</td>\n",
       "      <td>364560</td>\n",
       "      <td>B</td>\n",
       "      <td>13231</td>\n",
       "    </tr>\n",
       "    <tr>\n",
       "      <th>9</th>\n",
       "      <td>Greece</td>\n",
       "      <td>GRC</td>\n",
       "      <td>-0.687542545</td>\n",
       "      <td>10746740</td>\n",
       "      <td>128900</td>\n",
       "      <td>C</td>\n",
       "      <td>2506</td>\n",
       "    </tr>\n",
       "    <tr>\n",
       "      <th>10</th>\n",
       "      <td>Iran</td>\n",
       "      <td>IRN</td>\n",
       "      <td>1.1487886</td>\n",
       "      <td>80277428</td>\n",
       "      <td>1628760</td>\n",
       "      <td>D</td>\n",
       "      <td>90481</td>\n",
       "    </tr>\n",
       "    <tr>\n",
       "      <th>11</th>\n",
       "      <td>Kuwait</td>\n",
       "      <td>KWT</td>\n",
       "      <td>2.924206194</td>\n",
       "      <td>4052584</td>\n",
       "      <td>NaN</td>\n",
       "      <td>C</td>\n",
       "      <td>3075</td>\n",
       "    </tr>\n",
       "    <tr>\n",
       "      <th>12</th>\n",
       "      <td>Morocco</td>\n",
       "      <td>MAR</td>\n",
       "      <td>NaN</td>\n",
       "      <td>35276786</td>\n",
       "      <td>446300</td>\n",
       "      <td>C</td>\n",
       "      <td>4047</td>\n",
       "    </tr>\n",
       "    <tr>\n",
       "      <th>13</th>\n",
       "      <td>Nigeria</td>\n",
       "      <td>NGA</td>\n",
       "      <td>2.619033526</td>\n",
       "      <td>185989640</td>\n",
       "      <td>910770</td>\n",
       "      <td>D</td>\n",
       "      <td>1182</td>\n",
       "    </tr>\n",
       "    <tr>\n",
       "      <th>14</th>\n",
       "      <td>Qatar</td>\n",
       "      <td>QAT</td>\n",
       "      <td>3.495069918</td>\n",
       "      <td>2569804</td>\n",
       "      <td>11610</td>\n",
       "      <td>B</td>\n",
       "      <td>10287</td>\n",
       "    </tr>\n",
       "    <tr>\n",
       "      <th>15</th>\n",
       "      <td>Sweden</td>\n",
       "      <td>SWE</td>\n",
       "      <td>NaN</td>\n",
       "      <td>9903122</td>\n",
       "      <td>407310</td>\n",
       "      <td>C</td>\n",
       "      <td>18640</td>\n",
       "    </tr>\n",
       "    <tr>\n",
       "      <th>16</th>\n",
       "      <td>India</td>\n",
       "      <td>IND</td>\n",
       "      <td>1.148214693</td>\n",
       "      <td>1324171354</td>\n",
       "      <td>2973190</td>\n",
       "      <td>B</td>\n",
       "      <td>26917</td>\n",
       "    </tr>\n",
       "  </tbody>\n",
       "</table>\n",
       "</div>"
      ],
      "text/plain": [
       "       CountryName CountryCode Population growth Total population  \\\n",
       "index                                                               \n",
       "2           Brazil         BRA       0.817555711        207652865   \n",
       "3      Switzerland         CHE       1.077221168          8372098   \n",
       "4          Germany         DEU       1.193866758         82667685   \n",
       "5          Denmark         DNK       0.834637611              NaN   \n",
       "6            Spain         ESP      -0.008048086         46443959   \n",
       "7           France         FRA       0.407491036         66896109   \n",
       "8            Japan         JPN      -0.115284177        126994511   \n",
       "9           Greece         GRC      -0.687542545         10746740   \n",
       "10            Iran         IRN         1.1487886         80277428   \n",
       "11          Kuwait         KWT       2.924206194          4052584   \n",
       "12         Morocco         MAR               NaN         35276786   \n",
       "13         Nigeria         NGA       2.619033526        185989640   \n",
       "14           Qatar         QAT       3.495069918          2569804   \n",
       "15          Sweden         SWE               NaN          9903122   \n",
       "16           India         IND       1.148214693       1324171354   \n",
       "\n",
       "      Area (sq. km) International Visitors Coronavirus Cases  \n",
       "index                                                         \n",
       "2           8358140                      B             59324  \n",
       "3             39516                      B             29061  \n",
       "4            348900                      A            156727  \n",
       "5             42262                      B              8575  \n",
       "6            500210                      A            223759  \n",
       "7            547557                      A            161488  \n",
       "8            364560                      B             13231  \n",
       "9            128900                      C              2506  \n",
       "10          1628760                      D             90481  \n",
       "11              NaN                      C              3075  \n",
       "12           446300                      C              4047  \n",
       "13           910770                      D              1182  \n",
       "14            11610                      B             10287  \n",
       "15           407310                      C             18640  \n",
       "16          2973190                      B             26917  "
      ]
     },
     "execution_count": 7,
     "metadata": {},
     "output_type": "execute_result"
    }
   ],
   "source": [
    "raw_data"
   ]
  },
  {
   "cell_type": "markdown",
   "metadata": {},
   "source": [
    "خلاصه‌ی اطلاعات دیتاست را توسط پانداس می‌بینیم"
   ]
  },
  {
   "cell_type": "code",
   "execution_count": 9,
   "metadata": {},
   "outputs": [
    {
     "name": "stdout",
     "output_type": "stream",
     "text": [
      "<class 'pandas.core.frame.DataFrame'>\n",
      "Int64Index: 15 entries, 2 to 16\n",
      "Data columns (total 7 columns):\n",
      " CountryName              15 non-null object\n",
      "CountryCode               15 non-null object\n",
      "Population growth         13 non-null object\n",
      "Total population          14 non-null object\n",
      "Area (sq. km)             14 non-null object\n",
      "International Visitors    15 non-null object\n",
      "Coronavirus Cases         15 non-null object\n",
      "dtypes: object(7)\n",
      "memory usage: 960.0+ bytes\n"
     ]
    },
    {
     "data": {
      "text/html": [
       "<div>\n",
       "<style scoped>\n",
       "    .dataframe tbody tr th:only-of-type {\n",
       "        vertical-align: middle;\n",
       "    }\n",
       "\n",
       "    .dataframe tbody tr th {\n",
       "        vertical-align: top;\n",
       "    }\n",
       "\n",
       "    .dataframe thead th {\n",
       "        text-align: right;\n",
       "    }\n",
       "</style>\n",
       "<table border=\"1\" class=\"dataframe\">\n",
       "  <thead>\n",
       "    <tr style=\"text-align: right;\">\n",
       "      <th></th>\n",
       "      <th>CountryName</th>\n",
       "      <th>CountryCode</th>\n",
       "      <th>Population growth</th>\n",
       "      <th>Total population</th>\n",
       "      <th>Area (sq. km)</th>\n",
       "      <th>International Visitors</th>\n",
       "      <th>Coronavirus Cases</th>\n",
       "    </tr>\n",
       "  </thead>\n",
       "  <tbody>\n",
       "    <tr>\n",
       "      <th>count</th>\n",
       "      <td>15</td>\n",
       "      <td>15</td>\n",
       "      <td>13</td>\n",
       "      <td>14</td>\n",
       "      <td>14</td>\n",
       "      <td>15</td>\n",
       "      <td>15</td>\n",
       "    </tr>\n",
       "    <tr>\n",
       "      <th>unique</th>\n",
       "      <td>15</td>\n",
       "      <td>15</td>\n",
       "      <td>13</td>\n",
       "      <td>14</td>\n",
       "      <td>14</td>\n",
       "      <td>4</td>\n",
       "      <td>15</td>\n",
       "    </tr>\n",
       "    <tr>\n",
       "      <th>top</th>\n",
       "      <td>France</td>\n",
       "      <td>JPN</td>\n",
       "      <td>-0.115284177</td>\n",
       "      <td>207652865</td>\n",
       "      <td>42262</td>\n",
       "      <td>B</td>\n",
       "      <td>10287</td>\n",
       "    </tr>\n",
       "    <tr>\n",
       "      <th>freq</th>\n",
       "      <td>1</td>\n",
       "      <td>1</td>\n",
       "      <td>1</td>\n",
       "      <td>1</td>\n",
       "      <td>1</td>\n",
       "      <td>6</td>\n",
       "      <td>1</td>\n",
       "    </tr>\n",
       "  </tbody>\n",
       "</table>\n",
       "</div>"
      ],
      "text/plain": [
       "        CountryName CountryCode Population growth Total population  \\\n",
       "count            15          15                13               14   \n",
       "unique           15          15                13               14   \n",
       "top          France         JPN      -0.115284177        207652865   \n",
       "freq              1           1                 1                1   \n",
       "\n",
       "       Area (sq. km) International Visitors Coronavirus Cases  \n",
       "count             14                     15                15  \n",
       "unique            14                      4                15  \n",
       "top            42262                      B             10287  \n",
       "freq               1                      6                 1  "
      ]
     },
     "execution_count": 9,
     "metadata": {},
     "output_type": "execute_result"
    }
   ],
   "source": [
    "raw_data.info()\n",
    "raw_data.describe()"
   ]
  },
  {
   "cell_type": "markdown",
   "metadata": {},
   "source": [
    "ابتدا مشاهده می‌کنیم که تعداد سطر‌های موجود در دیتاست بسیار کم است و باید مراقب باشیم تا الگوریتم‌های مختلفی که روی این دیتاست اعمال می‌کنیم `overfit` .\n",
    "نکنند\n",
    "حتی این تعداد داده برای داده‌کاوی شاید مناسب نباشد."
   ]
  },
  {
   "cell_type": "markdown",
   "metadata": {},
   "source": [
    "## مقابله با **Missing Values**\n",
    "در قسمت بالا دیدیم که مقادیر گم شده تنها در ستون‌های عددی یافت می‌شوند و ستون‌های `categorical` کامل هستند.\n",
    "پس می‌توانیم به چند روش آنها را پر کنیم.\n",
    "\n",
    "۱- می‌توانیم با `fillna` در پانداس آنها را با مقادیر قبلی یا بعدی پر کنیم."
   ]
  },
  {
   "cell_type": "code",
   "execution_count": 11,
   "metadata": {},
   "outputs": [
    {
     "data": {
      "text/html": [
       "<div>\n",
       "<style scoped>\n",
       "    .dataframe tbody tr th:only-of-type {\n",
       "        vertical-align: middle;\n",
       "    }\n",
       "\n",
       "    .dataframe tbody tr th {\n",
       "        vertical-align: top;\n",
       "    }\n",
       "\n",
       "    .dataframe thead th {\n",
       "        text-align: right;\n",
       "    }\n",
       "</style>\n",
       "<table border=\"1\" class=\"dataframe\">\n",
       "  <thead>\n",
       "    <tr style=\"text-align: right;\">\n",
       "      <th></th>\n",
       "      <th>CountryName</th>\n",
       "      <th>CountryCode</th>\n",
       "      <th>Population growth</th>\n",
       "      <th>Total population</th>\n",
       "      <th>Area (sq. km)</th>\n",
       "      <th>International Visitors</th>\n",
       "      <th>Coronavirus Cases</th>\n",
       "    </tr>\n",
       "    <tr>\n",
       "      <th>index</th>\n",
       "      <th></th>\n",
       "      <th></th>\n",
       "      <th></th>\n",
       "      <th></th>\n",
       "      <th></th>\n",
       "      <th></th>\n",
       "      <th></th>\n",
       "    </tr>\n",
       "  </thead>\n",
       "  <tbody>\n",
       "    <tr>\n",
       "      <th>2</th>\n",
       "      <td>Brazil</td>\n",
       "      <td>BRA</td>\n",
       "      <td>0.817555711</td>\n",
       "      <td>207652865</td>\n",
       "      <td>8358140</td>\n",
       "      <td>B</td>\n",
       "      <td>59324</td>\n",
       "    </tr>\n",
       "    <tr>\n",
       "      <th>3</th>\n",
       "      <td>Switzerland</td>\n",
       "      <td>CHE</td>\n",
       "      <td>1.077221168</td>\n",
       "      <td>8372098</td>\n",
       "      <td>39516</td>\n",
       "      <td>B</td>\n",
       "      <td>29061</td>\n",
       "    </tr>\n",
       "    <tr>\n",
       "      <th>4</th>\n",
       "      <td>Germany</td>\n",
       "      <td>DEU</td>\n",
       "      <td>1.193866758</td>\n",
       "      <td>82667685</td>\n",
       "      <td>348900</td>\n",
       "      <td>A</td>\n",
       "      <td>156727</td>\n",
       "    </tr>\n",
       "    <tr>\n",
       "      <th>5</th>\n",
       "      <td>Denmark</td>\n",
       "      <td>DNK</td>\n",
       "      <td>0.834637611</td>\n",
       "      <td>46443959</td>\n",
       "      <td>42262</td>\n",
       "      <td>B</td>\n",
       "      <td>8575</td>\n",
       "    </tr>\n",
       "    <tr>\n",
       "      <th>6</th>\n",
       "      <td>Spain</td>\n",
       "      <td>ESP</td>\n",
       "      <td>-0.008048086</td>\n",
       "      <td>46443959</td>\n",
       "      <td>500210</td>\n",
       "      <td>A</td>\n",
       "      <td>223759</td>\n",
       "    </tr>\n",
       "    <tr>\n",
       "      <th>7</th>\n",
       "      <td>France</td>\n",
       "      <td>FRA</td>\n",
       "      <td>0.407491036</td>\n",
       "      <td>66896109</td>\n",
       "      <td>547557</td>\n",
       "      <td>A</td>\n",
       "      <td>161488</td>\n",
       "    </tr>\n",
       "    <tr>\n",
       "      <th>8</th>\n",
       "      <td>Japan</td>\n",
       "      <td>JPN</td>\n",
       "      <td>-0.115284177</td>\n",
       "      <td>126994511</td>\n",
       "      <td>364560</td>\n",
       "      <td>B</td>\n",
       "      <td>13231</td>\n",
       "    </tr>\n",
       "    <tr>\n",
       "      <th>9</th>\n",
       "      <td>Greece</td>\n",
       "      <td>GRC</td>\n",
       "      <td>-0.687542545</td>\n",
       "      <td>10746740</td>\n",
       "      <td>128900</td>\n",
       "      <td>C</td>\n",
       "      <td>2506</td>\n",
       "    </tr>\n",
       "    <tr>\n",
       "      <th>10</th>\n",
       "      <td>Iran</td>\n",
       "      <td>IRN</td>\n",
       "      <td>1.1487886</td>\n",
       "      <td>80277428</td>\n",
       "      <td>1628760</td>\n",
       "      <td>D</td>\n",
       "      <td>90481</td>\n",
       "    </tr>\n",
       "    <tr>\n",
       "      <th>11</th>\n",
       "      <td>Kuwait</td>\n",
       "      <td>KWT</td>\n",
       "      <td>2.924206194</td>\n",
       "      <td>4052584</td>\n",
       "      <td>446300</td>\n",
       "      <td>C</td>\n",
       "      <td>3075</td>\n",
       "    </tr>\n",
       "    <tr>\n",
       "      <th>12</th>\n",
       "      <td>Morocco</td>\n",
       "      <td>MAR</td>\n",
       "      <td>2.619033526</td>\n",
       "      <td>35276786</td>\n",
       "      <td>446300</td>\n",
       "      <td>C</td>\n",
       "      <td>4047</td>\n",
       "    </tr>\n",
       "    <tr>\n",
       "      <th>13</th>\n",
       "      <td>Nigeria</td>\n",
       "      <td>NGA</td>\n",
       "      <td>2.619033526</td>\n",
       "      <td>185989640</td>\n",
       "      <td>910770</td>\n",
       "      <td>D</td>\n",
       "      <td>1182</td>\n",
       "    </tr>\n",
       "    <tr>\n",
       "      <th>14</th>\n",
       "      <td>Qatar</td>\n",
       "      <td>QAT</td>\n",
       "      <td>3.495069918</td>\n",
       "      <td>2569804</td>\n",
       "      <td>11610</td>\n",
       "      <td>B</td>\n",
       "      <td>10287</td>\n",
       "    </tr>\n",
       "    <tr>\n",
       "      <th>15</th>\n",
       "      <td>Sweden</td>\n",
       "      <td>SWE</td>\n",
       "      <td>1.148214693</td>\n",
       "      <td>9903122</td>\n",
       "      <td>407310</td>\n",
       "      <td>C</td>\n",
       "      <td>18640</td>\n",
       "    </tr>\n",
       "    <tr>\n",
       "      <th>16</th>\n",
       "      <td>India</td>\n",
       "      <td>IND</td>\n",
       "      <td>1.148214693</td>\n",
       "      <td>1324171354</td>\n",
       "      <td>2973190</td>\n",
       "      <td>B</td>\n",
       "      <td>26917</td>\n",
       "    </tr>\n",
       "  </tbody>\n",
       "</table>\n",
       "</div>"
      ],
      "text/plain": [
       "       CountryName CountryCode Population growth Total population  \\\n",
       "index                                                               \n",
       "2           Brazil         BRA       0.817555711        207652865   \n",
       "3      Switzerland         CHE       1.077221168          8372098   \n",
       "4          Germany         DEU       1.193866758         82667685   \n",
       "5          Denmark         DNK       0.834637611         46443959   \n",
       "6            Spain         ESP      -0.008048086         46443959   \n",
       "7           France         FRA       0.407491036         66896109   \n",
       "8            Japan         JPN      -0.115284177        126994511   \n",
       "9           Greece         GRC      -0.687542545         10746740   \n",
       "10            Iran         IRN         1.1487886         80277428   \n",
       "11          Kuwait         KWT       2.924206194          4052584   \n",
       "12         Morocco         MAR       2.619033526         35276786   \n",
       "13         Nigeria         NGA       2.619033526        185989640   \n",
       "14           Qatar         QAT       3.495069918          2569804   \n",
       "15          Sweden         SWE       1.148214693          9903122   \n",
       "16           India         IND       1.148214693       1324171354   \n",
       "\n",
       "      Area (sq. km) International Visitors Coronavirus Cases  \n",
       "index                                                         \n",
       "2           8358140                      B             59324  \n",
       "3             39516                      B             29061  \n",
       "4            348900                      A            156727  \n",
       "5             42262                      B              8575  \n",
       "6            500210                      A            223759  \n",
       "7            547557                      A            161488  \n",
       "8            364560                      B             13231  \n",
       "9            128900                      C              2506  \n",
       "10          1628760                      D             90481  \n",
       "11           446300                      C              3075  \n",
       "12           446300                      C              4047  \n",
       "13           910770                      D              1182  \n",
       "14            11610                      B             10287  \n",
       "15           407310                      C             18640  \n",
       "16          2973190                      B             26917  "
      ]
     },
     "execution_count": 11,
     "metadata": {},
     "output_type": "execute_result"
    }
   ],
   "source": [
    "raw_data.fillna(method='bfill')"
   ]
  },
  {
   "cell_type": "markdown",
   "metadata": {},
   "source": [
    "۲- می‌توانیم با استفاده از `sklearn.SimpleImputer` مقادیر عددی را با میانگین/میانه/مد پر کنیم.\n",
    "\n",
    "می‌توانستیم با کشیدن توزیع هر ستون توسط `seaborn` و تحلیل کردن آن بین ۳ شاخص بالا انتخاب کنیم ولی به دلیل کمبود تعداد داده چنین چیزی ممکن نیست.\n",
    "پس با میانگین مقادیر گم شده را پر می‌کنیم."
   ]
  },
  {
   "cell_type": "code",
   "execution_count": 13,
   "metadata": {},
   "outputs": [],
   "source": [
    "from sklearn.impute import SimpleImputer"
   ]
  },
  {
   "cell_type": "code",
   "execution_count": 36,
   "metadata": {},
   "outputs": [],
   "source": [
    "imputer = SimpleImputer(strategy='mean')\n",
    "raw_data[['Population growth']] = imputer.fit_transform(raw_data[['Population growth']])\n",
    "raw_data[['Total population']] = imputer.fit_transform(raw_data[['Total population']])\n",
    "raw_data[['Area (sq. km)']] = imputer.fit_transform(raw_data[['Area (sq. km)']])"
   ]
  },
  {
   "cell_type": "code",
   "execution_count": 37,
   "metadata": {},
   "outputs": [
    {
     "data": {
      "text/html": [
       "<div>\n",
       "<style scoped>\n",
       "    .dataframe tbody tr th:only-of-type {\n",
       "        vertical-align: middle;\n",
       "    }\n",
       "\n",
       "    .dataframe tbody tr th {\n",
       "        vertical-align: top;\n",
       "    }\n",
       "\n",
       "    .dataframe thead th {\n",
       "        text-align: right;\n",
       "    }\n",
       "</style>\n",
       "<table border=\"1\" class=\"dataframe\">\n",
       "  <thead>\n",
       "    <tr style=\"text-align: right;\">\n",
       "      <th></th>\n",
       "      <th>CountryName</th>\n",
       "      <th>CountryCode</th>\n",
       "      <th>Population growth</th>\n",
       "      <th>Total population</th>\n",
       "      <th>Area (sq. km)</th>\n",
       "      <th>International Visitors</th>\n",
       "      <th>Coronavirus Cases</th>\n",
       "    </tr>\n",
       "    <tr>\n",
       "      <th>index</th>\n",
       "      <th></th>\n",
       "      <th></th>\n",
       "      <th></th>\n",
       "      <th></th>\n",
       "      <th></th>\n",
       "      <th></th>\n",
       "      <th></th>\n",
       "    </tr>\n",
       "  </thead>\n",
       "  <tbody>\n",
       "    <tr>\n",
       "      <th>2</th>\n",
       "      <td>Brazil</td>\n",
       "      <td>BRA</td>\n",
       "      <td>0.817556</td>\n",
       "      <td>2.07653e+08</td>\n",
       "      <td>8.35814e+06</td>\n",
       "      <td>B</td>\n",
       "      <td>59324</td>\n",
       "    </tr>\n",
       "    <tr>\n",
       "      <th>3</th>\n",
       "      <td>Switzerland</td>\n",
       "      <td>CHE</td>\n",
       "      <td>1.07722</td>\n",
       "      <td>8.3721e+06</td>\n",
       "      <td>39516</td>\n",
       "      <td>B</td>\n",
       "      <td>29061</td>\n",
       "    </tr>\n",
       "    <tr>\n",
       "      <th>4</th>\n",
       "      <td>Germany</td>\n",
       "      <td>DEU</td>\n",
       "      <td>1.19387</td>\n",
       "      <td>8.26677e+07</td>\n",
       "      <td>348900</td>\n",
       "      <td>A</td>\n",
       "      <td>156727</td>\n",
       "    </tr>\n",
       "    <tr>\n",
       "      <th>5</th>\n",
       "      <td>Denmark</td>\n",
       "      <td>DNK</td>\n",
       "      <td>0.834638</td>\n",
       "      <td>1.56572e+08</td>\n",
       "      <td>42262</td>\n",
       "      <td>B</td>\n",
       "      <td>8575</td>\n",
       "    </tr>\n",
       "    <tr>\n",
       "      <th>6</th>\n",
       "      <td>Spain</td>\n",
       "      <td>ESP</td>\n",
       "      <td>-0.00804809</td>\n",
       "      <td>4.6444e+07</td>\n",
       "      <td>500210</td>\n",
       "      <td>A</td>\n",
       "      <td>223759</td>\n",
       "    </tr>\n",
       "    <tr>\n",
       "      <th>7</th>\n",
       "      <td>France</td>\n",
       "      <td>FRA</td>\n",
       "      <td>0.407491</td>\n",
       "      <td>6.68961e+07</td>\n",
       "      <td>547557</td>\n",
       "      <td>A</td>\n",
       "      <td>161488</td>\n",
       "    </tr>\n",
       "    <tr>\n",
       "      <th>8</th>\n",
       "      <td>Japan</td>\n",
       "      <td>JPN</td>\n",
       "      <td>-0.115284</td>\n",
       "      <td>1.26995e+08</td>\n",
       "      <td>364560</td>\n",
       "      <td>B</td>\n",
       "      <td>13231</td>\n",
       "    </tr>\n",
       "    <tr>\n",
       "      <th>9</th>\n",
       "      <td>Greece</td>\n",
       "      <td>GRC</td>\n",
       "      <td>-0.687543</td>\n",
       "      <td>1.07467e+07</td>\n",
       "      <td>128900</td>\n",
       "      <td>C</td>\n",
       "      <td>2506</td>\n",
       "    </tr>\n",
       "    <tr>\n",
       "      <th>10</th>\n",
       "      <td>Iran</td>\n",
       "      <td>IRN</td>\n",
       "      <td>1.14879</td>\n",
       "      <td>8.02774e+07</td>\n",
       "      <td>1.62876e+06</td>\n",
       "      <td>D</td>\n",
       "      <td>90481</td>\n",
       "    </tr>\n",
       "    <tr>\n",
       "      <th>11</th>\n",
       "      <td>Kuwait</td>\n",
       "      <td>KWT</td>\n",
       "      <td>2.92421</td>\n",
       "      <td>4.05258e+06</td>\n",
       "      <td>1.19343e+06</td>\n",
       "      <td>C</td>\n",
       "      <td>3075</td>\n",
       "    </tr>\n",
       "    <tr>\n",
       "      <th>12</th>\n",
       "      <td>Morocco</td>\n",
       "      <td>MAR</td>\n",
       "      <td>1.14271</td>\n",
       "      <td>3.52768e+07</td>\n",
       "      <td>446300</td>\n",
       "      <td>C</td>\n",
       "      <td>4047</td>\n",
       "    </tr>\n",
       "    <tr>\n",
       "      <th>13</th>\n",
       "      <td>Nigeria</td>\n",
       "      <td>NGA</td>\n",
       "      <td>2.61903</td>\n",
       "      <td>1.8599e+08</td>\n",
       "      <td>910770</td>\n",
       "      <td>D</td>\n",
       "      <td>1182</td>\n",
       "    </tr>\n",
       "    <tr>\n",
       "      <th>14</th>\n",
       "      <td>Qatar</td>\n",
       "      <td>QAT</td>\n",
       "      <td>3.49507</td>\n",
       "      <td>2.5698e+06</td>\n",
       "      <td>11610</td>\n",
       "      <td>B</td>\n",
       "      <td>10287</td>\n",
       "    </tr>\n",
       "    <tr>\n",
       "      <th>15</th>\n",
       "      <td>Sweden</td>\n",
       "      <td>SWE</td>\n",
       "      <td>1.14271</td>\n",
       "      <td>9.90312e+06</td>\n",
       "      <td>407310</td>\n",
       "      <td>C</td>\n",
       "      <td>18640</td>\n",
       "    </tr>\n",
       "    <tr>\n",
       "      <th>16</th>\n",
       "      <td>India</td>\n",
       "      <td>IND</td>\n",
       "      <td>1.14821</td>\n",
       "      <td>1.32417e+09</td>\n",
       "      <td>2.97319e+06</td>\n",
       "      <td>B</td>\n",
       "      <td>26917</td>\n",
       "    </tr>\n",
       "  </tbody>\n",
       "</table>\n",
       "</div>"
      ],
      "text/plain": [
       "       CountryName CountryCode Population growth Total population  \\\n",
       "index                                                               \n",
       "2           Brazil         BRA          0.817556      2.07653e+08   \n",
       "3      Switzerland         CHE           1.07722       8.3721e+06   \n",
       "4          Germany         DEU           1.19387      8.26677e+07   \n",
       "5          Denmark         DNK          0.834638      1.56572e+08   \n",
       "6            Spain         ESP       -0.00804809       4.6444e+07   \n",
       "7           France         FRA          0.407491      6.68961e+07   \n",
       "8            Japan         JPN         -0.115284      1.26995e+08   \n",
       "9           Greece         GRC         -0.687543      1.07467e+07   \n",
       "10            Iran         IRN           1.14879      8.02774e+07   \n",
       "11          Kuwait         KWT           2.92421      4.05258e+06   \n",
       "12         Morocco         MAR           1.14271      3.52768e+07   \n",
       "13         Nigeria         NGA           2.61903       1.8599e+08   \n",
       "14           Qatar         QAT           3.49507       2.5698e+06   \n",
       "15          Sweden         SWE           1.14271      9.90312e+06   \n",
       "16           India         IND           1.14821      1.32417e+09   \n",
       "\n",
       "      Area (sq. km) International Visitors Coronavirus Cases  \n",
       "index                                                         \n",
       "2       8.35814e+06                      B             59324  \n",
       "3             39516                      B             29061  \n",
       "4            348900                      A            156727  \n",
       "5             42262                      B              8575  \n",
       "6            500210                      A            223759  \n",
       "7            547557                      A            161488  \n",
       "8            364560                      B             13231  \n",
       "9            128900                      C              2506  \n",
       "10      1.62876e+06                      D             90481  \n",
       "11      1.19343e+06                      C              3075  \n",
       "12           446300                      C              4047  \n",
       "13           910770                      D              1182  \n",
       "14            11610                      B             10287  \n",
       "15           407310                      C             18640  \n",
       "16      2.97319e+06                      B             26917  "
      ]
     },
     "execution_count": 37,
     "metadata": {},
     "output_type": "execute_result"
    }
   ],
   "source": [
    "raw_data"
   ]
  },
  {
   "cell_type": "markdown",
   "metadata": {},
   "source": [
    "## استفاده از ویژگی‌های `Categorical`\n",
    "\n",
    "چون الگوریتم‌های رگرسیون که جلوتر از آنها استفاده می‌کنیم توانایی پردازش داده‌های غیر عددی را ندارند، باید ویژگی‌های \n",
    "`categorical` \n",
    "را نیز به صورت عددی تبدیل کنیم.\n",
    "\n",
    "که می‌توانیم این کار را به دو صورت انجام دهیم.\n",
    "- `Label Encoding`\n",
    "- `One hot encoding`\n",
    "\n",
    "که اینجا چون ستون `international visitors` ترتیب دارد می‌توانیم با `label` گذاری این کار را انجام دهیم که ترتیت آن نیز به هم نخورد."
   ]
  },
  {
   "cell_type": "code",
   "execution_count": 39,
   "metadata": {},
   "outputs": [],
   "source": [
    "from sklearn.preprocessing import LabelEncoder"
   ]
  },
  {
   "cell_type": "code",
   "execution_count": 41,
   "metadata": {},
   "outputs": [],
   "source": [
    "encoder = LabelEncoder()\n",
    "encoding_results = encoder.fit_transform(raw_data['International Visitors'])"
   ]
  },
  {
   "cell_type": "markdown",
   "metadata": {},
   "source": [
    "نتایج را برعکس می‌کنیم تا معنی‌دار تر شوند (کشورهای توریستی‌تر مقدار بیشتری داشته باشند)."
   ]
  },
  {
   "cell_type": "code",
   "execution_count": 44,
   "metadata": {},
   "outputs": [],
   "source": [
    "encoding_results = 4 - encoding_results"
   ]
  },
  {
   "cell_type": "code",
   "execution_count": 45,
   "metadata": {},
   "outputs": [],
   "source": [
    "raw_data['International Visitors'] = encoding_results"
   ]
  },
  {
   "cell_type": "code",
   "execution_count": 46,
   "metadata": {},
   "outputs": [
    {
     "data": {
      "text/html": [
       "<div>\n",
       "<style scoped>\n",
       "    .dataframe tbody tr th:only-of-type {\n",
       "        vertical-align: middle;\n",
       "    }\n",
       "\n",
       "    .dataframe tbody tr th {\n",
       "        vertical-align: top;\n",
       "    }\n",
       "\n",
       "    .dataframe thead th {\n",
       "        text-align: right;\n",
       "    }\n",
       "</style>\n",
       "<table border=\"1\" class=\"dataframe\">\n",
       "  <thead>\n",
       "    <tr style=\"text-align: right;\">\n",
       "      <th></th>\n",
       "      <th>CountryName</th>\n",
       "      <th>CountryCode</th>\n",
       "      <th>Population growth</th>\n",
       "      <th>Total population</th>\n",
       "      <th>Area (sq. km)</th>\n",
       "      <th>International Visitors</th>\n",
       "      <th>Coronavirus Cases</th>\n",
       "    </tr>\n",
       "    <tr>\n",
       "      <th>index</th>\n",
       "      <th></th>\n",
       "      <th></th>\n",
       "      <th></th>\n",
       "      <th></th>\n",
       "      <th></th>\n",
       "      <th></th>\n",
       "      <th></th>\n",
       "    </tr>\n",
       "  </thead>\n",
       "  <tbody>\n",
       "    <tr>\n",
       "      <th>2</th>\n",
       "      <td>Brazil</td>\n",
       "      <td>BRA</td>\n",
       "      <td>0.817556</td>\n",
       "      <td>2.07653e+08</td>\n",
       "      <td>8.35814e+06</td>\n",
       "      <td>3</td>\n",
       "      <td>59324</td>\n",
       "    </tr>\n",
       "    <tr>\n",
       "      <th>3</th>\n",
       "      <td>Switzerland</td>\n",
       "      <td>CHE</td>\n",
       "      <td>1.07722</td>\n",
       "      <td>8.3721e+06</td>\n",
       "      <td>39516</td>\n",
       "      <td>3</td>\n",
       "      <td>29061</td>\n",
       "    </tr>\n",
       "    <tr>\n",
       "      <th>4</th>\n",
       "      <td>Germany</td>\n",
       "      <td>DEU</td>\n",
       "      <td>1.19387</td>\n",
       "      <td>8.26677e+07</td>\n",
       "      <td>348900</td>\n",
       "      <td>4</td>\n",
       "      <td>156727</td>\n",
       "    </tr>\n",
       "    <tr>\n",
       "      <th>5</th>\n",
       "      <td>Denmark</td>\n",
       "      <td>DNK</td>\n",
       "      <td>0.834638</td>\n",
       "      <td>1.56572e+08</td>\n",
       "      <td>42262</td>\n",
       "      <td>3</td>\n",
       "      <td>8575</td>\n",
       "    </tr>\n",
       "    <tr>\n",
       "      <th>6</th>\n",
       "      <td>Spain</td>\n",
       "      <td>ESP</td>\n",
       "      <td>-0.00804809</td>\n",
       "      <td>4.6444e+07</td>\n",
       "      <td>500210</td>\n",
       "      <td>4</td>\n",
       "      <td>223759</td>\n",
       "    </tr>\n",
       "    <tr>\n",
       "      <th>7</th>\n",
       "      <td>France</td>\n",
       "      <td>FRA</td>\n",
       "      <td>0.407491</td>\n",
       "      <td>6.68961e+07</td>\n",
       "      <td>547557</td>\n",
       "      <td>4</td>\n",
       "      <td>161488</td>\n",
       "    </tr>\n",
       "    <tr>\n",
       "      <th>8</th>\n",
       "      <td>Japan</td>\n",
       "      <td>JPN</td>\n",
       "      <td>-0.115284</td>\n",
       "      <td>1.26995e+08</td>\n",
       "      <td>364560</td>\n",
       "      <td>3</td>\n",
       "      <td>13231</td>\n",
       "    </tr>\n",
       "    <tr>\n",
       "      <th>9</th>\n",
       "      <td>Greece</td>\n",
       "      <td>GRC</td>\n",
       "      <td>-0.687543</td>\n",
       "      <td>1.07467e+07</td>\n",
       "      <td>128900</td>\n",
       "      <td>2</td>\n",
       "      <td>2506</td>\n",
       "    </tr>\n",
       "    <tr>\n",
       "      <th>10</th>\n",
       "      <td>Iran</td>\n",
       "      <td>IRN</td>\n",
       "      <td>1.14879</td>\n",
       "      <td>8.02774e+07</td>\n",
       "      <td>1.62876e+06</td>\n",
       "      <td>1</td>\n",
       "      <td>90481</td>\n",
       "    </tr>\n",
       "    <tr>\n",
       "      <th>11</th>\n",
       "      <td>Kuwait</td>\n",
       "      <td>KWT</td>\n",
       "      <td>2.92421</td>\n",
       "      <td>4.05258e+06</td>\n",
       "      <td>1.19343e+06</td>\n",
       "      <td>2</td>\n",
       "      <td>3075</td>\n",
       "    </tr>\n",
       "    <tr>\n",
       "      <th>12</th>\n",
       "      <td>Morocco</td>\n",
       "      <td>MAR</td>\n",
       "      <td>1.14271</td>\n",
       "      <td>3.52768e+07</td>\n",
       "      <td>446300</td>\n",
       "      <td>2</td>\n",
       "      <td>4047</td>\n",
       "    </tr>\n",
       "    <tr>\n",
       "      <th>13</th>\n",
       "      <td>Nigeria</td>\n",
       "      <td>NGA</td>\n",
       "      <td>2.61903</td>\n",
       "      <td>1.8599e+08</td>\n",
       "      <td>910770</td>\n",
       "      <td>1</td>\n",
       "      <td>1182</td>\n",
       "    </tr>\n",
       "    <tr>\n",
       "      <th>14</th>\n",
       "      <td>Qatar</td>\n",
       "      <td>QAT</td>\n",
       "      <td>3.49507</td>\n",
       "      <td>2.5698e+06</td>\n",
       "      <td>11610</td>\n",
       "      <td>3</td>\n",
       "      <td>10287</td>\n",
       "    </tr>\n",
       "    <tr>\n",
       "      <th>15</th>\n",
       "      <td>Sweden</td>\n",
       "      <td>SWE</td>\n",
       "      <td>1.14271</td>\n",
       "      <td>9.90312e+06</td>\n",
       "      <td>407310</td>\n",
       "      <td>2</td>\n",
       "      <td>18640</td>\n",
       "    </tr>\n",
       "    <tr>\n",
       "      <th>16</th>\n",
       "      <td>India</td>\n",
       "      <td>IND</td>\n",
       "      <td>1.14821</td>\n",
       "      <td>1.32417e+09</td>\n",
       "      <td>2.97319e+06</td>\n",
       "      <td>3</td>\n",
       "      <td>26917</td>\n",
       "    </tr>\n",
       "  </tbody>\n",
       "</table>\n",
       "</div>"
      ],
      "text/plain": [
       "       CountryName CountryCode Population growth Total population  \\\n",
       "index                                                               \n",
       "2           Brazil         BRA          0.817556      2.07653e+08   \n",
       "3      Switzerland         CHE           1.07722       8.3721e+06   \n",
       "4          Germany         DEU           1.19387      8.26677e+07   \n",
       "5          Denmark         DNK          0.834638      1.56572e+08   \n",
       "6            Spain         ESP       -0.00804809       4.6444e+07   \n",
       "7           France         FRA          0.407491      6.68961e+07   \n",
       "8            Japan         JPN         -0.115284      1.26995e+08   \n",
       "9           Greece         GRC         -0.687543      1.07467e+07   \n",
       "10            Iran         IRN           1.14879      8.02774e+07   \n",
       "11          Kuwait         KWT           2.92421      4.05258e+06   \n",
       "12         Morocco         MAR           1.14271      3.52768e+07   \n",
       "13         Nigeria         NGA           2.61903       1.8599e+08   \n",
       "14           Qatar         QAT           3.49507       2.5698e+06   \n",
       "15          Sweden         SWE           1.14271      9.90312e+06   \n",
       "16           India         IND           1.14821      1.32417e+09   \n",
       "\n",
       "      Area (sq. km)  International Visitors Coronavirus Cases  \n",
       "index                                                          \n",
       "2       8.35814e+06                       3             59324  \n",
       "3             39516                       3             29061  \n",
       "4            348900                       4            156727  \n",
       "5             42262                       3              8575  \n",
       "6            500210                       4            223759  \n",
       "7            547557                       4            161488  \n",
       "8            364560                       3             13231  \n",
       "9            128900                       2              2506  \n",
       "10      1.62876e+06                       1             90481  \n",
       "11      1.19343e+06                       2              3075  \n",
       "12           446300                       2              4047  \n",
       "13           910770                       1              1182  \n",
       "14            11610                       3             10287  \n",
       "15           407310                       2             18640  \n",
       "16      2.97319e+06                       3             26917  "
      ]
     },
     "execution_count": 46,
     "metadata": {},
     "output_type": "execute_result"
    }
   ],
   "source": [
    "raw_data"
   ]
  },
  {
   "cell_type": "markdown",
   "metadata": {},
   "source": [
    "خب حالا همه‌ی فیچر‌ها عددی شده‌اند .\n",
    "\n",
    "(دو ستون اسم و کد کشور چون مقادیر `unique` دارند، ارزشی به عنوان فیچر ندارند.)"
   ]
  },
  {
   "cell_type": "markdown",
   "metadata": {},
   "source": [
    "## Feature Scaling\n",
    "چون قرار است از رگرسیون در ادامه استفاده کنیم، انجام \n",
    "`feature scaling` \n",
    "فرقی در جواب ایجاد نمی‌کند. ولی توضیح ضرایب مختلف بدست آمده توسط الگوریتم و اثر هر فیچر را ممکن می‌کند.\n",
    "\n",
    "می‌توانیم همچنین از دو روش\n",
    "- `Standard Scaling`\n",
    "- `Min Max Scaling`\n",
    "استفاده کنیم،\n",
    "\n",
    "مقادیر منفی برای ستون `population growth` معنی‌دارند ولی بهتر است بقیه‌ی ستون‌ها مقادیر مثبت داشته باشند.\n",
    "پس این ستون را با `Standard Scaler`و\n",
    "بقیه‌ی ستون‌ها را با\n",
    "`Min Max Scaler`\n",
    "اندازه می‌کنیم."
   ]
  },
  {
   "cell_type": "code",
   "execution_count": 47,
   "metadata": {},
   "outputs": [],
   "source": [
    "from sklearn.preprocessing import StandardScaler,MinMaxScaler"
   ]
  },
  {
   "cell_type": "code",
   "execution_count": 54,
   "metadata": {},
   "outputs": [],
   "source": [
    "standard_scaler = StandardScaler()\n",
    "raw_data[['Population growth']] = standard_scaler.fit_transform(raw_data[['Population growth']])"
   ]
  },
  {
   "cell_type": "code",
   "execution_count": 57,
   "metadata": {},
   "outputs": [],
   "source": [
    "min_max_scaler = MinMaxScaler()\n",
    "raw_data[['Total population','Area (sq. km)','International Visitors','Coronavirus Cases']] =\\\n",
    "min_max_scaler.fit_transform(raw_data[['Total population','Area (sq. km)','International Visitors','Coronavirus Cases']])"
   ]
  },
  {
   "cell_type": "code",
   "execution_count": 58,
   "metadata": {},
   "outputs": [
    {
     "data": {
      "text/html": [
       "<div>\n",
       "<style scoped>\n",
       "    .dataframe tbody tr th:only-of-type {\n",
       "        vertical-align: middle;\n",
       "    }\n",
       "\n",
       "    .dataframe tbody tr th {\n",
       "        vertical-align: top;\n",
       "    }\n",
       "\n",
       "    .dataframe thead th {\n",
       "        text-align: right;\n",
       "    }\n",
       "</style>\n",
       "<table border=\"1\" class=\"dataframe\">\n",
       "  <thead>\n",
       "    <tr style=\"text-align: right;\">\n",
       "      <th></th>\n",
       "      <th>CountryName</th>\n",
       "      <th>CountryCode</th>\n",
       "      <th>Population growth</th>\n",
       "      <th>Total population</th>\n",
       "      <th>Area (sq. km)</th>\n",
       "      <th>International Visitors</th>\n",
       "      <th>Coronavirus Cases</th>\n",
       "    </tr>\n",
       "    <tr>\n",
       "      <th>index</th>\n",
       "      <th></th>\n",
       "      <th></th>\n",
       "      <th></th>\n",
       "      <th></th>\n",
       "      <th></th>\n",
       "      <th></th>\n",
       "      <th></th>\n",
       "    </tr>\n",
       "  </thead>\n",
       "  <tbody>\n",
       "    <tr>\n",
       "      <th>2</th>\n",
       "      <td>Brazil</td>\n",
       "      <td>BRA</td>\n",
       "      <td>-2.977201e-01</td>\n",
       "      <td>0.155178</td>\n",
       "      <td>1.000000</td>\n",
       "      <td>0.666667</td>\n",
       "      <td>0.261222</td>\n",
       "    </tr>\n",
       "    <tr>\n",
       "      <th>3</th>\n",
       "      <td>Switzerland</td>\n",
       "      <td>CHE</td>\n",
       "      <td>-5.996225e-02</td>\n",
       "      <td>0.004390</td>\n",
       "      <td>0.003343</td>\n",
       "      <td>0.666667</td>\n",
       "      <td>0.125256</td>\n",
       "    </tr>\n",
       "    <tr>\n",
       "      <th>4</th>\n",
       "      <td>Germany</td>\n",
       "      <td>DEU</td>\n",
       "      <td>4.684212e-02</td>\n",
       "      <td>0.060607</td>\n",
       "      <td>0.040411</td>\n",
       "      <td>1.000000</td>\n",
       "      <td>0.698837</td>\n",
       "    </tr>\n",
       "    <tr>\n",
       "      <th>5</th>\n",
       "      <td>Denmark</td>\n",
       "      <td>DNK</td>\n",
       "      <td>-2.820794e-01</td>\n",
       "      <td>0.116527</td>\n",
       "      <td>0.003672</td>\n",
       "      <td>0.666667</td>\n",
       "      <td>0.033215</td>\n",
       "    </tr>\n",
       "    <tr>\n",
       "      <th>6</th>\n",
       "      <td>Spain</td>\n",
       "      <td>ESP</td>\n",
       "      <td>-1.053669e+00</td>\n",
       "      <td>0.033198</td>\n",
       "      <td>0.058539</td>\n",
       "      <td>1.000000</td>\n",
       "      <td>1.000000</td>\n",
       "    </tr>\n",
       "    <tr>\n",
       "      <th>7</th>\n",
       "      <td>France</td>\n",
       "      <td>FRA</td>\n",
       "      <td>-6.731882e-01</td>\n",
       "      <td>0.048673</td>\n",
       "      <td>0.064212</td>\n",
       "      <td>1.000000</td>\n",
       "      <td>0.720227</td>\n",
       "    </tr>\n",
       "    <tr>\n",
       "      <th>8</th>\n",
       "      <td>Japan</td>\n",
       "      <td>JPN</td>\n",
       "      <td>-1.151858e+00</td>\n",
       "      <td>0.094147</td>\n",
       "      <td>0.042287</td>\n",
       "      <td>0.666667</td>\n",
       "      <td>0.054134</td>\n",
       "    </tr>\n",
       "    <tr>\n",
       "      <th>9</th>\n",
       "      <td>Greece</td>\n",
       "      <td>GRC</td>\n",
       "      <td>-1.675835e+00</td>\n",
       "      <td>0.006187</td>\n",
       "      <td>0.014053</td>\n",
       "      <td>0.333333</td>\n",
       "      <td>0.005949</td>\n",
       "    </tr>\n",
       "    <tr>\n",
       "      <th>10</th>\n",
       "      <td>Iran</td>\n",
       "      <td>IRN</td>\n",
       "      <td>5.567137e-03</td>\n",
       "      <td>0.058798</td>\n",
       "      <td>0.193751</td>\n",
       "      <td>0.000000</td>\n",
       "      <td>0.401205</td>\n",
       "    </tr>\n",
       "    <tr>\n",
       "      <th>11</th>\n",
       "      <td>Kuwait</td>\n",
       "      <td>KWT</td>\n",
       "      <td>1.631195e+00</td>\n",
       "      <td>0.001122</td>\n",
       "      <td>0.141594</td>\n",
       "      <td>0.333333</td>\n",
       "      <td>0.008505</td>\n",
       "    </tr>\n",
       "    <tr>\n",
       "      <th>12</th>\n",
       "      <td>Morocco</td>\n",
       "      <td>MAR</td>\n",
       "      <td>-2.033110e-16</td>\n",
       "      <td>0.024748</td>\n",
       "      <td>0.052080</td>\n",
       "      <td>0.333333</td>\n",
       "      <td>0.012872</td>\n",
       "    </tr>\n",
       "    <tr>\n",
       "      <th>13</th>\n",
       "      <td>Nigeria</td>\n",
       "      <td>NGA</td>\n",
       "      <td>1.351770e+00</td>\n",
       "      <td>0.138786</td>\n",
       "      <td>0.107729</td>\n",
       "      <td>0.000000</td>\n",
       "      <td>0.000000</td>\n",
       "    </tr>\n",
       "    <tr>\n",
       "      <th>14</th>\n",
       "      <td>Qatar</td>\n",
       "      <td>QAT</td>\n",
       "      <td>2.153896e+00</td>\n",
       "      <td>0.000000</td>\n",
       "      <td>0.000000</td>\n",
       "      <td>0.666667</td>\n",
       "      <td>0.040907</td>\n",
       "    </tr>\n",
       "    <tr>\n",
       "      <th>15</th>\n",
       "      <td>Sweden</td>\n",
       "      <td>SWE</td>\n",
       "      <td>-2.033110e-16</td>\n",
       "      <td>0.005549</td>\n",
       "      <td>0.047409</td>\n",
       "      <td>0.333333</td>\n",
       "      <td>0.078436</td>\n",
       "    </tr>\n",
       "    <tr>\n",
       "      <th>16</th>\n",
       "      <td>India</td>\n",
       "      <td>IND</td>\n",
       "      <td>5.041650e-03</td>\n",
       "      <td>1.000000</td>\n",
       "      <td>0.354828</td>\n",
       "      <td>0.666667</td>\n",
       "      <td>0.115623</td>\n",
       "    </tr>\n",
       "  </tbody>\n",
       "</table>\n",
       "</div>"
      ],
      "text/plain": [
       "       CountryName CountryCode  Population growth  Total population  \\\n",
       "index                                                                 \n",
       "2           Brazil         BRA      -2.977201e-01          0.155178   \n",
       "3      Switzerland         CHE      -5.996225e-02          0.004390   \n",
       "4          Germany         DEU       4.684212e-02          0.060607   \n",
       "5          Denmark         DNK      -2.820794e-01          0.116527   \n",
       "6            Spain         ESP      -1.053669e+00          0.033198   \n",
       "7           France         FRA      -6.731882e-01          0.048673   \n",
       "8            Japan         JPN      -1.151858e+00          0.094147   \n",
       "9           Greece         GRC      -1.675835e+00          0.006187   \n",
       "10            Iran         IRN       5.567137e-03          0.058798   \n",
       "11          Kuwait         KWT       1.631195e+00          0.001122   \n",
       "12         Morocco         MAR      -2.033110e-16          0.024748   \n",
       "13         Nigeria         NGA       1.351770e+00          0.138786   \n",
       "14           Qatar         QAT       2.153896e+00          0.000000   \n",
       "15          Sweden         SWE      -2.033110e-16          0.005549   \n",
       "16           India         IND       5.041650e-03          1.000000   \n",
       "\n",
       "       Area (sq. km)  International Visitors  Coronavirus Cases  \n",
       "index                                                            \n",
       "2           1.000000                0.666667           0.261222  \n",
       "3           0.003343                0.666667           0.125256  \n",
       "4           0.040411                1.000000           0.698837  \n",
       "5           0.003672                0.666667           0.033215  \n",
       "6           0.058539                1.000000           1.000000  \n",
       "7           0.064212                1.000000           0.720227  \n",
       "8           0.042287                0.666667           0.054134  \n",
       "9           0.014053                0.333333           0.005949  \n",
       "10          0.193751                0.000000           0.401205  \n",
       "11          0.141594                0.333333           0.008505  \n",
       "12          0.052080                0.333333           0.012872  \n",
       "13          0.107729                0.000000           0.000000  \n",
       "14          0.000000                0.666667           0.040907  \n",
       "15          0.047409                0.333333           0.078436  \n",
       "16          0.354828                0.666667           0.115623  "
      ]
     },
     "execution_count": 58,
     "metadata": {},
     "output_type": "execute_result"
    }
   ],
   "source": [
    "raw_data"
   ]
  },
  {
   "cell_type": "markdown",
   "metadata": {},
   "source": [
    "## داده‌های پرت"
   ]
  },
  {
   "cell_type": "code",
   "execution_count": 59,
   "metadata": {},
   "outputs": [],
   "source": [
    "from scipy import stats"
   ]
  },
  {
   "cell_type": "markdown",
   "metadata": {},
   "source": [
    "در یک روش می‌توانیم داده‌هایی که\n",
    "`z-score`\n",
    "کمتر از -۳\n",
    "یا بیشتر از ۳ دارند را حذف کنیم."
   ]
  },
  {
   "cell_type": "code",
   "execution_count": 104,
   "metadata": {},
   "outputs": [
    {
     "name": "stdout",
     "output_type": "stream",
     "text": [
      "[[2.97720105e-01 1.60173480e-01 3.48412956e+00 3.53553391e-01]\n",
      " [5.99622526e-02 4.64713987e-01 5.61135868e-01 3.53553391e-01]\n",
      " [4.68421153e-02 2.31744283e-01 4.10685457e-01 1.41421356e+00]\n",
      " [2.82079381e-01 5.75118331e-17 5.59800515e-01 3.53553391e-01]\n",
      " [1.05366889e+00 3.45331524e-01 3.37104885e-01 1.41421356e+00]\n",
      " [6.73188208e-01 2.81199433e-01 3.14080502e-01 1.41421356e+00]\n",
      " [1.15185762e+00 9.27480400e-02 4.03070152e-01 3.53553391e-01]\n",
      " [1.67583537e+00 4.57267789e-01 5.17669304e-01 7.07106781e-01]\n",
      " [5.56713718e-03 2.39239446e-01 2.11697934e-01 1.76776695e+00]\n",
      " [1.63119528e+00 4.78258747e-01 1.12655325e-16 7.07106781e-01]\n",
      " [1.48262460e-16 3.80348583e-01 3.63320790e-01 7.07106781e-01]\n",
      " [1.35176959e+00 9.22438047e-02 1.37453576e-01 1.76776695e+00]\n",
      " [2.15389605e+00 4.82908320e-01 5.74706283e-01 3.53553391e-01]\n",
      " [1.48262460e-16 4.59913133e-01 3.82281246e-01 7.07106781e-01]\n",
      " [5.04164990e-03 3.66125600e+00 8.65481083e-01 3.53553391e-01]]\n"
     ]
    },
    {
     "data": {
      "text/plain": [
       "array([ True, False, False, False, False, False, False, False, False,\n",
       "       False, False, False, False, False,  True])"
      ]
     },
     "execution_count": 104,
     "metadata": {},
     "output_type": "execute_result"
    }
   ],
   "source": [
    "print(np.abs(stats.zscore(raw_data.iloc[:,2:-1])))\n",
    "(np.abs(stats.zscore(raw_data.iloc[:,2:-1]))>3).any(axis=1)"
   ]
  },
  {
   "cell_type": "markdown",
   "metadata": {},
   "source": [
    "می‌بینیم که دو ردیف از داده‌ها شامل یه ویژگی پرت است.(جمعیت هند و مساحت برزیل) ولی این داده‌ها واقعی هستند و پرت نیستند\n",
    "\n",
    "در صورتی که یک مدل با حذف کردن این دو کشور بهتر کار کرد، آنها را حذف می‌کنیم."
   ]
  },
  {
   "cell_type": "markdown",
   "metadata": {},
   "source": [
    "# رگرسیون\n",
    "فرض می‌کنیم که همه‌ی داده‌ی ما آموزش است."
   ]
  },
  {
   "cell_type": "code",
   "execution_count": 73,
   "metadata": {},
   "outputs": [],
   "source": [
    "X_train , y_train = raw_data.iloc[:,2:-1] , raw_data['Coronavirus Cases']"
   ]
  },
  {
   "cell_type": "markdown",
   "metadata": {},
   "source": [
    "ابتدا با استفاده از `sklearn` یک رگرسیون چندتایی روی آن اعمال می‌کنیم."
   ]
  },
  {
   "cell_type": "code",
   "execution_count": 76,
   "metadata": {},
   "outputs": [
    {
     "data": {
      "text/plain": [
       "LinearRegression(copy_X=True, fit_intercept=True, n_jobs=None, normalize=False)"
      ]
     },
     "execution_count": 76,
     "metadata": {},
     "output_type": "execute_result"
    }
   ],
   "source": [
    "from sklearn.linear_model import LinearRegression\n",
    "lr_model = LinearRegression(fit_intercept=True)\n",
    "lr_model.fit(X_train,y_train)"
   ]
  },
  {
   "cell_type": "markdown",
   "metadata": {},
   "source": [
    "عرض از مبدا:"
   ]
  },
  {
   "cell_type": "code",
   "execution_count": 80,
   "metadata": {},
   "outputs": [
    {
     "name": "stdout",
     "output_type": "stream",
     "text": [
      "intecept: -0.06696983141276056\n"
     ]
    }
   ],
   "source": [
    "print('intecept:', lr_model.intercept_)"
   ]
  },
  {
   "cell_type": "markdown",
   "metadata": {},
   "source": [
    "ضرایب مدل:"
   ]
  },
  {
   "cell_type": "code",
   "execution_count": 86,
   "metadata": {},
   "outputs": [
    {
     "data": {
      "text/html": [
       "<div>\n",
       "<style scoped>\n",
       "    .dataframe tbody tr th:only-of-type {\n",
       "        vertical-align: middle;\n",
       "    }\n",
       "\n",
       "    .dataframe tbody tr th {\n",
       "        vertical-align: top;\n",
       "    }\n",
       "\n",
       "    .dataframe thead th {\n",
       "        text-align: right;\n",
       "    }\n",
       "</style>\n",
       "<table border=\"1\" class=\"dataframe\">\n",
       "  <thead>\n",
       "    <tr style=\"text-align: right;\">\n",
       "      <th></th>\n",
       "      <th>coefficient</th>\n",
       "    </tr>\n",
       "  </thead>\n",
       "  <tbody>\n",
       "    <tr>\n",
       "      <th>Population growth</th>\n",
       "      <td>-0.049638</td>\n",
       "    </tr>\n",
       "    <tr>\n",
       "      <th>Total population</th>\n",
       "      <td>-0.228415</td>\n",
       "    </tr>\n",
       "    <tr>\n",
       "      <th>Area (sq. km)</th>\n",
       "      <td>0.087727</td>\n",
       "    </tr>\n",
       "    <tr>\n",
       "      <th>International Visitors</th>\n",
       "      <td>0.572863</td>\n",
       "    </tr>\n",
       "  </tbody>\n",
       "</table>\n",
       "</div>"
      ],
      "text/plain": [
       "                        coefficient\n",
       "Population growth         -0.049638\n",
       "Total population          -0.228415\n",
       "Area (sq. km)              0.087727\n",
       "International Visitors     0.572863"
      ]
     },
     "execution_count": 86,
     "metadata": {},
     "output_type": "execute_result"
    }
   ],
   "source": [
    "pd.DataFrame(lr_model.coef_,X_train.columns,columns=['coefficient'])"
   ]
  },
  {
   "cell_type": "markdown",
   "metadata": {},
   "source": [
    "خطاهای `MSE` و `RMSE`"
   ]
  },
  {
   "cell_type": "code",
   "execution_count": 87,
   "metadata": {},
   "outputs": [],
   "source": [
    "from sklearn import metrics"
   ]
  },
  {
   "cell_type": "code",
   "execution_count": 92,
   "metadata": {},
   "outputs": [
    {
     "name": "stdout",
     "output_type": "stream",
     "text": [
      "MSE: 0.05426888346862779\n",
      "RMSE: 0.2329568274780282\n",
      "R-squared: 0.43245261118200773\n"
     ]
    }
   ],
   "source": [
    "prediction_train = lr_model.predict(X_train)\n",
    "print('MSE:',metrics.mean_squared_error(y_train,prediction_train))\n",
    "print('RMSE:',np.sqrt(metrics.mean_squared_error(y_train,prediction_train)))\n",
    "print('R-squared:',metrics.r2_score(y_train,prediction_train))"
   ]
  },
  {
   "cell_type": "markdown",
   "metadata": {},
   "source": [
    "می‌بینیم که r^2 مقدار کمی دارد پس خط خوبی نداریم."
   ]
  },
  {
   "cell_type": "code",
   "execution_count": 97,
   "metadata": {},
   "outputs": [
    {
     "data": {
      "text/plain": [
       "<seaborn.axisgrid.FacetGrid at 0x7f74a37f7208>"
      ]
     },
     "execution_count": 97,
     "metadata": {},
     "output_type": "execute_result"
    },
    {
     "data": {
      "image/png": "[encoded data removed]",
      "text/plain": [
       "<Figure size 360x360 with 1 Axes>"
      ]
     },
     "metadata": {
      "needs_background": "light"
     },
     "output_type": "display_data"
    }
   ],
   "source": [
    "sns.lmplot('Total population','Coronavirus Cases',raw_data)"
   ]
  },
  {
   "cell_type": "markdown",
   "metadata": {},
   "source": [
    "یکی از نکات عجیب دیگر این بود که ضریب جمعیت در رگرسیون منفی شد.\n",
    "بنابراین نمودار آن را رسم کردیم و دیدیم که در این داده تعداد کرونا خیلی ربطی به جمعیت نداشته\n",
    "و دوم اینکه هند با جمعیت بسیار زیاد خیلی خط را خراب کرده است. پس دو داده‌ی پرت را حذف می‌کنیم."
   ]
  },
  {
   "cell_type": "code",
   "execution_count": 108,
   "metadata": {},
   "outputs": [],
   "source": [
    "new_data = raw_data.drop(raw_data[(np.abs(stats.zscore(raw_data.iloc[:,2:-1]))>3).any(axis=1)].index).copy()"
   ]
  },
  {
   "cell_type": "markdown",
   "metadata": {},
   "source": [
    "دوباره رگرسیون را روی دیتای جدید می‌سازیم."
   ]
  },
  {
   "cell_type": "code",
   "execution_count": 111,
   "metadata": {},
   "outputs": [
    {
     "data": {
      "text/plain": [
       "LinearRegression(copy_X=True, fit_intercept=True, n_jobs=None, normalize=False)"
      ]
     },
     "execution_count": 111,
     "metadata": {},
     "output_type": "execute_result"
    }
   ],
   "source": [
    "X_train , y_train = new_data.iloc[:,2:-1] , new_data['Coronavirus Cases']\n",
    "lr_model = LinearRegression(fit_intercept=True)\n",
    "lr_model.fit(X_train,y_train)"
   ]
  },
  {
   "cell_type": "code",
   "execution_count": 112,
   "metadata": {},
   "outputs": [
    {
     "name": "stdout",
     "output_type": "stream",
     "text": [
      "MSE: 0.02387607535983631\n",
      "RMSE: 0.1545188511471539\n",
      "R-squared: 0.7811440462939105\n"
     ]
    }
   ],
   "source": [
    "prediction_train = lr_model.predict(X_train)\n",
    "print('MSE:',metrics.mean_squared_error(y_train,prediction_train))\n",
    "print('RMSE:',np.sqrt(metrics.mean_squared_error(y_train,prediction_train)))\n",
    "print('R-squared:',metrics.r2_score(y_train,prediction_train))"
   ]
  },
  {
   "cell_type": "markdown",
   "metadata": {},
   "source": [
    "می‌بینیم که r^2 مقداری بهبود پیدا کرده است."
   ]
  },
  {
   "cell_type": "code",
   "execution_count": 116,
   "metadata": {},
   "outputs": [],
   "source": [
    "import statsmodels.formula.api as smf"
   ]
  },
  {
   "cell_type": "code",
   "execution_count": 120,
   "metadata": {},
   "outputs": [],
   "source": [
    "st_model = smf.ols('Q(\"Coronavirus Cases\") ~  Q(\"Population growth\") + Q(\"Total population\") + Q(\"Area (sq. km)\") + Q(\"International Visitors\")',data=new_data).fit()"
   ]
  },
  {
   "cell_type": "markdown",
   "metadata": {},
   "source": [
    "می‌توانیم همین شاخص‌هارا با`statmodels` \n",
    "نیز داشته باشیم.\n",
    "\n",
    "عرض از مبدا و ضرایب"
   ]
  },
  {
   "cell_type": "code",
   "execution_count": 121,
   "metadata": {},
   "outputs": [
    {
     "data": {
      "text/plain": [
       "Intercept                     -0.511873\n",
       "Q(\"Population growth\")        -0.068172\n",
       "Q(\"Total population\")         -0.192657\n",
       "Q(\"Area (sq. km)\")             4.298509\n",
       "Q(\"International Visitors\")    0.951735\n",
       "dtype: float64"
      ]
     },
     "execution_count": 121,
     "metadata": {},
     "output_type": "execute_result"
    }
   ],
   "source": [
    "st_model.params"
   ]
  },
  {
   "cell_type": "code",
   "execution_count": 123,
   "metadata": {},
   "outputs": [
    {
     "data": {
      "text/html": [
       "<div>\n",
       "<style scoped>\n",
       "    .dataframe tbody tr th:only-of-type {\n",
       "        vertical-align: middle;\n",
       "    }\n",
       "\n",
       "    .dataframe tbody tr th {\n",
       "        vertical-align: top;\n",
       "    }\n",
       "\n",
       "    .dataframe thead th {\n",
       "        text-align: right;\n",
       "    }\n",
       "</style>\n",
       "<table border=\"1\" class=\"dataframe\">\n",
       "  <thead>\n",
       "    <tr style=\"text-align: right;\">\n",
       "      <th></th>\n",
       "      <th>0</th>\n",
       "      <th>1</th>\n",
       "    </tr>\n",
       "  </thead>\n",
       "  <tbody>\n",
       "    <tr>\n",
       "      <th>Intercept</th>\n",
       "      <td>-0.913796</td>\n",
       "      <td>-0.109951</td>\n",
       "    </tr>\n",
       "    <tr>\n",
       "      <th>Q(\"Population growth\")</th>\n",
       "      <td>-0.192964</td>\n",
       "      <td>0.056621</td>\n",
       "    </tr>\n",
       "    <tr>\n",
       "      <th>Q(\"Total population\")</th>\n",
       "      <td>-3.065282</td>\n",
       "      <td>2.679968</td>\n",
       "    </tr>\n",
       "    <tr>\n",
       "      <th>Q(\"Area (sq. km)\")</th>\n",
       "      <td>1.534329</td>\n",
       "      <td>7.062689</td>\n",
       "    </tr>\n",
       "    <tr>\n",
       "      <th>Q(\"International Visitors\")</th>\n",
       "      <td>0.488407</td>\n",
       "      <td>1.415062</td>\n",
       "    </tr>\n",
       "  </tbody>\n",
       "</table>\n",
       "</div>"
      ],
      "text/plain": [
       "                                    0         1\n",
       "Intercept                   -0.913796 -0.109951\n",
       "Q(\"Population growth\")      -0.192964  0.056621\n",
       "Q(\"Total population\")       -3.065282  2.679968\n",
       "Q(\"Area (sq. km)\")           1.534329  7.062689\n",
       "Q(\"International Visitors\")  0.488407  1.415062"
      ]
     },
     "execution_count": 123,
     "metadata": {},
     "output_type": "execute_result"
    }
   ],
   "source": [
    "#confusion intervals\n",
    "st_model.conf_int()"
   ]
  },
  {
   "cell_type": "code",
   "execution_count": 124,
   "metadata": {},
   "outputs": [
    {
     "data": {
      "text/plain": [
       "Intercept                      0.018800\n",
       "Q(\"Population growth\")         0.243274\n",
       "Q(\"Total population\")          0.880923\n",
       "Q(\"Area (sq. km)\")             0.007126\n",
       "Q(\"International Visitors\")    0.001470\n",
       "dtype: float64"
      ]
     },
     "execution_count": 124,
     "metadata": {},
     "output_type": "execute_result"
    }
   ],
   "source": [
    "st_model.pvalues"
   ]
  },
  {
   "cell_type": "markdown",
   "metadata": {},
   "source": [
    "می‌بینیم که رشد جمعیت و کل جمعیت p-value \n",
    "بیشتر از ۰.۰۵ دارند.\n",
    "پس خیلی قابل اعتماد نیستند."
   ]
  },
  {
   "cell_type": "code",
   "execution_count": 126,
   "metadata": {},
   "outputs": [
    {
     "data": {
      "text/plain": [
       "0.7811440462939105"
      ]
     },
     "execution_count": 126,
     "metadata": {},
     "output_type": "execute_result"
    }
   ],
   "source": [
    "st_model.rsquared"
   ]
  },
  {
   "cell_type": "markdown",
   "metadata": {},
   "source": [
    "r^2 هم همان مقدار محاسبه شده توسط `sklearn` است."
   ]
  },
  {
   "cell_type": "markdown",
   "metadata": {},
   "source": [
    "ضرایب فیچر‌ها در مدل هم آنقدر زیاد نیست که بخواهیم از ridgre یا  lasso استفاده کنیم.\n",
    "و ضرایب نزدیک به هم هستند."
   ]
  },
  {
   "cell_type": "markdown",
   "metadata": {},
   "source": [
    "## Polynomial Regression"
   ]
  },
  {
   "cell_type": "code",
   "execution_count": 137,
   "metadata": {},
   "outputs": [],
   "source": [
    "df = pd.DataFrame({'pop':new_data['Total population'],'pop^2':new_data['Total population']**2,'y':new_data['Coronavirus Cases']})"
   ]
  },
  {
   "cell_type": "markdown",
   "metadata": {},
   "source": [
    "برای ساختن یک رگرسیون درجه‌ی ۲:\n",
    "\n",
    "جمعیت را به توان دو رسانده و در یک ستون دیگر قرار می‌دهیم\n",
    "حالا روی این دو ستون یک\n",
    "`Linear Regression`\n",
    "اعمال می‌کنیم."
   ]
  },
  {
   "cell_type": "code",
   "execution_count": 138,
   "metadata": {},
   "outputs": [
    {
     "data": {
      "text/html": [
       "<div>\n",
       "<style scoped>\n",
       "    .dataframe tbody tr th:only-of-type {\n",
       "        vertical-align: middle;\n",
       "    }\n",
       "\n",
       "    .dataframe tbody tr th {\n",
       "        vertical-align: top;\n",
       "    }\n",
       "\n",
       "    .dataframe thead th {\n",
       "        text-align: right;\n",
       "    }\n",
       "</style>\n",
       "<table border=\"1\" class=\"dataframe\">\n",
       "  <thead>\n",
       "    <tr style=\"text-align: right;\">\n",
       "      <th></th>\n",
       "      <th>pop</th>\n",
       "      <th>pop^2</th>\n",
       "      <th>y</th>\n",
       "    </tr>\n",
       "    <tr>\n",
       "      <th>index</th>\n",
       "      <th></th>\n",
       "      <th></th>\n",
       "      <th></th>\n",
       "    </tr>\n",
       "  </thead>\n",
       "  <tbody>\n",
       "    <tr>\n",
       "      <th>3</th>\n",
       "      <td>0.004390</td>\n",
       "      <td>0.000019</td>\n",
       "      <td>0.125256</td>\n",
       "    </tr>\n",
       "    <tr>\n",
       "      <th>4</th>\n",
       "      <td>0.060607</td>\n",
       "      <td>0.003673</td>\n",
       "      <td>0.698837</td>\n",
       "    </tr>\n",
       "    <tr>\n",
       "      <th>5</th>\n",
       "      <td>0.116527</td>\n",
       "      <td>0.013579</td>\n",
       "      <td>0.033215</td>\n",
       "    </tr>\n",
       "    <tr>\n",
       "      <th>6</th>\n",
       "      <td>0.033198</td>\n",
       "      <td>0.001102</td>\n",
       "      <td>1.000000</td>\n",
       "    </tr>\n",
       "    <tr>\n",
       "      <th>7</th>\n",
       "      <td>0.048673</td>\n",
       "      <td>0.002369</td>\n",
       "      <td>0.720227</td>\n",
       "    </tr>\n",
       "    <tr>\n",
       "      <th>8</th>\n",
       "      <td>0.094147</td>\n",
       "      <td>0.008864</td>\n",
       "      <td>0.054134</td>\n",
       "    </tr>\n",
       "    <tr>\n",
       "      <th>9</th>\n",
       "      <td>0.006187</td>\n",
       "      <td>0.000038</td>\n",
       "      <td>0.005949</td>\n",
       "    </tr>\n",
       "    <tr>\n",
       "      <th>10</th>\n",
       "      <td>0.058798</td>\n",
       "      <td>0.003457</td>\n",
       "      <td>0.401205</td>\n",
       "    </tr>\n",
       "    <tr>\n",
       "      <th>11</th>\n",
       "      <td>0.001122</td>\n",
       "      <td>0.000001</td>\n",
       "      <td>0.008505</td>\n",
       "    </tr>\n",
       "    <tr>\n",
       "      <th>12</th>\n",
       "      <td>0.024748</td>\n",
       "      <td>0.000612</td>\n",
       "      <td>0.012872</td>\n",
       "    </tr>\n",
       "    <tr>\n",
       "      <th>13</th>\n",
       "      <td>0.138786</td>\n",
       "      <td>0.019262</td>\n",
       "      <td>0.000000</td>\n",
       "    </tr>\n",
       "    <tr>\n",
       "      <th>14</th>\n",
       "      <td>0.000000</td>\n",
       "      <td>0.000000</td>\n",
       "      <td>0.040907</td>\n",
       "    </tr>\n",
       "    <tr>\n",
       "      <th>15</th>\n",
       "      <td>0.005549</td>\n",
       "      <td>0.000031</td>\n",
       "      <td>0.078436</td>\n",
       "    </tr>\n",
       "  </tbody>\n",
       "</table>\n",
       "</div>"
      ],
      "text/plain": [
       "            pop     pop^2         y\n",
       "index                              \n",
       "3      0.004390  0.000019  0.125256\n",
       "4      0.060607  0.003673  0.698837\n",
       "5      0.116527  0.013579  0.033215\n",
       "6      0.033198  0.001102  1.000000\n",
       "7      0.048673  0.002369  0.720227\n",
       "8      0.094147  0.008864  0.054134\n",
       "9      0.006187  0.000038  0.005949\n",
       "10     0.058798  0.003457  0.401205\n",
       "11     0.001122  0.000001  0.008505\n",
       "12     0.024748  0.000612  0.012872\n",
       "13     0.138786  0.019262  0.000000\n",
       "14     0.000000  0.000000  0.040907\n",
       "15     0.005549  0.000031  0.078436"
      ]
     },
     "execution_count": 138,
     "metadata": {},
     "output_type": "execute_result"
    }
   ],
   "source": [
    "df"
   ]
  },
  {
   "cell_type": "code",
   "execution_count": 139,
   "metadata": {},
   "outputs": [],
   "source": [
    "X_train , y_train = df[['pop','pop^2']] , df['y']"
   ]
  },
  {
   "cell_type": "code",
   "execution_count": 140,
   "metadata": {},
   "outputs": [
    {
     "data": {
      "text/plain": [
       "LinearRegression(copy_X=True, fit_intercept=True, n_jobs=None, normalize=False)"
      ]
     },
     "execution_count": 140,
     "metadata": {},
     "output_type": "execute_result"
    }
   ],
   "source": [
    "polynomial_reg = LinearRegression()\n",
    "polynomial_reg.fit(X_train,y_train)"
   ]
  },
  {
   "cell_type": "markdown",
   "metadata": {},
   "source": [
    "مقادیر خواسته شده:"
   ]
  },
  {
   "cell_type": "code",
   "execution_count": 145,
   "metadata": {},
   "outputs": [
    {
     "name": "stdout",
     "output_type": "stream",
     "text": [
      "\n",
      "a = -130.77526873620045\n",
      "b = 16.424190514819355\n",
      "c = 0.028958364957279575\n",
      "\n"
     ]
    }
   ],
   "source": [
    "print(f\"\"\"\n",
    "a = {polynomial_reg.coef_[1]}\n",
    "b = {polynomial_reg.coef_[0]}\n",
    "c = {polynomial_reg.intercept_}\n",
    "\"\"\")"
   ]
  },
  {
   "cell_type": "code",
   "execution_count": 146,
   "metadata": {},
   "outputs": [],
   "source": [
    "prediction_train = polynomial_reg.predict(X_train)"
   ]
  },
  {
   "cell_type": "code",
   "execution_count": 157,
   "metadata": {},
   "outputs": [
    {
     "data": {
      "text/plain": [
       "<matplotlib.legend.Legend at 0x7f748b65e320>"
      ]
     },
     "execution_count": 157,
     "metadata": {},
     "output_type": "execute_result"
    },
    {
     "data": {
      "image/png": "[encoded data removed]",
      "text/plain": [
       "<Figure size 432x288 with 1 Axes>"
      ]
     },
     "metadata": {
      "needs_background": "light"
     },
     "output_type": "display_data"
    }
   ],
   "source": [
    "sns.scatterplot(x=X_train['pop'],y=prediction_train)\n",
    "sns.scatterplot(x=X_train['pop'],y=y_train)\n",
    "plt.legend(labels=['predicted','actual'])"
   ]
  },
  {
   "cell_type": "code",
   "execution_count": 158,
   "metadata": {},
   "outputs": [
    {
     "data": {
      "text/plain": [
       "0.4796000604422766"
      ]
     },
     "execution_count": 158,
     "metadata": {},
     "output_type": "execute_result"
    }
   ],
   "source": [
    "polynomial_reg.score(X_train,y_train)"
   ]
  },
  {
   "cell_type": "markdown",
   "metadata": {},
   "source": [
    "برای یک ویژگی به تنهایی (جمعیت)\n",
    "r^2\n",
    "بدی نداریم ولی اصلا کافی نیست"
   ]
  },
  {
   "cell_type": "code",
   "execution_count": 1,
   "metadata": {},
   "outputs": [
    {
     "data": {
      "text/html": [
       "\n",
       "<style>\n",
       "div.text_cell_render{\n",
       "direction:rtl;\n",
       "}\n",
       "</style>\n"
      ],
      "text/plain": [
       "<IPython.core.display.HTML object>"
      ]
     },
     "execution_count": 1,
     "metadata": {},
     "output_type": "execute_result"
    }
   ],
   "source": []
  },
  {
   "cell_type": "code",
   "execution_count": null,
   "metadata": {},
   "outputs": [],
   "source": []
  }
 ],
 "metadata": {
  "kernelspec": {
   "display_name": "Python 3",
   "language": "python",
   "name": "python3"
  },
  "language_info": {
   "codemirror_mode": {
    "name": "ipython",
    "version": 3
   },
   "file_extension": ".py",
   "mimetype": "text/x-python",
   "name": "python",
   "nbconvert_exporter": "python",
   "pygments_lexer": "ipython3",
   "version": "3.8.0"
  }
 },
 "nbformat": 4,
 "nbformat_minor": 4
}
