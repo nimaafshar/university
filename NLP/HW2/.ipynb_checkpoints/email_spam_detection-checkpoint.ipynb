{
 "cells": [
  {
   "cell_type": "code",
   "execution_count": null,
   "metadata": {},
   "outputs": [],
   "source": []
  },
  {
   "cell_type": "code",
   "execution_count": 1,
   "metadata": {},
   "outputs": [
    {
     "name": "stdout",
     "output_type": "stream",
     "text": [
      "Defaulting to user installation because normal site-packages is not writeable\n",
      "Requirement already satisfied: hazm in /home/nima/.local/lib/python3.8/site-packages (0.7.0)\n",
      "Requirement already satisfied: nltk==3.3 in /home/nima/.local/lib/python3.8/site-packages (from hazm) (3.3)\n",
      "Requirement already satisfied: libwapiti>=0.2.1; platform_system != \"Windows\" in /home/nima/.local/lib/python3.8/site-packages (from hazm) (0.2.1)\n",
      "Requirement already satisfied: six in /usr/lib/python3/dist-packages (from nltk==3.3->hazm) (1.11.0)\n",
      "\u001b[33mWARNING: You are using pip version 20.2.4; however, version 20.3.1 is available.\n",
      "You should consider upgrading via the '/usr/bin/python3 -m pip install --upgrade pip' command.\u001b[0m\n"
     ]
    }
   ],
   "source": [
    "!pip install hazm"
   ]
  },
  {
   "cell_type": "code",
   "execution_count": 151,
   "metadata": {},
   "outputs": [
    {
     "name": "stdout",
     "output_type": "stream",
     "text": [
      "Cloning into 'persian-stopwords'...\n",
      "remote: Enumerating objects: 3, done.\u001b[K\n",
      "remote: Counting objects: 100% (3/3), done.\u001b[K\n",
      "remote: Compressing objects: 100% (3/3), done.\u001b[K\n",
      "remote: Total 43 (delta 0), reused 0 (delta 0), pack-reused 40\u001b[K\n",
      "Unpacking objects: 100% (43/43), done.\n"
     ]
    }
   ],
   "source": [
    "!git clone https://github.com/kharazi/persian-stopwords.git"
   ]
  },
  {
   "cell_type": "code",
   "execution_count": 4,
   "metadata": {},
   "outputs": [
    {
     "name": "stdout",
     "output_type": "stream",
     "text": [
      "Cloning into 'Spam-Filtering-For-Persian'...\n",
      "remote: Enumerating objects: 1018, done.\u001b[K\n",
      "remote: Total 1018 (delta 0), reused 0 (delta 0), pack-reused 1018\u001b[K\n",
      "Receiving objects: 100% (1018/1018), 1.13 MiB | 289.00 KiB/s, done.\n",
      "Resolving deltas: 100% (3/3), done.\n",
      "Checking out files: 100% (1006/1006), done.\n"
     ]
    }
   ],
   "source": [
    "! git clone https://github.com/omidrohanian/Spam-Filtering-For-Persian.git"
   ]
  },
  {
   "cell_type": "code",
   "execution_count": 1,
   "metadata": {},
   "outputs": [],
   "source": [
    "import numpy as np\n",
    "import pandas as pd\n",
    "import matplotlib.pyplot as plt\n",
    "import re\n",
    "import string\n",
    "from __future__ import unicode_literals\n",
    "import hazm\n",
    "import scipy.sparse\n",
    "from sklearn.metrics.pairwise import cosine_similarity\n",
    "from sklearn.metrics import classification_report"
   ]
  },
  {
   "cell_type": "code",
   "execution_count": 2,
   "metadata": {},
   "outputs": [],
   "source": [
    "import os\n",
    "def load_data(dir_name):\n",
    "    base_dir = f\"./Spam-Filtering-For-Persian/emails/{dir_name}/\"\n",
    "    data = []\n",
    "    dir_files = [name for name in os.listdir(base_dir) if os.path.isfile(base_dir+name)]\n",
    "    for i in range(len(dir_files)):\n",
    "        file_path = base_dir+f'{dir_name} ({str(i+1)}).txt'\n",
    "        with open(file_path,'r') as data_file:\n",
    "            data.append(data_file.read())\n",
    "    return data"
   ]
  },
  {
   "cell_type": "code",
   "execution_count": 3,
   "metadata": {},
   "outputs": [],
   "source": [
    "ham_train = load_data('hamtraining')\n",
    "ham_test = load_data('hamtesting')\n",
    "spam_train = load_data('spamtraining')\n",
    "spam_test = load_data('spamtesting')"
   ]
  },
  {
   "cell_type": "code",
   "execution_count": null,
   "metadata": {},
   "outputs": [],
   "source": []
  },
  {
   "cell_type": "code",
   "execution_count": 4,
   "metadata": {},
   "outputs": [],
   "source": [
    "# 0 means ham and 1 means spam\n",
    "X_train = ham_train + spam_train\n",
    "y_train = [0]*len(ham_train) + [1]*len(spam_train)\n",
    "X_test = ham_test+ spam_test\n",
    "y_test = [0]*len(ham_test) + [1]*len(spam_test)"
   ]
  },
  {
   "cell_type": "code",
   "execution_count": 5,
   "metadata": {},
   "outputs": [],
   "source": [
    "df_train = pd.DataFrame({'text':X_train,'spam':y_train})\n",
    "df_test = pd.DataFrame({'text':X_test,'spam':y_test})"
   ]
  },
  {
   "cell_type": "code",
   "execution_count": 6,
   "metadata": {},
   "outputs": [
    {
     "data": {
      "text/html": [
       "<div>\n",
       "<style scoped>\n",
       "    .dataframe tbody tr th:only-of-type {\n",
       "        vertical-align: middle;\n",
       "    }\n",
       "\n",
       "    .dataframe tbody tr th {\n",
       "        vertical-align: top;\n",
       "    }\n",
       "\n",
       "    .dataframe thead th {\n",
       "        text-align: right;\n",
       "    }\n",
       "</style>\n",
       "<table border=\"1\" class=\"dataframe\">\n",
       "  <thead>\n",
       "    <tr style=\"text-align: right;\">\n",
       "      <th></th>\n",
       "      <th>text</th>\n",
       "      <th>spam</th>\n",
       "    </tr>\n",
       "  </thead>\n",
       "  <tbody>\n",
       "    <tr>\n",
       "      <th>0</th>\n",
       "      <td>﻿&gt;&gt; &gt;&gt;&gt; &gt;&gt; &gt; On 11/11/13, Faramarz Dehgan &lt;far...</td>\n",
       "      <td>0</td>\n",
       "    </tr>\n",
       "    <tr>\n",
       "      <th>1</th>\n",
       "      <td>﻿مبارک باشه\\nآزمون دانشگاه آزاد امسال در بخش ز...</td>\n",
       "      <td>0</td>\n",
       "    </tr>\n",
       "    <tr>\n",
       "      <th>2</th>\n",
       "      <td>﻿با سلام به شما دوست عزیز\\nنمونه سوالات ازمون ...</td>\n",
       "      <td>0</td>\n",
       "    </tr>\n",
       "    <tr>\n",
       "      <th>3</th>\n",
       "      <td>﻿راستی در تایید این مطلب باید عرض کنم من در یک...</td>\n",
       "      <td>0</td>\n",
       "    </tr>\n",
       "    <tr>\n",
       "      <th>4</th>\n",
       "      <td>﻿سلام\\nدر خلال مطالعه این مقاله سوالات و نکات ...</td>\n",
       "      <td>0</td>\n",
       "    </tr>\n",
       "    <tr>\n",
       "      <th>...</th>\n",
       "      <td>...</td>\n",
       "      <td>...</td>\n",
       "    </tr>\n",
       "    <tr>\n",
       "      <th>595</th>\n",
       "      <td>﻿    صابون ريز مايع با چشم الكترونيكي\\n\\n﻿\\n\\n...</td>\n",
       "      <td>1</td>\n",
       "    </tr>\n",
       "    <tr>\n",
       "      <th>596</th>\n",
       "      <td>﻿    طراح کارت ویزیت\\n\\n\\n\\tطراح کارت ویزیت   ...</td>\n",
       "      <td>1</td>\n",
       "    </tr>\n",
       "    <tr>\n",
       "      <th>597</th>\n",
       "      <td>﻿   طراحي و چيدمان سفره عقد\\n\\n\\n\\t\\n\\n\\t\\n\\n\\...</td>\n",
       "      <td>1</td>\n",
       "    </tr>\n",
       "    <tr>\n",
       "      <th>598</th>\n",
       "      <td>﻿   طراحی وب سایت استاندارد منطبق بر نیاز های ...</td>\n",
       "      <td>1</td>\n",
       "    </tr>\n",
       "    <tr>\n",
       "      <th>599</th>\n",
       "      <td>﻿\\n\\n\\n    عرضه مموری کارتهای 2 ترابایتی با تو...</td>\n",
       "      <td>1</td>\n",
       "    </tr>\n",
       "  </tbody>\n",
       "</table>\n",
       "<p>600 rows × 2 columns</p>\n",
       "</div>"
      ],
      "text/plain": [
       "                                                  text  spam\n",
       "0    ﻿>> >>> >> > On 11/11/13, Faramarz Dehgan <far...     0\n",
       "1    ﻿مبارک باشه\\nآزمون دانشگاه آزاد امسال در بخش ز...     0\n",
       "2    ﻿با سلام به شما دوست عزیز\\nنمونه سوالات ازمون ...     0\n",
       "3    ﻿راستی در تایید این مطلب باید عرض کنم من در یک...     0\n",
       "4    ﻿سلام\\nدر خلال مطالعه این مقاله سوالات و نکات ...     0\n",
       "..                                                 ...   ...\n",
       "595  ﻿    صابون ريز مايع با چشم الكترونيكي\\n\\n﻿\\n\\n...     1\n",
       "596  ﻿    طراح کارت ویزیت\\n\\n\\n\\tطراح کارت ویزیت   ...     1\n",
       "597  ﻿   طراحي و چيدمان سفره عقد\\n\\n\\n\\t\\n\\n\\t\\n\\n\\...     1\n",
       "598  ﻿   طراحی وب سایت استاندارد منطبق بر نیاز های ...     1\n",
       "599  ﻿\\n\\n\\n    عرضه مموری کارتهای 2 ترابایتی با تو...     1\n",
       "\n",
       "[600 rows x 2 columns]"
      ]
     },
     "execution_count": 6,
     "metadata": {},
     "output_type": "execute_result"
    }
   ],
   "source": [
    "df_train"
   ]
  },
  {
   "cell_type": "code",
   "execution_count": 7,
   "metadata": {},
   "outputs": [
    {
     "data": {
      "text/html": [
       "<div>\n",
       "<style scoped>\n",
       "    .dataframe tbody tr th:only-of-type {\n",
       "        vertical-align: middle;\n",
       "    }\n",
       "\n",
       "    .dataframe tbody tr th {\n",
       "        vertical-align: top;\n",
       "    }\n",
       "\n",
       "    .dataframe thead th {\n",
       "        text-align: right;\n",
       "    }\n",
       "</style>\n",
       "<table border=\"1\" class=\"dataframe\">\n",
       "  <thead>\n",
       "    <tr style=\"text-align: right;\">\n",
       "      <th></th>\n",
       "      <th>text</th>\n",
       "      <th>spam</th>\n",
       "    </tr>\n",
       "  </thead>\n",
       "  <tbody>\n",
       "    <tr>\n",
       "      <th>0</th>\n",
       "      <td>﻿ممنون آقا سامان.\\nمن پارسال اصلا آزاد شرکت نک...</td>\n",
       "      <td>0</td>\n",
       "    </tr>\n",
       "    <tr>\n",
       "      <th>1</th>\n",
       "      <td>﻿دوست عزیز آقای سعیدی، کتاب حاضر را چندی پیش ب...</td>\n",
       "      <td>0</td>\n",
       "    </tr>\n",
       "    <tr>\n",
       "      <th>2</th>\n",
       "      <td>﻿سلام خیلی عالی بود ممکنه اگه مقاله دیگه ای از...</td>\n",
       "      <td>0</td>\n",
       "    </tr>\n",
       "    <tr>\n",
       "      <th>3</th>\n",
       "      <td>﻿سلام،\\nبسیار مقاله جالبی بود و من بسیار از آن...</td>\n",
       "      <td>0</td>\n",
       "    </tr>\n",
       "    <tr>\n",
       "      <th>4</th>\n",
       "      <td>﻿«به نام خدا»\\n\\nبسیار مقاله خوبی بود . دریچه ...</td>\n",
       "      <td>0</td>\n",
       "    </tr>\n",
       "    <tr>\n",
       "      <th>...</th>\n",
       "      <td>...</td>\n",
       "      <td>...</td>\n",
       "    </tr>\n",
       "    <tr>\n",
       "      <th>395</th>\n",
       "      <td>﻿\\n*ونوس گوشتخوار*\\n\\nونوس گوشتخوار\\n\\n\\n**\\n&lt;...</td>\n",
       "      <td>1</td>\n",
       "    </tr>\n",
       "    <tr>\n",
       "      <th>396</th>\n",
       "      <td>﻿\\n\\n    ويندوز 8 آمد !\\n\\n\\n\\t\\n\\n\\nپر فروش ت...</td>\n",
       "      <td>1</td>\n",
       "    </tr>\n",
       "    <tr>\n",
       "      <th>397</th>\n",
       "      <td>﻿\\n\\n\\tويندوز مخصوص كودكان   \\n\\n\\t\\n\\n\\t\\n\\t\\...</td>\n",
       "      <td>1</td>\n",
       "    </tr>\n",
       "    <tr>\n",
       "      <th>398</th>\n",
       "      <td>﻿\\n    يادش بخير قديما\\n   \\n*\\n\\nمجموعه 48 دا...</td>\n",
       "      <td>1</td>\n",
       "    </tr>\n",
       "    <tr>\n",
       "      <th>399</th>\n",
       "      <td>﻿\\n\\n    يك وسيله جالب...\\n   \\n\\n\\n\\t\\n\\n*خود...</td>\n",
       "      <td>1</td>\n",
       "    </tr>\n",
       "  </tbody>\n",
       "</table>\n",
       "<p>400 rows × 2 columns</p>\n",
       "</div>"
      ],
      "text/plain": [
       "                                                  text  spam\n",
       "0    ﻿ممنون آقا سامان.\\nمن پارسال اصلا آزاد شرکت نک...     0\n",
       "1    ﻿دوست عزیز آقای سعیدی، کتاب حاضر را چندی پیش ب...     0\n",
       "2    ﻿سلام خیلی عالی بود ممکنه اگه مقاله دیگه ای از...     0\n",
       "3    ﻿سلام،\\nبسیار مقاله جالبی بود و من بسیار از آن...     0\n",
       "4    ﻿«به نام خدا»\\n\\nبسیار مقاله خوبی بود . دریچه ...     0\n",
       "..                                                 ...   ...\n",
       "395  ﻿\\n*ونوس گوشتخوار*\\n\\nونوس گوشتخوار\\n\\n\\n**\\n<...     1\n",
       "396  ﻿\\n\\n    ويندوز 8 آمد !\\n\\n\\n\\t\\n\\n\\nپر فروش ت...     1\n",
       "397  ﻿\\n\\n\\tويندوز مخصوص كودكان   \\n\\n\\t\\n\\n\\t\\n\\t\\...     1\n",
       "398  ﻿\\n    يادش بخير قديما\\n   \\n*\\n\\nمجموعه 48 دا...     1\n",
       "399  ﻿\\n\\n    يك وسيله جالب...\\n   \\n\\n\\n\\t\\n\\n*خود...     1\n",
       "\n",
       "[400 rows x 2 columns]"
      ]
     },
     "execution_count": 7,
     "metadata": {},
     "output_type": "execute_result"
    }
   ],
   "source": [
    "df_test"
   ]
  },
  {
   "cell_type": "code",
   "execution_count": null,
   "metadata": {},
   "outputs": [],
   "source": []
  },
  {
   "cell_type": "code",
   "execution_count": 8,
   "metadata": {},
   "outputs": [],
   "source": [
    "with open('./persian-stopwords/nonverbal','r') as stopwords_file:\n",
    "    persian_stopwords = [word[:-1] for word in stopwords_file.readlines()]"
   ]
  },
  {
   "cell_type": "code",
   "execution_count": null,
   "metadata": {},
   "outputs": [],
   "source": []
  },
  {
   "cell_type": "code",
   "execution_count": null,
   "metadata": {},
   "outputs": [],
   "source": []
  },
  {
   "cell_type": "code",
   "execution_count": null,
   "metadata": {},
   "outputs": [],
   "source": []
  },
  {
   "cell_type": "code",
   "execution_count": 41,
   "metadata": {},
   "outputs": [],
   "source": [
    "class EmailProcessor:\n",
    "    def __init__(self,\n",
    "                 normalizer=hazm.Normalizer(),\n",
    "                 lemmatizer=hazm.Lemmatizer(),\n",
    "                 stopwords=[],\n",
    "                 tokenizer=hazm.word_tokenize,\n",
    "                 shitchars='۰۱۲۳۴۵۶۷۸۹…؟﷼'):\n",
    "        self.stopwords = stopwords\n",
    "        self.normalizer = normalizer\n",
    "        self.lemmatizer = lemmatizer\n",
    "        self.tokenizer = tokenizer\n",
    "        self.shitchars = shitchars\n",
    "        self.stopwords_regex = re.compile('|'.join(map(re.escape, stopwords)))\n",
    "    \n",
    "    def remove_unwanted_chars(self,text):\n",
    "        return ''.join(char if char not in string.printable and char not in self.shitchars else ' ' for char in text)\n",
    "    \n",
    "    def remove_stopwords(self,words):\n",
    "        cleaned = []\n",
    "        for word in words:\n",
    "            if word not in self.stopwords:\n",
    "                cleaned.append(word)\n",
    "        return cleaned\n",
    "    def lemmatize(self,words):\n",
    "        result =[self.lemmatizer.lemmatize(word) for word in words]\n",
    "        for i,lema in enumerate(result):\n",
    "            index = lema.find('#')\n",
    "            if index !=-1:\n",
    "                result[i] = lema[index+1:]\n",
    "        return result\n",
    "    \n",
    "    def process(self,text):\n",
    "        text = self.normalizer.normalize(text)\n",
    "        text = self.remove_unwanted_chars(text)\n",
    "        words = self.tokenizer(text)\n",
    "        words = self.remove_stopwords(words)\n",
    "        words = self.lemmatize(words)\n",
    "        return ' '.join(words)\n",
    "    \n",
    "    @staticmethod\n",
    "    def urls_count(text):\n",
    "        urls = re.findall('https?://(?:[-\\w.]|(?:%[\\da-fA-F]{2}))+', text)\n",
    "        return len(urls)"
   ]
  },
  {
   "cell_type": "code",
   "execution_count": 40,
   "metadata": {},
   "outputs": [],
   "source": [
    "from sklearn.feature_extraction.text import CountVectorizer,TfidfVectorizer"
   ]
  },
  {
   "cell_type": "code",
   "execution_count": 11,
   "metadata": {},
   "outputs": [],
   "source": [
    "email_processor = EmailProcessor(stopwords=persian_stopwords)"
   ]
  },
  {
   "cell_type": "code",
   "execution_count": 12,
   "metadata": {},
   "outputs": [],
   "source": [
    "count_vectorizer = CountVectorizer(preprocessor=email_processor.process,min_df=0.1,max_df=0.9)"
   ]
  },
  {
   "cell_type": "code",
   "execution_count": 13,
   "metadata": {},
   "outputs": [],
   "source": [
    "train_vec = count_vectorizer.fit_transform(df_train['text'])\n",
    "test_vec = count_vectorizer.transform(df_test['text'])"
   ]
  },
  {
   "cell_type": "code",
   "execution_count": 14,
   "metadata": {},
   "outputs": [],
   "source": [
    "df_test['url_count'] = df_test['text'].apply(EmailProcessor.urls_count)\n",
    "df_train['url_count'] = df_train['text'].apply(EmailProcessor.urls_count)"
   ]
  },
  {
   "cell_type": "code",
   "execution_count": 15,
   "metadata": {},
   "outputs": [
    {
     "data": {
      "text/html": [
       "<div>\n",
       "<style scoped>\n",
       "    .dataframe tbody tr th:only-of-type {\n",
       "        vertical-align: middle;\n",
       "    }\n",
       "\n",
       "    .dataframe tbody tr th {\n",
       "        vertical-align: top;\n",
       "    }\n",
       "\n",
       "    .dataframe thead th {\n",
       "        text-align: right;\n",
       "    }\n",
       "</style>\n",
       "<table border=\"1\" class=\"dataframe\">\n",
       "  <thead>\n",
       "    <tr style=\"text-align: right;\">\n",
       "      <th></th>\n",
       "      <th>text</th>\n",
       "      <th>spam</th>\n",
       "      <th>url_count</th>\n",
       "    </tr>\n",
       "  </thead>\n",
       "  <tbody>\n",
       "    <tr>\n",
       "      <th>0</th>\n",
       "      <td>﻿&gt;&gt; &gt;&gt;&gt; &gt;&gt; &gt; On 11/11/13, Faramarz Dehgan &lt;far...</td>\n",
       "      <td>0</td>\n",
       "      <td>0</td>\n",
       "    </tr>\n",
       "    <tr>\n",
       "      <th>1</th>\n",
       "      <td>﻿مبارک باشه\\nآزمون دانشگاه آزاد امسال در بخش ز...</td>\n",
       "      <td>0</td>\n",
       "      <td>0</td>\n",
       "    </tr>\n",
       "    <tr>\n",
       "      <th>2</th>\n",
       "      <td>﻿با سلام به شما دوست عزیز\\nنمونه سوالات ازمون ...</td>\n",
       "      <td>0</td>\n",
       "      <td>0</td>\n",
       "    </tr>\n",
       "    <tr>\n",
       "      <th>3</th>\n",
       "      <td>﻿راستی در تایید این مطلب باید عرض کنم من در یک...</td>\n",
       "      <td>0</td>\n",
       "      <td>0</td>\n",
       "    </tr>\n",
       "    <tr>\n",
       "      <th>4</th>\n",
       "      <td>﻿سلام\\nدر خلال مطالعه این مقاله سوالات و نکات ...</td>\n",
       "      <td>0</td>\n",
       "      <td>0</td>\n",
       "    </tr>\n",
       "    <tr>\n",
       "      <th>...</th>\n",
       "      <td>...</td>\n",
       "      <td>...</td>\n",
       "      <td>...</td>\n",
       "    </tr>\n",
       "    <tr>\n",
       "      <th>595</th>\n",
       "      <td>﻿    صابون ريز مايع با چشم الكترونيكي\\n\\n﻿\\n\\n...</td>\n",
       "      <td>1</td>\n",
       "      <td>8</td>\n",
       "    </tr>\n",
       "    <tr>\n",
       "      <th>596</th>\n",
       "      <td>﻿    طراح کارت ویزیت\\n\\n\\n\\tطراح کارت ویزیت   ...</td>\n",
       "      <td>1</td>\n",
       "      <td>8</td>\n",
       "    </tr>\n",
       "    <tr>\n",
       "      <th>597</th>\n",
       "      <td>﻿   طراحي و چيدمان سفره عقد\\n\\n\\n\\t\\n\\n\\t\\n\\n\\...</td>\n",
       "      <td>1</td>\n",
       "      <td>5</td>\n",
       "    </tr>\n",
       "    <tr>\n",
       "      <th>598</th>\n",
       "      <td>﻿   طراحی وب سایت استاندارد منطبق بر نیاز های ...</td>\n",
       "      <td>1</td>\n",
       "      <td>13</td>\n",
       "    </tr>\n",
       "    <tr>\n",
       "      <th>599</th>\n",
       "      <td>﻿\\n\\n\\n    عرضه مموری کارتهای 2 ترابایتی با تو...</td>\n",
       "      <td>1</td>\n",
       "      <td>2</td>\n",
       "    </tr>\n",
       "  </tbody>\n",
       "</table>\n",
       "<p>600 rows × 3 columns</p>\n",
       "</div>"
      ],
      "text/plain": [
       "                                                  text  spam  url_count\n",
       "0    ﻿>> >>> >> > On 11/11/13, Faramarz Dehgan <far...     0          0\n",
       "1    ﻿مبارک باشه\\nآزمون دانشگاه آزاد امسال در بخش ز...     0          0\n",
       "2    ﻿با سلام به شما دوست عزیز\\nنمونه سوالات ازمون ...     0          0\n",
       "3    ﻿راستی در تایید این مطلب باید عرض کنم من در یک...     0          0\n",
       "4    ﻿سلام\\nدر خلال مطالعه این مقاله سوالات و نکات ...     0          0\n",
       "..                                                 ...   ...        ...\n",
       "595  ﻿    صابون ريز مايع با چشم الكترونيكي\\n\\n﻿\\n\\n...     1          8\n",
       "596  ﻿    طراح کارت ویزیت\\n\\n\\n\\tطراح کارت ویزیت   ...     1          8\n",
       "597  ﻿   طراحي و چيدمان سفره عقد\\n\\n\\n\\t\\n\\n\\t\\n\\n\\...     1          5\n",
       "598  ﻿   طراحی وب سایت استاندارد منطبق بر نیاز های ...     1         13\n",
       "599  ﻿\\n\\n\\n    عرضه مموری کارتهای 2 ترابایتی با تو...     1          2\n",
       "\n",
       "[600 rows x 3 columns]"
      ]
     },
     "execution_count": 15,
     "metadata": {},
     "output_type": "execute_result"
    }
   ],
   "source": [
    "df_train"
   ]
  },
  {
   "cell_type": "code",
   "execution_count": 16,
   "metadata": {},
   "outputs": [
    {
     "data": {
      "text/html": [
       "<div>\n",
       "<style scoped>\n",
       "    .dataframe tbody tr th:only-of-type {\n",
       "        vertical-align: middle;\n",
       "    }\n",
       "\n",
       "    .dataframe tbody tr th {\n",
       "        vertical-align: top;\n",
       "    }\n",
       "\n",
       "    .dataframe thead th {\n",
       "        text-align: right;\n",
       "    }\n",
       "</style>\n",
       "<table border=\"1\" class=\"dataframe\">\n",
       "  <thead>\n",
       "    <tr style=\"text-align: right;\">\n",
       "      <th></th>\n",
       "      <th>text</th>\n",
       "      <th>spam</th>\n",
       "      <th>url_count</th>\n",
       "    </tr>\n",
       "  </thead>\n",
       "  <tbody>\n",
       "    <tr>\n",
       "      <th>0</th>\n",
       "      <td>﻿ممنون آقا سامان.\\nمن پارسال اصلا آزاد شرکت نک...</td>\n",
       "      <td>0</td>\n",
       "      <td>0</td>\n",
       "    </tr>\n",
       "    <tr>\n",
       "      <th>1</th>\n",
       "      <td>﻿دوست عزیز آقای سعیدی، کتاب حاضر را چندی پیش ب...</td>\n",
       "      <td>0</td>\n",
       "      <td>0</td>\n",
       "    </tr>\n",
       "    <tr>\n",
       "      <th>2</th>\n",
       "      <td>﻿سلام خیلی عالی بود ممکنه اگه مقاله دیگه ای از...</td>\n",
       "      <td>0</td>\n",
       "      <td>0</td>\n",
       "    </tr>\n",
       "    <tr>\n",
       "      <th>3</th>\n",
       "      <td>﻿سلام،\\nبسیار مقاله جالبی بود و من بسیار از آن...</td>\n",
       "      <td>0</td>\n",
       "      <td>0</td>\n",
       "    </tr>\n",
       "    <tr>\n",
       "      <th>4</th>\n",
       "      <td>﻿«به نام خدا»\\n\\nبسیار مقاله خوبی بود . دریچه ...</td>\n",
       "      <td>0</td>\n",
       "      <td>0</td>\n",
       "    </tr>\n",
       "    <tr>\n",
       "      <th>...</th>\n",
       "      <td>...</td>\n",
       "      <td>...</td>\n",
       "      <td>...</td>\n",
       "    </tr>\n",
       "    <tr>\n",
       "      <th>395</th>\n",
       "      <td>﻿\\n*ونوس گوشتخوار*\\n\\nونوس گوشتخوار\\n\\n\\n**\\n&lt;...</td>\n",
       "      <td>1</td>\n",
       "      <td>4</td>\n",
       "    </tr>\n",
       "    <tr>\n",
       "      <th>396</th>\n",
       "      <td>﻿\\n\\n    ويندوز 8 آمد !\\n\\n\\n\\t\\n\\n\\nپر فروش ت...</td>\n",
       "      <td>1</td>\n",
       "      <td>8</td>\n",
       "    </tr>\n",
       "    <tr>\n",
       "      <th>397</th>\n",
       "      <td>﻿\\n\\n\\tويندوز مخصوص كودكان   \\n\\n\\t\\n\\n\\t\\n\\t\\...</td>\n",
       "      <td>1</td>\n",
       "      <td>7</td>\n",
       "    </tr>\n",
       "    <tr>\n",
       "      <th>398</th>\n",
       "      <td>﻿\\n    يادش بخير قديما\\n   \\n*\\n\\nمجموعه 48 دا...</td>\n",
       "      <td>1</td>\n",
       "      <td>1</td>\n",
       "    </tr>\n",
       "    <tr>\n",
       "      <th>399</th>\n",
       "      <td>﻿\\n\\n    يك وسيله جالب...\\n   \\n\\n\\n\\t\\n\\n*خود...</td>\n",
       "      <td>1</td>\n",
       "      <td>8</td>\n",
       "    </tr>\n",
       "  </tbody>\n",
       "</table>\n",
       "<p>400 rows × 3 columns</p>\n",
       "</div>"
      ],
      "text/plain": [
       "                                                  text  spam  url_count\n",
       "0    ﻿ممنون آقا سامان.\\nمن پارسال اصلا آزاد شرکت نک...     0          0\n",
       "1    ﻿دوست عزیز آقای سعیدی، کتاب حاضر را چندی پیش ب...     0          0\n",
       "2    ﻿سلام خیلی عالی بود ممکنه اگه مقاله دیگه ای از...     0          0\n",
       "3    ﻿سلام،\\nبسیار مقاله جالبی بود و من بسیار از آن...     0          0\n",
       "4    ﻿«به نام خدا»\\n\\nبسیار مقاله خوبی بود . دریچه ...     0          0\n",
       "..                                                 ...   ...        ...\n",
       "395  ﻿\\n*ونوس گوشتخوار*\\n\\nونوس گوشتخوار\\n\\n\\n**\\n<...     1          4\n",
       "396  ﻿\\n\\n    ويندوز 8 آمد !\\n\\n\\n\\t\\n\\n\\nپر فروش ت...     1          8\n",
       "397  ﻿\\n\\n\\tويندوز مخصوص كودكان   \\n\\n\\t\\n\\n\\t\\n\\t\\...     1          7\n",
       "398  ﻿\\n    يادش بخير قديما\\n   \\n*\\n\\nمجموعه 48 دا...     1          1\n",
       "399  ﻿\\n\\n    يك وسيله جالب...\\n   \\n\\n\\n\\t\\n\\n*خود...     1          8\n",
       "\n",
       "[400 rows x 3 columns]"
      ]
     },
     "execution_count": 16,
     "metadata": {},
     "output_type": "execute_result"
    }
   ],
   "source": [
    "df_test"
   ]
  },
  {
   "cell_type": "code",
   "execution_count": 95,
   "metadata": {},
   "outputs": [],
   "source": [
    "class KNNEmailClassifier:\n",
    "    \n",
    "    def __init__(self,k=5,similarity=cosine_similarity):\n",
    "        self.k = k\n",
    "        self.similarity = similarity\n",
    "        \n",
    "    def fit(self,X,y):\n",
    "        self.x_train = X.values if isinstance(X,pd.DataFrame) else X\n",
    "        self.y_train = y.values if isinstance(X,pd.core.series.Series) else y\n",
    "    \n",
    "        \n",
    "    def predict(self,X):\n",
    "        x_predict = X.values if isinstance(X,pd.DataFrame) else X\n",
    "        assert x_predict.shape[1:] == self.x_train.shape[1:]\n",
    "        X_total = scipy.sparse.vstack((self.x_train,x_predict))\n",
    "        sim_matrix = self.similarity(X_total)[self.x_train.shape[0]:,:self.x_train.shape[0]]\n",
    "        indices = np.argsort(sim_matrix,axis=1)[:,-self.k:]\n",
    "        votes = np.take(self.y_train,indices)\n",
    "        return np.array(votes.mean(axis=1) > 0.5,dtype=np.int32)"
   ]
  },
  {
   "cell_type": "markdown",
   "metadata": {},
   "source": [
    "## Training KNN with only text data"
   ]
  },
  {
   "cell_type": "code",
   "execution_count": 96,
   "metadata": {},
   "outputs": [],
   "source": [
    "ks = [1,3,5,10,15,20,50,100]"
   ]
  },
  {
   "cell_type": "code",
   "execution_count": 138,
   "metadata": {},
   "outputs": [
    {
     "name": "stdout",
     "output_type": "stream",
     "text": [
      "cosine similarity,k=1\n",
      "              precision    recall  f1-score   support\n",
      "\n",
      "           0       0.86      0.96      0.91       200\n",
      "           1       0.96      0.85      0.90       200\n",
      "\n",
      "    accuracy                           0.91       400\n",
      "   macro avg       0.91      0.91      0.90       400\n",
      "weighted avg       0.91      0.91      0.90       400\n",
      "\n",
      "cosine similarity,k=3\n",
      "              precision    recall  f1-score   support\n",
      "\n",
      "           0       0.86      0.96      0.91       200\n",
      "           1       0.96      0.85      0.90       200\n",
      "\n",
      "    accuracy                           0.91       400\n",
      "   macro avg       0.91      0.91      0.90       400\n",
      "weighted avg       0.91      0.91      0.90       400\n",
      "\n",
      "cosine similarity,k=5\n",
      "              precision    recall  f1-score   support\n",
      "\n",
      "           0       0.86      0.96      0.91       200\n",
      "           1       0.96      0.85      0.90       200\n",
      "\n",
      "    accuracy                           0.91       400\n",
      "   macro avg       0.91      0.91      0.90       400\n",
      "weighted avg       0.91      0.91      0.90       400\n",
      "\n",
      "cosine similarity,k=10\n",
      "              precision    recall  f1-score   support\n",
      "\n",
      "           0       0.86      0.96      0.91       200\n",
      "           1       0.96      0.85      0.90       200\n",
      "\n",
      "    accuracy                           0.91       400\n",
      "   macro avg       0.91      0.91      0.90       400\n",
      "weighted avg       0.91      0.91      0.90       400\n",
      "\n",
      "cosine similarity,k=15\n",
      "              precision    recall  f1-score   support\n",
      "\n",
      "           0       0.86      0.96      0.91       200\n",
      "           1       0.96      0.85      0.90       200\n",
      "\n",
      "    accuracy                           0.91       400\n",
      "   macro avg       0.91      0.91      0.90       400\n",
      "weighted avg       0.91      0.91      0.90       400\n",
      "\n",
      "cosine similarity,k=20\n",
      "              precision    recall  f1-score   support\n",
      "\n",
      "           0       0.86      0.96      0.91       200\n",
      "           1       0.96      0.85      0.90       200\n",
      "\n",
      "    accuracy                           0.91       400\n",
      "   macro avg       0.91      0.91      0.90       400\n",
      "weighted avg       0.91      0.91      0.90       400\n",
      "\n",
      "cosine similarity,k=50\n",
      "              precision    recall  f1-score   support\n",
      "\n",
      "           0       0.86      0.96      0.91       200\n",
      "           1       0.96      0.85      0.90       200\n",
      "\n",
      "    accuracy                           0.91       400\n",
      "   macro avg       0.91      0.91      0.90       400\n",
      "weighted avg       0.91      0.91      0.90       400\n",
      "\n",
      "cosine similarity,k=100\n",
      "              precision    recall  f1-score   support\n",
      "\n",
      "           0       0.86      0.96      0.91       200\n",
      "           1       0.96      0.85      0.90       200\n",
      "\n",
      "    accuracy                           0.91       400\n",
      "   macro avg       0.91      0.91      0.90       400\n",
      "weighted avg       0.91      0.91      0.90       400\n",
      "\n"
     ]
    }
   ],
   "source": [
    "for k in ks:\n",
    "    cls = KNNEmailClassifier(k=10)\n",
    "    cls.fit(train_vec,df_train['spam'].values)\n",
    "    y_pred = cls.predict(test_vec)\n",
    "    print(f'cosine similarity,k={k}')\n",
    "    print(classification_report(y_test,y_pred))"
   ]
  },
  {
   "cell_type": "markdown",
   "metadata": {},
   "source": [
    "### evaluation\n",
    "cause we have balanced classes in test, bot macro and micro f1-score works and we got 0.91 f1-score without using any additional feature wich is good news. but wierdly enough for all ks we have similar claffication metrics maybe this is because of small train and test datas."
   ]
  },
  {
   "cell_type": "markdown",
   "metadata": {},
   "source": [
    "## Training KNN adding urls count to text features\n",
    "### adding urls count to feature vectors"
   ]
  },
  {
   "cell_type": "code",
   "execution_count": 98,
   "metadata": {},
   "outputs": [],
   "source": [
    "train_urls_count = df_train['url_count'].values\n",
    "test_urls_count = df_test['url_count'].values\n",
    "second_train_vec = scipy.sparse.hstack((train_vec,train_urls_count.reshape(-1,1)))\n",
    "second_test_vec = scipy.sparse.hstack((test_vec,test_urls_count.reshape(-1,1)))"
   ]
  },
  {
   "cell_type": "markdown",
   "metadata": {},
   "source": [
    "### training"
   ]
  },
  {
   "cell_type": "code",
   "execution_count": 99,
   "metadata": {},
   "outputs": [],
   "source": [
    "cls = KNNEmailClassifier()\n",
    "cls.fit(second_train_vec,df_train['spam'].values)"
   ]
  },
  {
   "cell_type": "markdown",
   "metadata": {},
   "source": [
    "### evaluation"
   ]
  },
  {
   "cell_type": "code",
   "execution_count": 100,
   "metadata": {},
   "outputs": [
    {
     "name": "stdout",
     "output_type": "stream",
     "text": [
      "              precision    recall  f1-score   support\n",
      "\n",
      "           0       0.93      0.95      0.94       200\n",
      "           1       0.95      0.93      0.94       200\n",
      "\n",
      "    accuracy                           0.94       400\n",
      "   macro avg       0.94      0.94      0.94       400\n",
      "weighted avg       0.94      0.94      0.94       400\n",
      "\n"
     ]
    }
   ],
   "source": [
    "y_pred = cls.predict(second_test_vec)\n",
    "print(classification_report(y_test,y_pred))"
   ]
  },
  {
   "cell_type": "markdown",
   "metadata": {},
   "source": [
    "f1-score improved from 0.91 to 0.94! which means `url_count` is an important feature"
   ]
  },
  {
   "cell_type": "markdown",
   "metadata": {},
   "source": [
    "## Training KNN with tf-idf similarity"
   ]
  },
  {
   "cell_type": "markdown",
   "metadata": {},
   "source": [
    "### defining tf-idf similarity function"
   ]
  },
  {
   "cell_type": "code",
   "execution_count": 101,
   "metadata": {},
   "outputs": [],
   "source": [
    "def tf_idf_similarity_pairwise(M):\n",
    "    \"\"\"\n",
    "    M is the vstacked (train+predict) features matrix\n",
    "    \"\"\"\n",
    "    M = M.toarray()\n",
    "    documents_count = M.shape[0]\n",
    "    features_count = M.shape[1]\n",
    "    occupation = (M > 0)\n",
    "    IDF = (M!=0).sum(axis=0)\n",
    "    IDF = np.log(documents_count / (IDF + 1))#applying the fromula\n",
    "    TF = np.zeros((documents_count,documents_count,features_count))\n",
    "    for i in range(documents_count):\n",
    "        for j in range(documents_count):\n",
    "            #count for words of document i available in document j\n",
    "            TF[i,j] = M[j,:]*occupation[i,:]\n",
    "    TF = np.log(TF + 1) +1 #applying the fromula\n",
    "    return np.inner(TF,IDF)"
   ]
  },
  {
   "cell_type": "code",
   "execution_count": 135,
   "metadata": {},
   "outputs": [],
   "source": []
  },
  {
   "cell_type": "code",
   "execution_count": 137,
   "metadata": {},
   "outputs": [
    {
     "name": "stdout",
     "output_type": "stream",
     "text": [
      "tf-idf similarity,k=1\n",
      "              precision    recall  f1-score   support\n",
      "\n",
      "           0       0.91      0.24      0.39       200\n",
      "           1       0.56      0.97      0.71       200\n",
      "\n",
      "    accuracy                           0.61       400\n",
      "   macro avg       0.74      0.61      0.55       400\n",
      "weighted avg       0.74      0.61      0.55       400\n",
      "\n",
      "tf-idf similarity,k=3\n",
      "              precision    recall  f1-score   support\n",
      "\n",
      "           0       0.89      0.20      0.33       200\n",
      "           1       0.55      0.97      0.70       200\n",
      "\n",
      "    accuracy                           0.59       400\n",
      "   macro avg       0.72      0.59      0.51       400\n",
      "weighted avg       0.72      0.59      0.51       400\n",
      "\n",
      "tf-idf similarity,k=5\n",
      "              precision    recall  f1-score   support\n",
      "\n",
      "           0       0.89      0.17      0.28       200\n",
      "           1       0.54      0.98      0.70       200\n",
      "\n",
      "    accuracy                           0.57       400\n",
      "   macro avg       0.72      0.57      0.49       400\n",
      "weighted avg       0.72      0.57      0.49       400\n",
      "\n",
      "tf-idf similarity,k=10\n",
      "              precision    recall  f1-score   support\n",
      "\n",
      "           0       0.93      0.27      0.41       200\n",
      "           1       0.57      0.98      0.72       200\n",
      "\n",
      "    accuracy                           0.62       400\n",
      "   macro avg       0.75      0.62      0.57       400\n",
      "weighted avg       0.75      0.62      0.57       400\n",
      "\n",
      "tf-idf similarity,k=15\n",
      "              precision    recall  f1-score   support\n",
      "\n",
      "           0       0.95      0.20      0.32       200\n",
      "           1       0.55      0.99      0.71       200\n",
      "\n",
      "    accuracy                           0.59       400\n",
      "   macro avg       0.75      0.59      0.52       400\n",
      "weighted avg       0.75      0.59      0.52       400\n",
      "\n",
      "tf-idf similarity,k=20\n",
      "              precision    recall  f1-score   support\n",
      "\n",
      "           0       0.96      0.24      0.39       200\n",
      "           1       0.57      0.99      0.72       200\n",
      "\n",
      "    accuracy                           0.62       400\n",
      "   macro avg       0.76      0.62      0.56       400\n",
      "weighted avg       0.76      0.62      0.56       400\n",
      "\n",
      "tf-idf similarity,k=50\n",
      "              precision    recall  f1-score   support\n",
      "\n",
      "           0       0.97      0.18      0.31       200\n",
      "           1       0.55      0.99      0.71       200\n",
      "\n",
      "    accuracy                           0.59       400\n",
      "   macro avg       0.76      0.59      0.51       400\n",
      "weighted avg       0.76      0.59      0.51       400\n",
      "\n",
      "tf-idf similarity,k=100\n",
      "              precision    recall  f1-score   support\n",
      "\n",
      "           0       0.92      0.12      0.21       200\n",
      "           1       0.53      0.99      0.69       200\n",
      "\n",
      "    accuracy                           0.56       400\n",
      "   macro avg       0.73      0.55      0.45       400\n",
      "weighted avg       0.73      0.56      0.45       400\n",
      "\n"
     ]
    }
   ],
   "source": [
    "for k in ks:\n",
    "    cls = KNNEmailClassifier(k=k,similarity=tf_idf_similarity_pairwise)\n",
    "    cls.fit(train_vec,df_train['spam'].values)\n",
    "    y_pred = cls.predict(test_vec)\n",
    "    print(f'tf-idf similarity,k={k}')\n",
    "    print(classification_report(y_test,y_pred))"
   ]
  },
  {
   "cell_type": "markdown",
   "metadata": {},
   "source": [
    "with `k=10` and `k=20` we have best overall f1-score\n",
    "\n",
    "but as you see `tf-idf` similarity is not as efficient for our problem as cosine similary, thus for the rest of the notebook we gonna use consine similarity in out `KNN` models"
   ]
  },
  {
   "cell_type": "markdown",
   "metadata": {},
   "source": [
    "## Detecting Most important words with $X^2$\n",
    "in the previous section we eliminated our features vocabulary with minimum and maximum document frequency options in `CountVectorizer` but this time we want to eliminate them using $X^2$"
   ]
  },
  {
   "cell_type": "code",
   "execution_count": 140,
   "metadata": {},
   "outputs": [],
   "source": [
    "count_vectorizer = CountVectorizer(preprocessor=email_processor.process)\n",
    "complete_vocabulary = count_vectorizer.fit_transform(df_train['text'])\n",
    "complete_vocabulary_test = count_vectorizer.transform(df_test['text'])"
   ]
  },
  {
   "cell_type": "code",
   "execution_count": 116,
   "metadata": {},
   "outputs": [
    {
     "data": {
      "text/plain": [
       "(600, 10969)"
      ]
     },
     "execution_count": 116,
     "metadata": {},
     "output_type": "execute_result"
    }
   ],
   "source": [
    "complete_vocabulary.shape"
   ]
  },
  {
   "cell_type": "markdown",
   "metadata": {},
   "source": [
    "we see that there are over 10,000 features so wee need to eliminate them using chi-squared"
   ]
  },
  {
   "cell_type": "code",
   "execution_count": 121,
   "metadata": {},
   "outputs": [],
   "source": [
    "from sklearn.feature_selection import chi2,SelectKBest\n",
    "import seaborn as sns"
   ]
  },
  {
   "cell_type": "code",
   "execution_count": 118,
   "metadata": {},
   "outputs": [],
   "source": [
    "chi2,p_values = chi2(complete_vocabulary,df_train['spam'].values)\n",
    "p_values.sort()\n",
    "p_values_series = pd.Series(p_values)"
   ]
  },
  {
   "cell_type": "markdown",
   "metadata": {},
   "source": [
    "### chi-square plots\n",
    "1. distribution plot\n",
    "2. values scatter plot"
   ]
  },
  {
   "cell_type": "code",
   "execution_count": 129,
   "metadata": {},
   "outputs": [
    {
     "data": {
      "text/plain": [
       "<seaborn.axisgrid.FacetGrid at 0x7fa306bee280>"
      ]
     },
     "execution_count": 129,
     "metadata": {},
     "output_type": "execute_result"
    },
    {
     "data": {
      "image/png": "[encoded data removed]",
      "text/plain": [
       "<Figure size 360x360 with 1 Axes>"
      ]
     },
     "metadata": {
      "needs_background": "light"
     },
     "output_type": "display_data"
    }
   ],
   "source": [
    "sns.displot(p_values)"
   ]
  },
  {
   "cell_type": "code",
   "execution_count": 130,
   "metadata": {},
   "outputs": [
    {
     "data": {
      "text/plain": [
       "<AxesSubplot:>"
      ]
     },
     "execution_count": 130,
     "metadata": {},
     "output_type": "execute_result"
    },
    {
     "data": {
      "image/png": "[encoded data removed]",
      "text/plain": [
       "<Figure size 432x288 with 1 Axes>"
      ]
     },
     "metadata": {
      "needs_background": "light"
     },
     "output_type": "display_data"
    }
   ],
   "source": [
    "p_values_series.plot()"
   ]
  },
  {
   "cell_type": "markdown",
   "metadata": {},
   "source": [
    "it seems like about 500 features have enough p-values to be in the final features"
   ]
  },
  {
   "cell_type": "code",
   "execution_count": 163,
   "metadata": {},
   "outputs": [],
   "source": [
    "select_k_best = SelectKBest(chi2,k=500)\n",
    "train_vec_new = select_k_best.fit_transform(complete_vocabulary,df_train['spam'].values)\n",
    "test_vec_new = select_k_best.transform(complete_vocabulary_test)"
   ]
  },
  {
   "cell_type": "markdown",
   "metadata": {},
   "source": [
    "### training with new set of features\n",
    "training with both `tf-idf` and `cosine` similarity functions"
   ]
  },
  {
   "cell_type": "code",
   "execution_count": 165,
   "metadata": {},
   "outputs": [],
   "source": [
    "cls = KNNEmailClassifier(k=10,similarity=tf_idf_similarity_pairwise)\n",
    "cls.fit(train_vec_new,df_train['spam'].values)\n",
    "cls_cosine = KNNEmailClassifier(k=10)\n",
    "cls_cosine.fit(train_vec_new,df_train['spam'].values)"
   ]
  },
  {
   "cell_type": "markdown",
   "metadata": {},
   "source": [
    "### evaluation\n",
    "**for tf-idf similarity:**"
   ]
  },
  {
   "cell_type": "code",
   "execution_count": 149,
   "metadata": {},
   "outputs": [
    {
     "name": "stdout",
     "output_type": "stream",
     "text": [
      "              precision    recall  f1-score   support\n",
      "\n",
      "           0       0.99      0.35      0.52       200\n",
      "           1       0.60      0.99      0.75       200\n",
      "\n",
      "    accuracy                           0.67       400\n",
      "   macro avg       0.80      0.67      0.63       400\n",
      "weighted avg       0.80      0.67      0.63       400\n",
      "\n"
     ]
    }
   ],
   "source": [
    "y_pred = cls.predict(test_vec_new)\n",
    "print(classification_report(y_test,y_pred))"
   ]
  },
  {
   "cell_type": "markdown",
   "metadata": {},
   "source": [
    "it improved tf-idf similarity classifier's tf-idf score from 0.62 to 67!\n",
    "\n",
    "**for cosine similarity**:"
   ]
  },
  {
   "cell_type": "code",
   "execution_count": 166,
   "metadata": {},
   "outputs": [
    {
     "name": "stdout",
     "output_type": "stream",
     "text": [
      "              precision    recall  f1-score   support\n",
      "\n",
      "           0       0.86      0.98      0.91       200\n",
      "           1       0.98      0.83      0.90       200\n",
      "\n",
      "    accuracy                           0.91       400\n",
      "   macro avg       0.92      0.91      0.91       400\n",
      "weighted avg       0.92      0.91      0.91       400\n",
      "\n"
     ]
    }
   ],
   "source": [
    "y_pred = cls_cosine.predict(test_vec_new)\n",
    "print(classification_report(df_test['spam'],y_pred))"
   ]
  },
  {
   "cell_type": "markdown",
   "metadata": {},
   "source": [
    "it didn't improve KNN with cosine similarity"
   ]
  },
  {
   "cell_type": "markdown",
   "metadata": {},
   "source": [
    "# Implementing naive bayes"
   ]
  },
  {
   "cell_type": "code",
   "execution_count": null,
   "metadata": {},
   "outputs": [],
   "source": []
  },
  {
   "cell_type": "code",
   "execution_count": null,
   "metadata": {},
   "outputs": [],
   "source": []
  }
 ],
 "metadata": {
  "kernelspec": {
   "display_name": "Python 3",
   "language": "python",
   "name": "python3"
  },
  "language_info": {
   "codemirror_mode": {
    "name": "ipython",
    "version": 3
   },
   "file_extension": ".py",
   "mimetype": "text/x-python",
   "name": "python",
   "nbconvert_exporter": "python",
   "pygments_lexer": "ipython3",
   "version": "3.8.0"
  }
 },
 "nbformat": 4,
 "nbformat_minor": 4
}
