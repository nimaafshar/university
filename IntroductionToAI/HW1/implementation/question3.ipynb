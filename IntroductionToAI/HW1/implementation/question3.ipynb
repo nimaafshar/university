{
 "cells": [
  {
   "cell_type": "markdown",
   "metadata": {},
   "source": [
    "# بخش ۱"
   ]
  },
  {
   "cell_type": "code",
   "execution_count": 6,
   "metadata": {},
   "outputs": [],
   "source": [
    "import numpy as np\n",
    "import matplotlib.pyplot as plt"
   ]
  },
  {
   "cell_type": "code",
   "execution_count": 7,
   "metadata": {},
   "outputs": [],
   "source": [
    "board=np.loadtxt('./Environment.txt',delimiter=',')"
   ]
  },
  {
   "cell_type": "code",
   "execution_count": 8,
   "metadata": {},
   "outputs": [
    {
     "data": {
      "text/plain": [
       "<matplotlib.image.AxesImage at 0x7f7cbd417a60>"
      ]
     },
     "execution_count": 8,
     "metadata": {},
     "output_type": "execute_result"
    },
    {
     "data": {
      "image/png": "[encoded data removed]",
      "text/plain": [
       "<Figure size 432x288 with 1 Axes>"
      ]
     },
     "metadata": {
      "needs_background": "light"
     },
     "output_type": "display_data"
    }
   ],
   "source": [
    "#now we show array as an image\n",
    "plt.imshow(board)"
   ]
  },
  {
   "cell_type": "code",
   "execution_count": 9,
   "metadata": {},
   "outputs": [
    {
     "name": "stdout",
     "output_type": "stream",
     "text": [
      "0.0\n"
     ]
    },
    {
     "data": {
      "text/plain": [
       "(30, 30)"
      ]
     },
     "execution_count": 9,
     "metadata": {},
     "output_type": "execute_result"
    }
   ],
   "source": [
    "print(board[0,5])\n",
    "board.shape"
   ]
  },
  {
   "cell_type": "markdown",
   "metadata": {},
   "source": [
    "# بخش ۲"
   ]
  },
  {
   "cell_type": "markdown",
   "metadata": {},
   "source": [
    "## Implementing Uniform Cost Search"
   ]
  },
  {
   "cell_type": "code",
   "execution_count": 1,
   "metadata": {},
   "outputs": [],
   "source": [
    "from queue import PriorityQueue\n",
    "from platform import python_version\n",
    "from dataclasses import dataclass,field\n",
    "from typing import Tuple,List,Union,Set,Type,Dict"
   ]
  },
  {
   "cell_type": "code",
   "execution_count": 2,
   "metadata": {},
   "outputs": [],
   "source": [
    "@dataclass(order=True)\n",
    "class Node:\n",
    "    cost: int = field(compare=True,default=None)\n",
    "    location: Tuple[int, int] = field(compare=False,default=None) # thus == operator only means being at the same location\n",
    "    actions: Union[None,List[Union['u','d','l','r']]] = field(compare=False,default=None)\n",
    "    def __hash__(self):\n",
    "        return self.location[0]* 30 + self.location[1]\n",
    "    \n",
    "    def __eq__(self,other):\n",
    "        return self.location[0] == other.location[0] and self.location[1] == other.location[1]\n",
    "    \n",
    "#     def __lt__(self,other):\n",
    "        "
   ]
  },
  {
   "cell_type": "code",
   "execution_count": 3,
   "metadata": {},
   "outputs": [],
   "source": [
    "def get_children(node: Node):\n",
    "    MIN=0\n",
    "    MAX=29\n",
    "    actions = [('u',-1,0,2),('d',+1,0,3),('l',0,-1,1),('r',0,+1,1)]\n",
    "    children = []\n",
    "    for action,row_delta,col_delta,cost in actions:\n",
    "        row = node.location[0] + row_delta\n",
    "        col = node.location[1] + col_delta\n",
    "        if MIN <= row <= MAX and MIN <= col <= MAX and board[row,col] == 0:\n",
    "            child = Node(location=(row,col),actions=node.actions + [action],cost=node.cost+cost)\n",
    "            children.append(child)\n",
    "    return children"
   ]
  },
  {
   "cell_type": "code",
   "execution_count": 4,
   "metadata": {},
   "outputs": [],
   "source": [
    "def uniform_cost_search(start_location: Tuple[int,int],goal_location:Tuple[int, int]):\n",
    "    pqueue = PriorityQueue()\n",
    "    visited: Set[Type(\"Node\")] = set()\n",
    "    start_node = Node(location=start_location,cost=0,actions=[])\n",
    "    pqueue.put(start_node)\n",
    "    while not pqueue.empty():\n",
    "        node = pqueue.get()\n",
    "        if node.location == goal_location:\n",
    "            return node\n",
    "        if node in visited:\n",
    "            continue\n",
    "        visited.add(node)\n",
    "        children = get_children(node)\n",
    "        for child in children:\n",
    "            if child not in visited:\n",
    "                pqueue.put(child)\n",
    "    return None"
   ]
  },
  {
   "cell_type": "code",
   "execution_count": 26,
   "metadata": {},
   "outputs": [
    {
     "data": {
      "text/plain": [
       "Node(cost=93, location=(23, 24), actions=['r', 'r', 'r', 'r', 'r', 'r', 'r', 'r', 'r', 'r', 'r', 'r', 'r', 'r', 'r', 'r', 'r', 'r', 'r', 'r', 'd', 'd', 'd', 'd', 'r', 'r', 'r', 'r', 'd', 'd', 'd', 'd', 'd', 'd', 'd', 'd', 'd', 'd', 'd', 'd', 'd', 'd', 'd', 'd', 'd', 'd', 'd'])"
      ]
     },
     "execution_count": 26,
     "metadata": {},
     "output_type": "execute_result"
    }
   ],
   "source": [
    "uniform_cost_search((0,0),(23,24))"
   ]
  },
  {
   "cell_type": "code",
   "execution_count": 27,
   "metadata": {},
   "outputs": [
    {
     "data": {
      "text/plain": [
       "Node(cost=78, location=(17, 29), actions=['d', 'd', 'd', 'd', 'd', 'r', 'r', 'u', 'u', 'u', 'u', 'r', 'r', 'r', 'd', 'r', 'r', 'd', 'r', 'r', 'r', 'r', 'r', 'r', 'r', 'r', 'r', 'r', 'r', 'r', 'r', 'r', 'r', 'r', 'u', 'u', 'u', 'u', 'u', 'u', 'r', 'r', 'r', 'r', 'd', 'd', 'd', 'r'])"
      ]
     },
     "execution_count": 27,
     "metadata": {},
     "output_type": "execute_result"
    }
   ],
   "source": [
    "uniform_cost_search((17,1),(17,29))"
   ]
  },
  {
   "cell_type": "markdown",
   "metadata": {},
   "source": [
    "## Implementing A* Search"
   ]
  },
  {
   "cell_type": "code",
   "execution_count": 18,
   "metadata": {},
   "outputs": [],
   "source": [
    "@dataclass(order=True)\n",
    "class BNode:\n",
    "    score: int = field(compare=True,default=None)\n",
    "    cost: int = field(compare=False,default=None) # total cost from start node to here\n",
    "    heuristic: int = field(compare=False,default=None)\n",
    "    location: Tuple[int, int] = field(compare=False,default=None) # thus == operator only means being at the same location\n",
    "    actions: Union[None,List[Union['u','d','l','r']]] = field(compare=False,default=None)\n",
    "        \n",
    "    def __hash__(self):\n",
    "        return self.location[0]* 30 + self.location[1]\n",
    "    \n",
    "    def __eq__(self,other):\n",
    "        return self.location[0] == other.location[0] and self.location[1] == other.location[1]"
   ]
  },
  {
   "cell_type": "code",
   "execution_count": 19,
   "metadata": {},
   "outputs": [],
   "source": [
    "def get_heuristic(start_location: Tuple[int, int], end_location: Tuple[int, int]):\n",
    "    #this function calculates cost of the ideal path from start to end\n",
    "    cost = abs(start_location[1] - end_location[1])\n",
    "    if end_location[0] - start_location[0] > 0:\n",
    "        cost += 3*(end_location[0] - start_location[0])\n",
    "    else:\n",
    "        cost += 2*(start_location[0] - end_location[0])\n",
    "    return cost"
   ]
  },
  {
   "cell_type": "code",
   "execution_count": 20,
   "metadata": {},
   "outputs": [],
   "source": [
    "def get_BNode_children(node: BNode,goal_location: Tuple[int, int]):\n",
    "    MIN=0\n",
    "    MAX=29\n",
    "    actions = [('u',-1,0,2),('d',+1,0,3),('l',0,-1,1),('r',0,+1,1)]\n",
    "    children = []\n",
    "    for action,row_delta,col_delta,action_cost in actions:\n",
    "        row = node.location[0] + row_delta\n",
    "        col = node.location[1] + col_delta\n",
    "        if MIN <= row <= MAX and MIN <= col <= MAX and board[row,col] == 0:\n",
    "            h = get_heuristic((row,col),goal_location)\n",
    "            g = node.cost+action_cost\n",
    "            child = BNode(location=(row,col),actions=node.actions + [action],cost=g,heuristic=h,score=h+g)\n",
    "            children.append(child)\n",
    "    return children"
   ]
  },
  {
   "cell_type": "code",
   "execution_count": 21,
   "metadata": {},
   "outputs": [],
   "source": [
    "def a_star_search(start_location: Tuple[int,int],goal_location:Tuple[int, int]):\n",
    "    pqueue = PriorityQueue()\n",
    "    visited: Dict[Type(\"BNode\"),int] = dict()\n",
    "    h = get_heuristic(start_location,goal_location)\n",
    "    start_node = BNode(location=start_location,cost=0,actions=[],heuristic=h,score=h)\n",
    "    pqueue.put(start_node)\n",
    "    while not pqueue.empty():\n",
    "        node = pqueue.get()\n",
    "        if node.location == goal_location:\n",
    "            return node\n",
    "        #check if node is previously visited\n",
    "        if node in visited and visited[node] <= node.score:\n",
    "            continue\n",
    "        #visit node\n",
    "        visited[node] = node.score\n",
    "        \n",
    "        children = get_BNode_children(node,goal_location)\n",
    "        for child in children:\n",
    "            if not(child in visited and visited[child] <= child.score):\n",
    "                pqueue.put(child)\n",
    "    return None"
   ]
  },
  {
   "cell_type": "code",
   "execution_count": 24,
   "metadata": {},
   "outputs": [
    {
     "data": {
      "text/plain": [
       "BNode(score=93, cost=93, heuristic=0, location=(23, 24), actions=['r', 'd', 'r', 'r', 'r', 'r', 'r', 'r', 'r', 'r', 'r', 'r', 'r', 'r', 'r', 'r', 'r', 'r', 'r', 'r', 'r', 'r', 'd', 'r', 'r', 'd', 'r', 'd', 'd', 'd', 'd', 'd', 'd', 'd', 'd', 'd', 'd', 'd', 'd', 'd', 'd', 'd', 'd', 'd', 'd', 'd', 'd'])"
      ]
     },
     "execution_count": 24,
     "metadata": {},
     "output_type": "execute_result"
    }
   ],
   "source": [
    "a_star_search((0,0),(23,24))"
   ]
  },
  {
   "cell_type": "code",
   "execution_count": 25,
   "metadata": {},
   "outputs": [
    {
     "data": {
      "text/plain": [
       "BNode(score=78, cost=78, heuristic=0, location=(17, 29), actions=['d', 'd', 'd', 'd', 'd', 'r', 'r', 'u', 'u', 'u', 'r', 'u', 'r', 'r', 'd', 'd', 'r', 'r', 'r', 'r', 'r', 'r', 'r', 'r', 'r', 'r', 'r', 'r', 'r', 'r', 'r', 'r', 'r', 'r', 'u', 'u', 'u', 'u', 'u', 'r', 'u', 'r', 'r', 'r', 'd', 'd', 'd', 'r'])"
      ]
     },
     "execution_count": 25,
     "metadata": {},
     "output_type": "execute_result"
    }
   ],
   "source": [
    "a_star_search((17,1),(17,29))"
   ]
  },
  {
   "cell_type": "code",
   "execution_count": 28,
   "metadata": {},
   "outputs": [],
   "source": [
    "def visualize_path(path: List[Union['d','r','u','l']],board,start_location: Tuple[int, int]):\n",
    "    row,col = start_location\n",
    "    vis_board = np.copy(board)\n",
    "    vis_board[row,col]=2\n",
    "    action_map = {\n",
    "        'u':(-1,0),\n",
    "        'd':(+1,0),\n",
    "        'l':(0,-1),\n",
    "        'r':(0,+1)\n",
    "    }\n",
    "    for action in path:\n",
    "        row += action_map[action][0]\n",
    "        col += action_map[action][1]\n",
    "        vis_board[row,col]=2\n",
    "    plt.imshow(vis_board)"
   ]
  },
  {
   "cell_type": "markdown",
   "metadata": {},
   "source": [
    "## Visualizing A* Paths"
   ]
  },
  {
   "cell_type": "code",
   "execution_count": 34,
   "metadata": {},
   "outputs": [
    {
     "data": {
      "image/png": "[encoded data removed]",
      "text/plain": [
       "<Figure size 432x288 with 1 Axes>"
      ]
     },
     "metadata": {
      "needs_background": "light"
     },
     "output_type": "display_data"
    }
   ],
   "source": [
    "node = a_star_search((17,1),(17,29))\n",
    "visualize_path(node.actions,board,(17,1))"
   ]
  },
  {
   "cell_type": "code",
   "execution_count": 36,
   "metadata": {},
   "outputs": [
    {
     "data": {
      "image/png": "[encoded data removed]",
      "text/plain": [
       "<Figure size 432x288 with 1 Axes>"
      ]
     },
     "metadata": {
      "needs_background": "light"
     },
     "output_type": "display_data"
    }
   ],
   "source": [
    "node = a_star_search((0,0),(23,24))\n",
    "visualize_path(node.actions,board,(0,0))"
   ]
  },
  {
   "cell_type": "markdown",
   "metadata": {},
   "source": [
    "## Visualizing UCS Paths"
   ]
  },
  {
   "cell_type": "code",
   "execution_count": 37,
   "metadata": {},
   "outputs": [
    {
     "data": {
      "image/png": "[encoded data removed]",
      "text/plain": [
       "<Figure size 432x288 with 1 Axes>"
      ]
     },
     "metadata": {
      "needs_background": "light"
     },
     "output_type": "display_data"
    }
   ],
   "source": [
    "node = uniform_cost_search((17,1),(17,29))\n",
    "visualize_path(node.actions,board,(17,1))"
   ]
  },
  {
   "cell_type": "code",
   "execution_count": 40,
   "metadata": {},
   "outputs": [
    {
     "data": {
      "image/png": "[encoded data removed]",
      "text/plain": [
       "<Figure size 432x288 with 1 Axes>"
      ]
     },
     "metadata": {
      "needs_background": "light"
     },
     "output_type": "display_data"
    }
   ],
   "source": [
    "node = uniform_cost_search((0,0),(23,24))\n",
    "visualize_path(node.actions,board,(0,0))"
   ]
  },
  {
   "cell_type": "markdown",
   "metadata": {},
   "source": [
    "# توضیحات"
   ]
  },
  {
   "cell_type": "markdown",
   "metadata": {},
   "source": [
    "از فاصله‌ی منهتنی نقطه‌ی حاضر تا مقصد (البته فاصله منهتنی با در نظر گرفتن وزن جهت‌ها) به عنوان \n",
    "`heuristic`\n",
    "\n",
    "برای الگوریتم\n",
    "\n",
    "`A*`\n",
    "\n",
    "استفاده شده است."
   ]
  },
  {
   "cell_type": "markdown",
   "metadata": {},
   "source": [
    "در مقایسه‌ی این دو الگوریتم می‌توان گفت که از لحاظ مرتبه‌ی زمان اجرا یکسان هستند ولی اگر بخواهیم در واقعیت زمان اجرای آنها را ببینیم، آ-* به دلیل استفاده از معیار هیوریستیک (البته در صورتی که هیوریستیک مناسبی داشته باشد) می‌تواند به نسبت کمتر به بیراهه برود و سریع تر به مقصد نزدیک شود پس عملکرد بهتری دارد."
   ]
  },
  {
   "cell_type": "code",
   "execution_count": null,
   "metadata": {},
   "outputs": [],
   "source": []
  }
 ],
 "metadata": {
  "kernelspec": {
   "display_name": "Python 3",
   "language": "python",
   "name": "python3"
  },
  "language_info": {
   "codemirror_mode": {
    "name": "ipython",
    "version": 3
   },
   "file_extension": ".py",
   "mimetype": "text/x-python",
   "name": "python",
   "nbconvert_exporter": "python",
   "pygments_lexer": "ipython3",
   "version": "3.8.0"
  }
 },
 "nbformat": 4,
 "nbformat_minor": 4
}
