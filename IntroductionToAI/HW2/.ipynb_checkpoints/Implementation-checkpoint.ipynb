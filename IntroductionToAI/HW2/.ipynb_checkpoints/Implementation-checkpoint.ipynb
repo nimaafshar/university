{
 "cells": [
  {
   "cell_type": "markdown",
   "metadata": {},
   "source": [
    "# تمرین ۲ هوش\n",
    "\n",
    "نیما افشار\n",
    "۹۷۱۳۰۰۴"
   ]
  },
  {
   "cell_type": "markdown",
   "metadata": {},
   "source": [
    "## Implementing 8-queens problem with genetic algorithms\n",
    "![](photo.jpg)\n",
    "every map is shown by an string of length 8"
   ]
  },
  {
   "cell_type": "code",
   "execution_count": 4,
   "metadata": {},
   "outputs": [],
   "source": [
    "from itertools import combinations\n",
    "import random\n",
    "class NQueensSolver:\n",
    "    \n",
    "    def __init__(self,k=100,mutation_prob=0.1,crossover_place=(0.3,0.7),max_round=1000,fitness_max=28):\n",
    "        \"\"\"\n",
    "        k is the population count\n",
    "        mutation_prob the small probability of mutation\n",
    "        crossover_place = (start,end) range of crossover places\n",
    "        max_round : maximum rounds to run and then return failure\n",
    "        fitness_max: fitness of the goal state\n",
    "        \"\"\"\n",
    "        self.k = k\n",
    "        self.population = []\n",
    "        self.mutation_prob = mutation_prob\n",
    "        self.crossover_place = crossover_place\n",
    "        self.max_round = max_round\n",
    "        self.fitness_distribution = []\n",
    "        self.fitness_max = fitness_max\n",
    "    \n",
    "    \n",
    "    @staticmethod\n",
    "    def fitness(board:str):\n",
    "        \"\"\"\n",
    "        board is the 8-digit numeric string that represents the state\n",
    "        this function returns the number of non-threathening pair of queens in this chess board(state)\n",
    "        \"\"\"\n",
    "        if not (len(board) == 8 and board.isnumeric()):\n",
    "            raise Exception(f\"board is not in the correct format: {board}\")\n",
    "        #adding coordinations to a list\n",
    "        coords = list(enumerate([int(c) for c in board],1))\n",
    "        non_threthening = 0\n",
    "        for a,b in combinations(coords,2):\n",
    "            if a[0] != b[0] and \\\n",
    "                a[1] != b[1] and \\\n",
    "                b[1] - a[1] != b[0] - a[0] and \\\n",
    "                b[1] - a[1] != -1*(b[0] - a[0]):\n",
    "                non_threthening +=1\n",
    "        return non_threthening\n",
    "    \n",
    "    def generate_random_board(self):\n",
    "        \"\"\"\n",
    "        it generates a random board for initial population\n",
    "        \"\"\"\n",
    "        board = [str(random.randint(a=1,b=8)) for i in range(8)]\n",
    "        return ''.join(board)\n",
    "    \n",
    "    @staticmethod\n",
    "    def mutate(board:str):\n",
    "        \"\"\"\n",
    "        it mutates one charachter in board randomly\n",
    "        \"\"\"\n",
    "        board = [int(c) for c in board]\n",
    "        place = random.randint(0,7)\n",
    "        alternate = random.randint(1,8)\n",
    "        board[place] = alternate\n",
    "        return ''.join([str(c) for c in board])\n",
    "    \n",
    "    def crossover(self,a_board:str,b_borad:str):\n",
    "        \"\"\"\n",
    "        this function produces a child from 2 parent states using slicing and concatnation of 2 board string\n",
    "        based of crossover place chosen in the costructor function\n",
    "        \"\"\"\n",
    "        place = int((random.random()*(self.crossover_place[1] - self.crossover_place[0])+self.crossover_place[0])*8)\n",
    "        return a_board[:place+1] + b_borad[place+1:]\n",
    "        \n",
    "    @staticmethod\n",
    "    def print_board(board:str):\n",
    "        \"\"\"\n",
    "        it prints the chess board(state) given\n",
    "        \"\"\"\n",
    "        board = [int(c) for c in board]\n",
    "        for i in range(8):\n",
    "            for j in range(8):\n",
    "                if board[j] == 8-i:\n",
    "                    print('Q',end=' ')\n",
    "                else:\n",
    "                    print('_',end=' ')\n",
    "            print()\n",
    "    \n",
    "    def calculate_distribution(self):\n",
    "        \"\"\"\n",
    "        it calculates the fitness distribution for present population\n",
    "        \"\"\"\n",
    "        dist = []\n",
    "        fitness_sum = 0\n",
    "        for board in self.population:\n",
    "            fitness = self.fitness(board)\n",
    "            dist.append(fitness)\n",
    "            fitness_sum += fitness\n",
    "        self.fitness_distribution = [f/fitness_sum for f in dist]\n",
    "            \n",
    "    def random_selection(self):\n",
    "        \"\"\"\n",
    "        returns a board from self.population with self.fitness_distribution as weights\n",
    "        \"\"\"\n",
    "        return random.choices(self.population,weights=self.fitness_distribution)[0]\n",
    "    \n",
    "    def run(self):\n",
    "        \"\"\"\n",
    "        Implementation of the genetic algorithm\n",
    "        returns the board in case of success, and None in case of failure\n",
    "        \"\"\"\n",
    "        self.population = [self.generate_random_board() for i in range(self.k)]\n",
    "        round_counter = 0\n",
    "        while(round_counter < self.max_round):\n",
    "            round_counter +=1\n",
    "            new_population = []\n",
    "            self.calculate_distribution()\n",
    "            for i in range(self.k):\n",
    "                a_board = self.random_selection()\n",
    "                b_board = self.random_selection()\n",
    "                child_board = self.crossover(a_board,b_board)\n",
    "                if random.random() <= self.mutation_prob:\n",
    "                    child_board = self.mutate(child_board)\n",
    "                new_population.append(child_board)\n",
    "                if(self.fitness(child_board) == self.fitness_max):\n",
    "                    return child_board\n",
    "            self.population = new_population\n",
    "        return None"
   ]
  },
  {
   "cell_type": "code",
   "execution_count": 7,
   "metadata": {},
   "outputs": [],
   "source": [
    "solver = NQueensSolver(k=100,max_round=1000)\n",
    "goal_board =solver.run()"
   ]
  },
  {
   "cell_type": "code",
   "execution_count": 8,
   "metadata": {},
   "outputs": [
    {
     "data": {
      "text/plain": [
       "'36815724'"
      ]
     },
     "execution_count": 8,
     "metadata": {},
     "output_type": "execute_result"
    }
   ],
   "source": [
    "goal_board"
   ]
  },
  {
   "cell_type": "code",
   "execution_count": 9,
   "metadata": {},
   "outputs": [
    {
     "name": "stdout",
     "output_type": "stream",
     "text": [
      "_ _ Q _ _ _ _ _ \n",
      "_ _ _ _ _ Q _ _ \n",
      "_ Q _ _ _ _ _ _ \n",
      "_ _ _ _ Q _ _ _ \n",
      "_ _ _ _ _ _ _ Q \n",
      "Q _ _ _ _ _ _ _ \n",
      "_ _ _ _ _ _ Q _ \n",
      "_ _ _ Q _ _ _ _ \n"
     ]
    }
   ],
   "source": [
    "solver.print_board(goal_board)"
   ]
  },
  {
   "cell_type": "code",
   "execution_count": null,
   "metadata": {},
   "outputs": [],
   "source": []
  }
 ],
 "metadata": {
  "kernelspec": {
   "display_name": "Python 3",
   "language": "python",
   "name": "python3"
  },
  "language_info": {
   "codemirror_mode": {
    "name": "ipython",
    "version": 3
   },
   "file_extension": ".py",
   "mimetype": "text/x-python",
   "name": "python",
   "nbconvert_exporter": "python",
   "pygments_lexer": "ipython3",
   "version": "3.8.0"
  }
 },
 "nbformat": 4,
 "nbformat_minor": 4
}
